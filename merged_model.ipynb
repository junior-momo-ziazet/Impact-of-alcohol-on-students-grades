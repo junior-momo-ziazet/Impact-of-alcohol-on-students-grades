{
 "cells": [
  {
   "cell_type": "code",
   "execution_count": 311,
   "id": "parallel-brunswick",
   "metadata": {},
   "outputs": [],
   "source": [
    "import pandas as pd\n",
    "import numpy as np\n",
    "from sklearn.model_selection import train_test_split\n",
    "from sklearn.metrics import f1_score, classification_report, confusion_matrix, ConfusionMatrixDisplay\n",
    "from sklearn.model_selection import GridSearchCV, RandomizedSearchCV\n",
    "import matplotlib.pyplot as plt"
   ]
  },
  {
   "cell_type": "markdown",
   "id": "decreased-orchestra",
   "metadata": {},
   "source": [
    "# Data Preprocessing"
   ]
  },
  {
   "cell_type": "code",
   "execution_count": 312,
   "id": "qualified-composer",
   "metadata": {},
   "outputs": [],
   "source": [
    "df = pd.read_csv(\"./dataset.csv\")"
   ]
  },
  {
   "cell_type": "markdown",
   "id": "protecting-crossing",
   "metadata": {},
   "source": [
    "#### Dataset Vizualization"
   ]
  },
  {
   "cell_type": "code",
   "execution_count": 313,
   "id": "negative-witch",
   "metadata": {},
   "outputs": [],
   "source": [
    "malicious_count = len(df[df['is_malicious']==1])\n",
    "benign_count = len(df[df['is_malicious']==0])"
   ]
  },
  {
   "cell_type": "code",
   "execution_count": 314,
   "id": "center-platinum",
   "metadata": {},
   "outputs": [],
   "source": [
    "labels = [\"Benign\", \"Malicious\"]\n",
    "frequency = [benign_count, malicious_count]"
   ]
  },
  {
   "cell_type": "code",
   "execution_count": 315,
   "id": "given-freeware",
   "metadata": {},
   "outputs": [
    {
     "data": {
      "image/png": "[encoded data removed]",
      "text/plain": [
       "<Figure size 432x288 with 1 Axes>"
      ]
     },
     "metadata": {
      "needs_background": "light"
     },
     "output_type": "display_data"
    }
   ],
   "source": [
    "plt.bar(labels, frequency, width=0.5)\n",
    "plt.xlabel(\"Type\")\n",
    "plt.ylabel(\"Frequency\")\n",
    "plt.title(\"Frequency of the labels in the Dataset\")\n",
    "plt.show()"
   ]
  },
  {
   "cell_type": "markdown",
   "id": "billion-movie",
   "metadata": {},
   "source": [
    "#### Data Split"
   ]
  },
  {
   "cell_type": "code",
   "execution_count": 316,
   "id": "concrete-observer",
   "metadata": {},
   "outputs": [],
   "source": [
    "X = df.drop([\"id\", \"is_malicious\"], axis=1)\n",
    "y = df[\"is_malicious\"]\n",
    "\n",
    "X_train, X_test, y_train, y_test = train_test_split(X, y, test_size=0.2, random_state=42)"
   ]
  },
  {
   "cell_type": "markdown",
   "id": "magnetic-tucson",
   "metadata": {},
   "source": [
    "#### Normalization"
   ]
  },
  {
   "cell_type": "code",
   "execution_count": 317,
   "id": "powerful-contrary",
   "metadata": {},
   "outputs": [],
   "source": [
    "from sklearn.preprocessing import StandardScaler, MinMaxScaler\n",
    "\n",
    "scaler = MinMaxScaler()\n",
    "scaler.fit(X_train)\n",
    "\n",
    "X_train = scaler.transform(X_train)\n",
    "X_test = scaler.transform(X_test)"
   ]
  },
  {
   "cell_type": "markdown",
   "id": "surface-incidence",
   "metadata": {},
   "source": [
    "# Model Training"
   ]
  },
  {
   "cell_type": "markdown",
   "id": "duplicate-peeing",
   "metadata": {},
   "source": [
    "## Random Forest"
   ]
  },
  {
   "cell_type": "code",
   "execution_count": 323,
   "id": "driving-pacific",
   "metadata": {},
   "outputs": [],
   "source": [
    "from sklearn.ensemble import RandomForestClassifier\n",
    "\n",
    "rfclf = RandomForestClassifier()"
   ]
  },
  {
   "cell_type": "code",
   "execution_count": 324,
   "id": "transsexual-diana",
   "metadata": {},
   "outputs": [],
   "source": [
    "params_rf = {\n",
    "    \"n_estimators\": [800, 1200, 2000],\n",
    "    \"max_depth\": [500, 600, 700],\n",
    "    \"min_samples_split\": [2, 5, 10],\n",
    "    \"min_samples_leaf\": [1, 2, 5]\n",
    "}"
   ]
  },
  {
   "cell_type": "markdown",
   "id": "current-alarm",
   "metadata": {},
   "source": [
    "#### Training"
   ]
  },
  {
   "cell_type": "code",
   "execution_count": 325,
   "id": "simplified-anime",
   "metadata": {},
   "outputs": [
    {
     "data": {
      "text/plain": [
       "RandomizedSearchCV(cv=10, estimator=RandomForestClassifier(), n_jobs=-1,\n",
       "                   param_distributions={'max_depth': [500, 600, 700],\n",
       "                                        'min_samples_leaf': [1, 2, 5],\n",
       "                                        'min_samples_split': [2, 5, 10],\n",
       "                                        'n_estimators': [800, 1200, 2000]},\n",
       "                   random_state=42, scoring='f1')"
      ]
     },
     "execution_count": 325,
     "metadata": {},
     "output_type": "execute_result"
    }
   ],
   "source": [
    "rf = RandomizedSearchCV(rfclf, params_rf, cv=10, scoring=\"f1\", n_jobs=-1, random_state=42)\n",
    "rf.fit(X_train, y_train)"
   ]
  },
  {
   "cell_type": "markdown",
   "id": "every-extra",
   "metadata": {},
   "source": [
    "#### Results"
   ]
  },
  {
   "cell_type": "code",
   "execution_count": 326,
   "id": "significant-bailey",
   "metadata": {},
   "outputs": [],
   "source": [
    "rf_pred = rf.predict(X_test)"
   ]
  },
  {
   "cell_type": "code",
   "execution_count": 327,
   "id": "super-continuity",
   "metadata": {},
   "outputs": [
    {
     "name": "stdout",
     "output_type": "stream",
     "text": [
      "              precision    recall  f1-score   support\n",
      "\n",
      "           0       0.92      0.89      0.90      1059\n",
      "           1       0.89      0.92      0.91      1097\n",
      "\n",
      "    accuracy                           0.91      2156\n",
      "   macro avg       0.91      0.91      0.91      2156\n",
      "weighted avg       0.91      0.91      0.91      2156\n",
      "\n"
     ]
    }
   ],
   "source": [
    "rf_score = f1_score(rf_pred, y_test)\n",
    "print(classification_report(rf_pred, y_test))"
   ]
  },
  {
   "cell_type": "markdown",
   "id": "furnished-freedom",
   "metadata": {},
   "source": [
    "## Decision Tree"
   ]
  },
  {
   "cell_type": "code",
   "execution_count": 43,
   "id": "monthly-south",
   "metadata": {},
   "outputs": [],
   "source": [
    "from sklearn.tree import DecisionTreeClassifier\n",
    "\n",
    "dtclf = DecisionTreeClassifier()"
   ]
  },
  {
   "cell_type": "code",
   "execution_count": 44,
   "id": "designed-anime",
   "metadata": {},
   "outputs": [],
   "source": [
    "params_dt = {\n",
    "    \"criterion\": [\"gini\", \"entropy\"],\n",
    "    \"max_depth\": [1000, 1500, 2000, 2500],\n",
    "    \"min_samples_split\": [2, 5, 10, 15, 100],\n",
    "    \"min_samples_leaf\": [1, 2, 5, 10]\n",
    "}"
   ]
  },
  {
   "cell_type": "markdown",
   "id": "necessary-enlargement",
   "metadata": {},
   "source": [
    "#### Training"
   ]
  },
  {
   "cell_type": "code",
   "execution_count": null,
   "id": "wooden-catalyst",
   "metadata": {},
   "outputs": [],
   "source": [
    "dt = RandomizedSearchCV(dtclf, params_dt, cv=10, scoring=\"f1\", n_jobs=-1, random_state=42)\n",
    "dt.fit(X_train, y_train)"
   ]
  },
  {
   "cell_type": "markdown",
   "id": "vietnamese-breach",
   "metadata": {},
   "source": [
    "#### Results"
   ]
  },
  {
   "cell_type": "code",
   "execution_count": 46,
   "id": "editorial-harvey",
   "metadata": {},
   "outputs": [],
   "source": [
    "dt_pred = dt.predict(X_test)"
   ]
  },
  {
   "cell_type": "code",
   "execution_count": 47,
   "id": "uniform-smile",
   "metadata": {},
   "outputs": [
    {
     "name": "stdout",
     "output_type": "stream",
     "text": [
      "              precision    recall  f1-score   support\n",
      "\n",
      "           0       0.87      0.89      0.88      1000\n",
      "           1       0.90      0.88      0.89      1156\n",
      "\n",
      "    accuracy                           0.88      2156\n",
      "   macro avg       0.88      0.89      0.88      2156\n",
      "weighted avg       0.89      0.88      0.89      2156\n",
      "\n"
     ]
    }
   ],
   "source": [
    "dt_score = f1_score(dt_pred, y_test)\n",
    "print(classification_report(dt_pred, y_test))"
   ]
  },
  {
   "cell_type": "markdown",
   "id": "increasing-moral",
   "metadata": {},
   "source": [
    "## KNN"
   ]
  },
  {
   "cell_type": "code",
   "execution_count": 56,
   "id": "alternate-minister",
   "metadata": {},
   "outputs": [],
   "source": [
    "from sklearn.neighbors import KNeighborsClassifier\n",
    "\n",
    "knnclf = KNeighborsClassifier()"
   ]
  },
  {
   "cell_type": "code",
   "execution_count": 57,
   "id": "restricted-target",
   "metadata": {},
   "outputs": [],
   "source": [
    "params_knn = {\n",
    "    \"n_neighbors\": range(3,100,2)\n",
    "}"
   ]
  },
  {
   "cell_type": "markdown",
   "id": "moved-orlando",
   "metadata": {},
   "source": [
    "#### Training"
   ]
  },
  {
   "cell_type": "code",
   "execution_count": null,
   "id": "configured-marshall",
   "metadata": {},
   "outputs": [],
   "source": [
    "knn = RandomizedSearchCV(knnclf, params_knn, cv=10, scoring=\"f1\", n_jobs=-1, random_state=42)\n",
    "knn.fit(X_train, y_train)"
   ]
  },
  {
   "cell_type": "markdown",
   "id": "provincial-inspector",
   "metadata": {},
   "source": [
    "#### Results"
   ]
  },
  {
   "cell_type": "code",
   "execution_count": 59,
   "id": "separated-stack",
   "metadata": {},
   "outputs": [],
   "source": [
    "knn_pred = knn.predict(X_test)"
   ]
  },
  {
   "cell_type": "code",
   "execution_count": 60,
   "id": "artistic-washington",
   "metadata": {},
   "outputs": [
    {
     "name": "stdout",
     "output_type": "stream",
     "text": [
      "              precision    recall  f1-score   support\n",
      "\n",
      "           0       0.90      0.85      0.88      1081\n",
      "           1       0.86      0.90      0.88      1075\n",
      "\n",
      "    accuracy                           0.88      2156\n",
      "   macro avg       0.88      0.88      0.88      2156\n",
      "weighted avg       0.88      0.88      0.88      2156\n",
      "\n"
     ]
    }
   ],
   "source": [
    "knn_score = f1_score(knn_pred, y_test)\n",
    "print(classification_report(knn_pred, y_test))"
   ]
  },
  {
   "cell_type": "markdown",
   "id": "clinical-louis",
   "metadata": {},
   "source": [
    "## MLP"
   ]
  },
  {
   "cell_type": "code",
   "execution_count": 318,
   "id": "subjective-greece",
   "metadata": {},
   "outputs": [],
   "source": [
    "from sklearn.neural_network import MLPClassifier\n",
    "\n",
    "mlpclf = MLPClassifier()"
   ]
  },
  {
   "cell_type": "code",
   "execution_count": 319,
   "id": "bottom-spank",
   "metadata": {},
   "outputs": [],
   "source": [
    "params_mlp = {\n",
    "    'hidden_layer_sizes': [(50,50,50), (50,100,50), (100,)],\n",
    "    'activation': ['tanh', 'relu'],\n",
    "    'solver': ['sgd', 'adam'],\n",
    "    'alpha': [0.0001, 0.05],\n",
    "    'learning_rate': ['constant','adaptive'],\n",
    "}"
   ]
  },
  {
   "cell_type": "markdown",
   "id": "architectural-marks",
   "metadata": {},
   "source": [
    "#### Training"
   ]
  },
  {
   "cell_type": "code",
   "execution_count": 320,
   "id": "ahead-happening",
   "metadata": {},
   "outputs": [
    {
     "data": {
      "text/plain": [
       "RandomizedSearchCV(cv=10, estimator=MLPClassifier(), n_jobs=-1,\n",
       "                   param_distributions={'activation': ['tanh', 'relu'],\n",
       "                                        'alpha': [0.0001, 0.05],\n",
       "                                        'hidden_layer_sizes': [(50, 50, 50),\n",
       "                                                               (50, 100, 50),\n",
       "                                                               (100,)],\n",
       "                                        'learning_rate': ['constant',\n",
       "                                                          'adaptive'],\n",
       "                                        'solver': ['sgd', 'adam']},\n",
       "                   random_state=42, scoring='f1')"
      ]
     },
     "execution_count": 320,
     "metadata": {},
     "output_type": "execute_result"
    }
   ],
   "source": [
    "mlp = RandomizedSearchCV(mlpclf, params_mlp, cv=10, scoring=\"f1\", n_jobs=-1, random_state=42)\n",
    "mlp.fit(X_train, y_train)"
   ]
  },
  {
   "cell_type": "markdown",
   "id": "sublime-taxation",
   "metadata": {},
   "source": [
    "#### Results"
   ]
  },
  {
   "cell_type": "code",
   "execution_count": 321,
   "id": "arranged-theory",
   "metadata": {},
   "outputs": [],
   "source": [
    "mlp_pred = mlp.predict(X_test)"
   ]
  },
  {
   "cell_type": "code",
   "execution_count": 322,
   "id": "union-contributor",
   "metadata": {},
   "outputs": [
    {
     "name": "stdout",
     "output_type": "stream",
     "text": [
      "              precision    recall  f1-score   support\n",
      "\n",
      "           0       0.89      0.89      0.89      1025\n",
      "           1       0.90      0.90      0.90      1131\n",
      "\n",
      "    accuracy                           0.90      2156\n",
      "   macro avg       0.90      0.90      0.90      2156\n",
      "weighted avg       0.90      0.90      0.90      2156\n",
      "\n"
     ]
    }
   ],
   "source": [
    "mlp_score = f1_score(mlp_pred, y_test)\n",
    "print(classification_report(mlp_pred, y_test))"
   ]
  },
  {
   "cell_type": "markdown",
   "id": "sensitive-macintosh",
   "metadata": {},
   "source": [
    "## SVC"
   ]
  },
  {
   "cell_type": "code",
   "execution_count": 19,
   "id": "persistent-jimmy",
   "metadata": {},
   "outputs": [],
   "source": [
    "from sklearn.svm import SVC\n",
    "\n",
    "svclf = SVC()"
   ]
  },
  {
   "cell_type": "code",
   "execution_count": 20,
   "id": "crazy-bradley",
   "metadata": {},
   "outputs": [],
   "source": [
    "params_svc = {\n",
    "    \"kernel\": [\"linear\", \"rbf\", \"poly\"],\n",
    "    \"gamma\": [0.1, 1, 10],\n",
    "    \"C\": [0.1, 1, 10],\n",
    "    \"degree\": [0, 4]\n",
    "}"
   ]
  },
  {
   "cell_type": "markdown",
   "id": "brilliant-feature",
   "metadata": {},
   "source": [
    "#### Training"
   ]
  },
  {
   "cell_type": "code",
   "execution_count": null,
   "id": "amateur-bonus",
   "metadata": {},
   "outputs": [],
   "source": [
    "svc = RandomizedSearchCV(svclf, params_svc, cv=10, scoring=\"f1\", n_jobs=-1, random_state=42)\n",
    "svc.fit(X_train, y_train)"
   ]
  },
  {
   "cell_type": "markdown",
   "id": "satisfied-commodity",
   "metadata": {},
   "source": [
    "#### Results"
   ]
  },
  {
   "cell_type": "code",
   "execution_count": 22,
   "id": "rocky-chapter",
   "metadata": {},
   "outputs": [],
   "source": [
    "svc_pred = svc.predict(X_test)"
   ]
  },
  {
   "cell_type": "code",
   "execution_count": 23,
   "id": "fifth-racing",
   "metadata": {},
   "outputs": [
    {
     "name": "stdout",
     "output_type": "stream",
     "text": [
      "              precision    recall  f1-score   support\n",
      "\n",
      "           0       0.90      0.89      0.90      1035\n",
      "           1       0.90      0.91      0.90      1121\n",
      "\n",
      "    accuracy                           0.90      2156\n",
      "   macro avg       0.90      0.90      0.90      2156\n",
      "weighted avg       0.90      0.90      0.90      2156\n",
      "\n"
     ]
    }
   ],
   "source": [
    "svc_score = f1_score(svc_pred, y_test)\n",
    "print(classification_report(svc_pred, y_test))"
   ]
  },
  {
   "cell_type": "markdown",
   "id": "protective-ratio",
   "metadata": {},
   "source": [
    "## Naive-Bayes"
   ]
  },
  {
   "cell_type": "code",
   "execution_count": 94,
   "id": "informative-drove",
   "metadata": {},
   "outputs": [],
   "source": [
    "from sklearn.naive_bayes import GaussianNB\n",
    "\n",
    "nbclf = GaussianNB()"
   ]
  },
  {
   "cell_type": "code",
   "execution_count": 95,
   "id": "arctic-ratio",
   "metadata": {},
   "outputs": [],
   "source": [
    "params_nb = {\n",
    "    'var_smoothing': np.logspace(0,-9, num=100)\n",
    "}"
   ]
  },
  {
   "cell_type": "markdown",
   "id": "expired-percentage",
   "metadata": {},
   "source": [
    "#### Training"
   ]
  },
  {
   "cell_type": "code",
   "execution_count": null,
   "id": "ethical-stockholm",
   "metadata": {},
   "outputs": [],
   "source": [
    "nb = RandomizedSearchCV(nbclf, params_nb, cv=10, scoring=\"f1\", n_jobs=-1, random_state=42)\n",
    "nb.fit(X_train, y_train)"
   ]
  },
  {
   "cell_type": "markdown",
   "id": "regional-baghdad",
   "metadata": {},
   "source": [
    "#### Results"
   ]
  },
  {
   "cell_type": "code",
   "execution_count": 97,
   "id": "raised-season",
   "metadata": {},
   "outputs": [],
   "source": [
    "nb_pred = nb.predict(X_test)"
   ]
  },
  {
   "cell_type": "code",
   "execution_count": 98,
   "id": "radio-invalid",
   "metadata": {},
   "outputs": [
    {
     "name": "stdout",
     "output_type": "stream",
     "text": [
      "              precision    recall  f1-score   support\n",
      "\n",
      "           0       0.15      0.95      0.25       157\n",
      "           1       0.99      0.56      0.72      1999\n",
      "\n",
      "    accuracy                           0.59      2156\n",
      "   macro avg       0.57      0.76      0.49      2156\n",
      "weighted avg       0.93      0.59      0.68      2156\n",
      "\n"
     ]
    }
   ],
   "source": [
    "nb_score = f1_score(nb_pred, y_test)\n",
    "print(classification_report(nb_pred, y_test))"
   ]
  },
  {
   "cell_type": "markdown",
   "id": "paperback-calculator",
   "metadata": {},
   "source": [
    "# Analysis"
   ]
  },
  {
   "cell_type": "code",
   "execution_count": 145,
   "id": "active-cherry",
   "metadata": {},
   "outputs": [],
   "source": [
    "scores = [rf_score, dt_score, knn_score, mlp_score, svc_score, nb_score]\n",
    "labels = [\"RF\", \"DT\", \"KNN\", \"MLP\", \"SVC\", \"NB\"]"
   ]
  },
  {
   "cell_type": "code",
   "execution_count": 148,
   "id": "cooperative-harvard",
   "metadata": {
    "scrolled": false
   },
   "outputs": [
    {
     "data": {
      "image/png": "[encoded data removed]",
      "text/plain": [
       "<Figure size 640x480 with 1 Axes>"
      ]
     },
     "metadata": {},
     "output_type": "display_data"
    }
   ],
   "source": [
    "plt.rcdefaults()\n",
    "fig, ax = plt.subplots()\n",
    "ax.barh(labels, scores)\n",
    "plt.xlim([0.70, 0.95])\n",
    "plt.xlabel(\"F1 Score\")\n",
    "plt.ylabel(\"Model\")\n",
    "plt.title(\"Comparison of different Models Prediction Results using the Merged Dataset\")\n",
    "plt.show()"
   ]
  },
  {
   "cell_type": "markdown",
   "id": "tropical-database",
   "metadata": {},
   "source": [
    "# Results"
   ]
  },
  {
   "cell_type": "code",
   "execution_count": 164,
   "id": "faced-album",
   "metadata": {},
   "outputs": [
    {
     "data": {
      "image/png": "[encoded data removed]",
      "text/plain": [
       "<Figure size 640x480 with 2 Axes>"
      ]
     },
     "metadata": {},
     "output_type": "display_data"
    }
   ],
   "source": [
    "cm = confusion_matrix(mlp_pred, y_test)\n",
    "disp = ConfusionMatrixDisplay(confusion_matrix=cm, display_labels=[\"Benign\", \"Malicious\"])\n",
    "disp.plot()\n",
    "plt.title(\"Confusion Matrix of MLP on the Merged Dataset\")\n",
    "plt.show()"
   ]
  },
  {
   "cell_type": "markdown",
   "id": "verified-hobby",
   "metadata": {},
   "source": [
    "# Bagging Multiple Models"
   ]
  },
  {
   "cell_type": "markdown",
   "id": "cellular-controversy",
   "metadata": {},
   "source": [
    "#### Combining Predictions"
   ]
  },
  {
   "cell_type": "code",
   "execution_count": 113,
   "id": "assigned-quest",
   "metadata": {},
   "outputs": [],
   "source": [
    "bagging_pred = []\n",
    "for i in range(0, len(y_test)):\n",
    "    bagging_pred.append([rf_pred[i], mlp_pred[i], svc_pred[i], knn_pred[i], dt_pred[i]])"
   ]
  },
  {
   "cell_type": "code",
   "execution_count": 114,
   "id": "obvious-uniform",
   "metadata": {},
   "outputs": [],
   "source": [
    "bagging_pred = list(map(lambda pred: 1 if sum(pred) > 2 else 0, bagging_pred))"
   ]
  },
  {
   "cell_type": "markdown",
   "id": "processed-method",
   "metadata": {},
   "source": [
    "#### Output Results"
   ]
  },
  {
   "cell_type": "code",
   "execution_count": 236,
   "id": "checked-twins",
   "metadata": {},
   "outputs": [
    {
     "name": "stdout",
     "output_type": "stream",
     "text": [
      "              precision    recall  f1-score   support\n",
      "\n",
      "           0       0.89      0.92      0.90       988\n",
      "           1       0.93      0.90      0.92      1168\n",
      "\n",
      "    accuracy                           0.91      2156\n",
      "   macro avg       0.91      0.91      0.91      2156\n",
      "weighted avg       0.91      0.91      0.91      2156\n",
      "\n"
     ]
    }
   ],
   "source": [
    "print(classification_report(mlp_pred, y_test))"
   ]
  },
  {
   "cell_type": "code",
   "execution_count": 115,
   "id": "unlimited-poultry",
   "metadata": {},
   "outputs": [
    {
     "name": "stdout",
     "output_type": "stream",
     "text": [
      "              precision    recall  f1-score   support\n",
      "\n",
      "           0       0.93      0.92      0.92      1036\n",
      "           1       0.92      0.93      0.93      1120\n",
      "\n",
      "    accuracy                           0.92      2156\n",
      "   macro avg       0.92      0.92      0.92      2156\n",
      "weighted avg       0.92      0.92      0.92      2156\n",
      "\n"
     ]
    }
   ],
   "source": [
    "print(classification_report(bagging_pred, y_test))"
   ]
  },
  {
   "cell_type": "code",
   "execution_count": 116,
   "id": "enhanced-first",
   "metadata": {
    "scrolled": true
   },
   "outputs": [
    {
     "data": {
      "image/png": "[encoded data removed]",
      "text/plain": [
       "<Figure size 432x288 with 2 Axes>"
      ]
     },
     "metadata": {
      "needs_background": "light"
     },
     "output_type": "display_data"
    }
   ],
   "source": [
    "cm = confusion_matrix(bagging_pred, y_test)\n",
    "disp = ConfusionMatrixDisplay(confusion_matrix=cm, display_labels=[\"Benign\", \"Malicious\"])\n",
    "disp.plot()\n",
    "plt.title(\"Confusion Matrix of Bagging on the Merged Dataset\")\n",
    "plt.show()"
   ]
  },
  {
   "cell_type": "markdown",
   "id": "aggressive-sullivan",
   "metadata": {},
   "source": [
    "# False Prediction Analysis"
   ]
  },
  {
   "cell_type": "markdown",
   "id": "scientific-definition",
   "metadata": {},
   "source": [
    "## Extract Data"
   ]
  },
  {
   "cell_type": "markdown",
   "id": "occupied-revision",
   "metadata": {},
   "source": [
    "#### Filtering False and True Predictions"
   ]
  },
  {
   "cell_type": "code",
   "execution_count": 168,
   "id": "designed-observation",
   "metadata": {},
   "outputs": [],
   "source": [
    "prediction = y_test == bagging_pred\n",
    "prediction = pd.DataFrame({\"index\": prediction.index, \"prediction\": prediction.values})\n",
    "test_labels = pd.DataFrame({\"idx\": y_test.index, \"is_malicious\": y_test.values})"
   ]
  },
  {
   "cell_type": "code",
   "execution_count": 169,
   "id": "olive-distance",
   "metadata": {},
   "outputs": [],
   "source": [
    "prediction = pd.concat([prediction, test_labels], axis=1)"
   ]
  },
  {
   "cell_type": "code",
   "execution_count": 170,
   "id": "unable-opinion",
   "metadata": {},
   "outputs": [],
   "source": [
    "prediction = prediction.drop([\"idx\"], axis=1)"
   ]
  },
  {
   "cell_type": "code",
   "execution_count": 171,
   "id": "incident-brooklyn",
   "metadata": {},
   "outputs": [],
   "source": [
    "true_prediction = prediction[prediction[\"prediction\"] == True]\n",
    "false_prediction = prediction[prediction[\"prediction\"] == False]"
   ]
  },
  {
   "cell_type": "markdown",
   "id": "incorporated-deficit",
   "metadata": {},
   "source": [
    "#### Extracting False Positives and False Negatives"
   ]
  },
  {
   "cell_type": "code",
   "execution_count": 196,
   "id": "chubby-bennett",
   "metadata": {},
   "outputs": [],
   "source": [
    "true_positive = true_prediction[true_prediction[\"is_malicious\"] == 1][\"index\"].to_numpy()\n",
    "true_negative = true_prediction[true_prediction[\"is_malicious\"] == 0][\"index\"].to_numpy()"
   ]
  },
  {
   "cell_type": "code",
   "execution_count": 197,
   "id": "listed-recommendation",
   "metadata": {},
   "outputs": [],
   "source": [
    "true_positive = df[df.index.isin(true_positive)]\n",
    "true_negative = df[df.index.isin(true_negative)]"
   ]
  },
  {
   "cell_type": "code",
   "execution_count": 198,
   "id": "honey-equity",
   "metadata": {},
   "outputs": [],
   "source": [
    "false_positive = false_prediction[false_prediction[\"is_malicious\"] == 0][\"index\"].to_numpy()\n",
    "false_negative = false_prediction[false_prediction[\"is_malicious\"] == 1][\"index\"].to_numpy()"
   ]
  },
  {
   "cell_type": "code",
   "execution_count": 199,
   "id": "racial-accused",
   "metadata": {},
   "outputs": [],
   "source": [
    "false_positive = df[df.index.isin(false_positive)]\n",
    "false_negative = df[df.index.isin(false_negative)]"
   ]
  },
  {
   "cell_type": "markdown",
   "id": "seven-bidder",
   "metadata": {},
   "source": [
    "## Analyze Data"
   ]
  },
  {
   "cell_type": "markdown",
   "id": "rolled-sewing",
   "metadata": {},
   "source": [
    "#### Permissions"
   ]
  },
  {
   "cell_type": "code",
   "execution_count": 223,
   "id": "bibliographic-catholic",
   "metadata": {},
   "outputs": [],
   "source": [
    "permission_columns = df.columns[1:len(true_positive.columns)-33]"
   ]
  },
  {
   "cell_type": "code",
   "execution_count": 224,
   "id": "rocky-domain",
   "metadata": {},
   "outputs": [],
   "source": [
    "tp_permissions = true_positive[permission_columns]\n",
    "tn_permissions = true_negative[permission_columns]"
   ]
  },
  {
   "cell_type": "code",
   "execution_count": 225,
   "id": "sacred-chair",
   "metadata": {},
   "outputs": [],
   "source": [
    "fp_permissions = false_positive[permission_columns]\n",
    "fn_permissions = false_negative[permission_columns]"
   ]
  },
  {
   "cell_type": "code",
   "execution_count": 227,
   "id": "associate-scheme",
   "metadata": {},
   "outputs": [],
   "source": [
    "tp_mean = tp_permissions.sum(axis=1).mean(axis=0)\n",
    "tn_mean = tn_permissions.sum(axis=1).mean(axis=0)\n",
    "fp_mean = fp_permissions.sum(axis=1).mean(axis=0)\n",
    "fn_mean = fn_permissions.sum(axis=1).mean(axis=0)"
   ]
  },
  {
   "cell_type": "code",
   "execution_count": 238,
   "id": "graphic-expense",
   "metadata": {},
   "outputs": [
    {
     "data": {
      "image/png": "[encoded data removed]",
      "text/plain": [
       "<Figure size 720x216 with 2 Axes>"
      ]
     },
     "metadata": {
      "needs_background": "light"
     },
     "output_type": "display_data"
    }
   ],
   "source": [
    "fig, (ax1, ax2) = plt.subplots(1, 2, figsize=(10, 3))\n",
    "\n",
    "ax1.bar([\"TN\", \"FP\"], [tn_mean, fp_mean], width=0.5)\n",
    "ax2.bar([\"TP\", \"FN\"], [tp_mean, fn_mean], width=0.5)\n",
    "plt.tight_layout()"
   ]
  },
  {
   "cell_type": "code",
   "execution_count": 267,
   "id": "wanted-short",
   "metadata": {},
   "outputs": [],
   "source": [
    "tp_permission_count = tp_permissions.mean(axis=0)\n",
    "tn_permission_count = tn_permissions.mean(axis=0)\n",
    "fp_permission_count = fp_permissions.mean(axis=0)\n",
    "fn_permission_count = fn_permissions.mean(axis=0)"
   ]
  },
  {
   "cell_type": "code",
   "execution_count": 271,
   "id": "enormous-mediterranean",
   "metadata": {},
   "outputs": [
    {
     "data": {
      "image/png": "[encoded data removed]",
      "text/plain": [
       "<Figure size 720x216 with 2 Axes>"
      ]
     },
     "metadata": {
      "needs_background": "light"
     },
     "output_type": "display_data"
    }
   ],
   "source": [
    "fig, (ax1, ax2) = plt.subplots(1, 2, figsize=(10, 3))\n",
    "\n",
    "ax1.plot(tp_permission_count.to_numpy())\n",
    "ax1.set_title(\"True Positive\")\n",
    "ax2.plot(fp_permission_count.to_numpy())\n",
    "ax2.set_title(\"False Positive\")\n",
    "\n",
    "plt.show()"
   ]
  },
  {
   "cell_type": "code",
   "execution_count": 272,
   "id": "caroline-question",
   "metadata": {
    "scrolled": true
   },
   "outputs": [
    {
     "data": {
      "image/png": "[encoded data removed]",
      "text/plain": [
       "<Figure size 720x216 with 2 Axes>"
      ]
     },
     "metadata": {
      "needs_background": "light"
     },
     "output_type": "display_data"
    }
   ],
   "source": [
    "fig, (ax3, ax4) = plt.subplots(1, 2, figsize=(10, 3))\n",
    "\n",
    "ax3.plot(tn_permission_count.to_numpy())\n",
    "ax3.set_title(\"True Negative\")\n",
    "ax4.plot(fn_permission_count.to_numpy())\n",
    "ax4.set_title(\"False Negative\")\n",
    "\n",
    "plt.show()"
   ]
  },
  {
   "cell_type": "code",
   "execution_count": 299,
   "id": "asian-threat",
   "metadata": {},
   "outputs": [
    {
     "data": {
      "text/plain": [
       "ACCESS_NETWORK_STATE    0.899789\n",
       "dtype: float64"
      ]
     },
     "execution_count": 299,
     "metadata": {},
     "output_type": "execute_result"
    }
   ],
   "source": [
    "tn_permission_count[8:9]"
   ]
  },
  {
   "cell_type": "code",
   "execution_count": 286,
   "id": "electoral-headset",
   "metadata": {},
   "outputs": [
    {
     "name": "stdout",
     "output_type": "stream",
     "text": [
      "INSTALL_PACKAGES    0.163793\n",
      "dtype: float64\n",
      "INSTALL_PACKAGES    0.065789\n",
      "dtype: float64\n",
      "INSTALL_PACKAGES    0.012658\n",
      "dtype: float64\n",
      "INSTALL_PACKAGES    0.022727\n",
      "dtype: float64\n"
     ]
    }
   ],
   "source": [
    "print(tp_permission_count[71:72])\n",
    "print(fp_permission_count[71:72])\n",
    "print(tn_permission_count[71:72])\n",
    "print(fn_permission_count[71:72])"
   ]
  },
  {
   "cell_type": "code",
   "execution_count": 289,
   "id": "national-challenge",
   "metadata": {},
   "outputs": [
    {
     "data": {
      "text/plain": [
       "891"
      ]
     },
     "execution_count": 289,
     "metadata": {},
     "output_type": "execute_result"
    }
   ],
   "source": [
    "len(df[df[\"INSTALL_PACKAGES\"] == 1])"
   ]
  },
  {
   "cell_type": "code",
   "execution_count": 295,
   "id": "contrary-arbor",
   "metadata": {},
   "outputs": [
    {
     "data": {
      "text/plain": [
       "824"
      ]
     },
     "execution_count": 295,
     "metadata": {},
     "output_type": "execute_result"
    }
   ],
   "source": [
    "len(df[(df[\"INSTALL_PACKAGES\"] == 1) & (df[\"is_malicious\"] == 1)])"
   ]
  },
  {
   "cell_type": "code",
   "execution_count": 296,
   "id": "suitable-synthetic",
   "metadata": {},
   "outputs": [
    {
     "data": {
      "text/plain": [
       "67"
      ]
     },
     "execution_count": 296,
     "metadata": {},
     "output_type": "execute_result"
    }
   ],
   "source": [
    "len(df[(df[\"INSTALL_PACKAGES\"] == 1) & (df[\"is_malicious\"] == 0)])"
   ]
  },
  {
   "cell_type": "code",
   "execution_count": 297,
   "id": "julian-viewer",
   "metadata": {},
   "outputs": [
    {
     "data": {
      "text/plain": [
       "5"
      ]
     },
     "execution_count": 297,
     "metadata": {},
     "output_type": "execute_result"
    }
   ],
   "source": [
    "len(false_positive[(false_positive[\"INSTALL_PACKAGES\"] == 1) & (false_positive[\"is_malicious\"] == 0)])"
   ]
  },
  {
   "cell_type": "code",
   "execution_count": 304,
   "id": "unable-material",
   "metadata": {},
   "outputs": [
    {
     "data": {
      "text/plain": [
       "0"
      ]
     },
     "execution_count": 304,
     "metadata": {},
     "output_type": "execute_result"
    }
   ],
   "source": [
    "len(false_negative[(false_negative[\"INSTALL_PACKAGES\"] == 1) & (false_negative[\"is_malicious\"] == 0)])"
   ]
  },
  {
   "cell_type": "code",
   "execution_count": 305,
   "id": "single-commons",
   "metadata": {},
   "outputs": [],
   "source": [
    "##########"
   ]
  },
  {
   "cell_type": "code",
   "execution_count": 307,
   "id": "boolean-trouble",
   "metadata": {},
   "outputs": [
    {
     "data": {
      "text/plain": [
       "STATUS_BAR_SERVICE        0.000000\n",
       "STOP_APP_SWITCHES         0.001055\n",
       "STORAGE_INTERNAL          0.000000\n",
       "SUBSCRIBED_FEEDS_READ     0.000000\n",
       "SUBSCRIBED_FEEDS_WRITE    0.000000\n",
       "SYSTEM_ALERT_WINDOW       0.157173\n",
       "TRANSMIT_IR               0.000000\n",
       "UPDATE_APP_OPS_STATS      0.007384\n",
       "UPDATE_DEVICE_STATS       0.003165\n",
       "USE_CREDENTIALS           0.054852\n",
       "VIBRATE                   0.349156\n",
       "WAKE_LOCK                 0.489451\n",
       "WRITE_APN_SETTINGS        0.010549\n",
       "WRITE_GSERVICES           0.000000\n",
       "WRITE_MEDIA_STORAGE       0.000000\n",
       "dtype: float64"
      ]
     },
     "execution_count": 307,
     "metadata": {},
     "output_type": "execute_result"
    }
   ],
   "source": [
    "tn_permission_count[130:145]"
   ]
  },
  {
   "cell_type": "code",
   "execution_count": null,
   "id": "simple-climb",
   "metadata": {},
   "outputs": [],
   "source": []
  }
 ],
 "metadata": {
  "kernelspec": {
   "display_name": "Python 3",
   "language": "python",
   "name": "python3"
  },
  "language_info": {
   "codemirror_mode": {
    "name": "ipython",
    "version": 3
   },
   "file_extension": ".py",
   "mimetype": "text/x-python",
   "name": "python",
   "nbconvert_exporter": "python",
   "pygments_lexer": "ipython3",
   "version": "3.6.13"
  }
 },
 "nbformat": 4,
 "nbformat_minor": 5
}
