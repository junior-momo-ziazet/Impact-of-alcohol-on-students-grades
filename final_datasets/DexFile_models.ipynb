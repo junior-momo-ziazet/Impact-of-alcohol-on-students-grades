{
 "cells": [
  {
   "cell_type": "code",
   "execution_count": 1,
   "metadata": {},
   "outputs": [],
   "source": [
    "import pandas as pd\n",
    "import numpy as np\n",
    "from sklearn.model_selection import train_test_split\n",
    "from sklearn.metrics import f1_score, classification_report, confusion_matrix, ConfusionMatrixDisplay\n",
    "from sklearn.model_selection import GridSearchCV, RandomizedSearchCV\n",
    "import matplotlib.pyplot as plt"
   ]
  },
  {
   "cell_type": "code",
   "execution_count": 2,
   "metadata": {},
   "outputs": [
    {
     "data": {
      "text/html": [
       "<div>\n",
       "<style scoped>\n",
       "    .dataframe tbody tr th:only-of-type {\n",
       "        vertical-align: middle;\n",
       "    }\n",
       "\n",
       "    .dataframe tbody tr th {\n",
       "        vertical-align: top;\n",
       "    }\n",
       "\n",
       "    .dataframe thead th {\n",
       "        text-align: right;\n",
       "    }\n",
       "</style>\n",
       "<table border=\"1\" class=\"dataframe\">\n",
       "  <thead>\n",
       "    <tr style=\"text-align: right;\">\n",
       "      <th></th>\n",
       "      <th>Unnamed: 0</th>\n",
       "      <th>id</th>\n",
       "      <th>is_malicious</th>\n",
       "      <th>1</th>\n",
       "      <th>2</th>\n",
       "      <th>3</th>\n",
       "      <th>4</th>\n",
       "      <th>5</th>\n",
       "      <th>6</th>\n",
       "      <th>7</th>\n",
       "      <th>...</th>\n",
       "      <th>23</th>\n",
       "      <th>24</th>\n",
       "      <th>25</th>\n",
       "      <th>26</th>\n",
       "      <th>27</th>\n",
       "      <th>28</th>\n",
       "      <th>29</th>\n",
       "      <th>30</th>\n",
       "      <th>31</th>\n",
       "      <th>32</th>\n",
       "    </tr>\n",
       "  </thead>\n",
       "  <tbody>\n",
       "    <tr>\n",
       "      <th>0</th>\n",
       "      <td>0</td>\n",
       "      <td>0864acb063671894c80220d3f77cbcdcb08f4aabf017cf...</td>\n",
       "      <td>1</td>\n",
       "      <td>2718.239393</td>\n",
       "      <td>1125.543435</td>\n",
       "      <td>1038.811133</td>\n",
       "      <td>920.025796</td>\n",
       "      <td>861.766204</td>\n",
       "      <td>810.089682</td>\n",
       "      <td>746.668342</td>\n",
       "      <td>...</td>\n",
       "      <td>1.869884e-13</td>\n",
       "      <td>1.869884e-13</td>\n",
       "      <td>1.869884e-13</td>\n",
       "      <td>1.869884e-13</td>\n",
       "      <td>1.869884e-13</td>\n",
       "      <td>1.869884e-13</td>\n",
       "      <td>1.869884e-13</td>\n",
       "      <td>1.869884e-13</td>\n",
       "      <td>1.869884e-13</td>\n",
       "      <td>8.969419e-14</td>\n",
       "    </tr>\n",
       "    <tr>\n",
       "      <th>1</th>\n",
       "      <td>1</td>\n",
       "      <td>477c68553ff88f831026e8842fe99fe14b2ddf08821a0c...</td>\n",
       "      <td>1</td>\n",
       "      <td>3048.841863</td>\n",
       "      <td>1084.342463</td>\n",
       "      <td>1003.619579</td>\n",
       "      <td>946.339372</td>\n",
       "      <td>848.429008</td>\n",
       "      <td>821.552961</td>\n",
       "      <td>760.381661</td>\n",
       "      <td>...</td>\n",
       "      <td>2.357381e-13</td>\n",
       "      <td>2.357381e-13</td>\n",
       "      <td>2.357381e-13</td>\n",
       "      <td>2.357381e-13</td>\n",
       "      <td>2.357381e-13</td>\n",
       "      <td>2.357381e-13</td>\n",
       "      <td>2.357381e-13</td>\n",
       "      <td>2.357381e-13</td>\n",
       "      <td>2.357381e-13</td>\n",
       "      <td>8.621432e-14</td>\n",
       "    </tr>\n",
       "    <tr>\n",
       "      <th>2</th>\n",
       "      <td>2</td>\n",
       "      <td>a0371b342482a12a1932b6930f24c5cb84226c325d9e25...</td>\n",
       "      <td>1</td>\n",
       "      <td>3121.137775</td>\n",
       "      <td>1133.301389</td>\n",
       "      <td>1047.593803</td>\n",
       "      <td>902.596307</td>\n",
       "      <td>807.939970</td>\n",
       "      <td>771.697648</td>\n",
       "      <td>722.248531</td>\n",
       "      <td>...</td>\n",
       "      <td>2.459566e-13</td>\n",
       "      <td>2.459566e-13</td>\n",
       "      <td>2.459566e-13</td>\n",
       "      <td>2.459566e-13</td>\n",
       "      <td>2.459566e-13</td>\n",
       "      <td>2.459566e-13</td>\n",
       "      <td>2.459566e-13</td>\n",
       "      <td>2.459566e-13</td>\n",
       "      <td>2.459566e-13</td>\n",
       "      <td>1.081333e-13</td>\n",
       "    </tr>\n",
       "    <tr>\n",
       "      <th>3</th>\n",
       "      <td>3</td>\n",
       "      <td>26d4ebb9a6693d71077f86794f28f1480db6d096c95ecb...</td>\n",
       "      <td>1</td>\n",
       "      <td>3182.089564</td>\n",
       "      <td>1156.645792</td>\n",
       "      <td>988.701177</td>\n",
       "      <td>961.084358</td>\n",
       "      <td>882.594958</td>\n",
       "      <td>795.379718</td>\n",
       "      <td>737.981924</td>\n",
       "      <td>...</td>\n",
       "      <td>2.259297e-13</td>\n",
       "      <td>2.259297e-13</td>\n",
       "      <td>2.259297e-13</td>\n",
       "      <td>2.259297e-13</td>\n",
       "      <td>2.259297e-13</td>\n",
       "      <td>2.259297e-13</td>\n",
       "      <td>2.259297e-13</td>\n",
       "      <td>2.259297e-13</td>\n",
       "      <td>2.259297e-13</td>\n",
       "      <td>1.476048e-13</td>\n",
       "    </tr>\n",
       "    <tr>\n",
       "      <th>4</th>\n",
       "      <td>4</td>\n",
       "      <td>361c51f12ffc337eb1293a1f49c1a5034ca708a9a46ac4...</td>\n",
       "      <td>1</td>\n",
       "      <td>2756.747112</td>\n",
       "      <td>1114.727262</td>\n",
       "      <td>1046.478482</td>\n",
       "      <td>945.737289</td>\n",
       "      <td>901.044547</td>\n",
       "      <td>858.141550</td>\n",
       "      <td>790.233702</td>\n",
       "      <td>...</td>\n",
       "      <td>1.967504e-13</td>\n",
       "      <td>1.967504e-13</td>\n",
       "      <td>1.967504e-13</td>\n",
       "      <td>1.967504e-13</td>\n",
       "      <td>1.967504e-13</td>\n",
       "      <td>1.967504e-13</td>\n",
       "      <td>1.967504e-13</td>\n",
       "      <td>1.967504e-13</td>\n",
       "      <td>1.967504e-13</td>\n",
       "      <td>1.626257e-13</td>\n",
       "    </tr>\n",
       "    <tr>\n",
       "      <th>...</th>\n",
       "      <td>...</td>\n",
       "      <td>...</td>\n",
       "      <td>...</td>\n",
       "      <td>...</td>\n",
       "      <td>...</td>\n",
       "      <td>...</td>\n",
       "      <td>...</td>\n",
       "      <td>...</td>\n",
       "      <td>...</td>\n",
       "      <td>...</td>\n",
       "      <td>...</td>\n",
       "      <td>...</td>\n",
       "      <td>...</td>\n",
       "      <td>...</td>\n",
       "      <td>...</td>\n",
       "      <td>...</td>\n",
       "      <td>...</td>\n",
       "      <td>...</td>\n",
       "      <td>...</td>\n",
       "      <td>...</td>\n",
       "      <td>...</td>\n",
       "    </tr>\n",
       "    <tr>\n",
       "      <th>10773</th>\n",
       "      <td>10773</td>\n",
       "      <td>Sha256_000C32D446A831E36F727F1331B0579FFC6EF8E...</td>\n",
       "      <td>0</td>\n",
       "      <td>3108.395999</td>\n",
       "      <td>1108.018160</td>\n",
       "      <td>986.675408</td>\n",
       "      <td>929.016497</td>\n",
       "      <td>838.867308</td>\n",
       "      <td>761.316200</td>\n",
       "      <td>714.684240</td>\n",
       "      <td>...</td>\n",
       "      <td>2.283709e-13</td>\n",
       "      <td>2.283709e-13</td>\n",
       "      <td>2.283709e-13</td>\n",
       "      <td>2.283709e-13</td>\n",
       "      <td>2.283709e-13</td>\n",
       "      <td>2.283709e-13</td>\n",
       "      <td>2.283709e-13</td>\n",
       "      <td>2.283709e-13</td>\n",
       "      <td>2.283709e-13</td>\n",
       "      <td>2.820447e-14</td>\n",
       "    </tr>\n",
       "    <tr>\n",
       "      <th>10774</th>\n",
       "      <td>10774</td>\n",
       "      <td>Sha256_000869C011E1C7D6A0DF34BB712A2851E736B9C...</td>\n",
       "      <td>0</td>\n",
       "      <td>3084.359987</td>\n",
       "      <td>1027.243597</td>\n",
       "      <td>973.700132</td>\n",
       "      <td>879.385231</td>\n",
       "      <td>873.197480</td>\n",
       "      <td>844.192095</td>\n",
       "      <td>795.711960</td>\n",
       "      <td>...</td>\n",
       "      <td>2.204760e-13</td>\n",
       "      <td>2.204760e-13</td>\n",
       "      <td>2.204760e-13</td>\n",
       "      <td>2.204760e-13</td>\n",
       "      <td>2.204760e-13</td>\n",
       "      <td>2.204760e-13</td>\n",
       "      <td>2.204760e-13</td>\n",
       "      <td>2.204760e-13</td>\n",
       "      <td>2.204760e-13</td>\n",
       "      <td>4.507240e-14</td>\n",
       "    </tr>\n",
       "    <tr>\n",
       "      <th>10775</th>\n",
       "      <td>10775</td>\n",
       "      <td>Sha256_000C3CF07E99F07C41C685E10978410238609A0...</td>\n",
       "      <td>0</td>\n",
       "      <td>3047.595636</td>\n",
       "      <td>1081.506514</td>\n",
       "      <td>1033.233856</td>\n",
       "      <td>889.461201</td>\n",
       "      <td>805.590885</td>\n",
       "      <td>769.233444</td>\n",
       "      <td>712.997871</td>\n",
       "      <td>...</td>\n",
       "      <td>2.182729e-13</td>\n",
       "      <td>2.182729e-13</td>\n",
       "      <td>2.182729e-13</td>\n",
       "      <td>2.182729e-13</td>\n",
       "      <td>2.182729e-13</td>\n",
       "      <td>2.182729e-13</td>\n",
       "      <td>2.182729e-13</td>\n",
       "      <td>2.182729e-13</td>\n",
       "      <td>2.182729e-13</td>\n",
       "      <td>8.638476e-14</td>\n",
       "    </tr>\n",
       "    <tr>\n",
       "      <th>10776</th>\n",
       "      <td>10776</td>\n",
       "      <td>Sha256_00223AD0498407AF755A9C8D842C9FA5EDCF2E2...</td>\n",
       "      <td>0</td>\n",
       "      <td>3146.497985</td>\n",
       "      <td>1081.958962</td>\n",
       "      <td>1054.311194</td>\n",
       "      <td>935.137177</td>\n",
       "      <td>838.086214</td>\n",
       "      <td>792.626381</td>\n",
       "      <td>764.729431</td>\n",
       "      <td>...</td>\n",
       "      <td>2.213128e-13</td>\n",
       "      <td>2.213128e-13</td>\n",
       "      <td>2.213128e-13</td>\n",
       "      <td>2.213128e-13</td>\n",
       "      <td>2.213128e-13</td>\n",
       "      <td>2.213128e-13</td>\n",
       "      <td>2.213128e-13</td>\n",
       "      <td>2.213128e-13</td>\n",
       "      <td>2.213128e-13</td>\n",
       "      <td>1.110579e-13</td>\n",
       "    </tr>\n",
       "    <tr>\n",
       "      <th>10777</th>\n",
       "      <td>10777</td>\n",
       "      <td>Sha256_00138A66E8936AF09892A0A5F7FDBD338B2BD93...</td>\n",
       "      <td>0</td>\n",
       "      <td>3022.089188</td>\n",
       "      <td>1107.086736</td>\n",
       "      <td>1001.402362</td>\n",
       "      <td>901.672916</td>\n",
       "      <td>842.534866</td>\n",
       "      <td>795.996431</td>\n",
       "      <td>766.060439</td>\n",
       "      <td>...</td>\n",
       "      <td>2.129987e-13</td>\n",
       "      <td>2.129987e-13</td>\n",
       "      <td>2.129987e-13</td>\n",
       "      <td>2.129987e-13</td>\n",
       "      <td>2.129987e-13</td>\n",
       "      <td>2.129987e-13</td>\n",
       "      <td>2.129987e-13</td>\n",
       "      <td>2.129987e-13</td>\n",
       "      <td>2.129987e-13</td>\n",
       "      <td>1.106448e-13</td>\n",
       "    </tr>\n",
       "  </tbody>\n",
       "</table>\n",
       "<p>10778 rows × 35 columns</p>\n",
       "</div>"
      ],
      "text/plain": [
       "       Unnamed: 0                                                 id  \\\n",
       "0               0  0864acb063671894c80220d3f77cbcdcb08f4aabf017cf...   \n",
       "1               1  477c68553ff88f831026e8842fe99fe14b2ddf08821a0c...   \n",
       "2               2  a0371b342482a12a1932b6930f24c5cb84226c325d9e25...   \n",
       "3               3  26d4ebb9a6693d71077f86794f28f1480db6d096c95ecb...   \n",
       "4               4  361c51f12ffc337eb1293a1f49c1a5034ca708a9a46ac4...   \n",
       "...           ...                                                ...   \n",
       "10773       10773  Sha256_000C32D446A831E36F727F1331B0579FFC6EF8E...   \n",
       "10774       10774  Sha256_000869C011E1C7D6A0DF34BB712A2851E736B9C...   \n",
       "10775       10775  Sha256_000C3CF07E99F07C41C685E10978410238609A0...   \n",
       "10776       10776  Sha256_00223AD0498407AF755A9C8D842C9FA5EDCF2E2...   \n",
       "10777       10777  Sha256_00138A66E8936AF09892A0A5F7FDBD338B2BD93...   \n",
       "\n",
       "       is_malicious            1            2            3           4  \\\n",
       "0                 1  2718.239393  1125.543435  1038.811133  920.025796   \n",
       "1                 1  3048.841863  1084.342463  1003.619579  946.339372   \n",
       "2                 1  3121.137775  1133.301389  1047.593803  902.596307   \n",
       "3                 1  3182.089564  1156.645792   988.701177  961.084358   \n",
       "4                 1  2756.747112  1114.727262  1046.478482  945.737289   \n",
       "...             ...          ...          ...          ...         ...   \n",
       "10773             0  3108.395999  1108.018160   986.675408  929.016497   \n",
       "10774             0  3084.359987  1027.243597   973.700132  879.385231   \n",
       "10775             0  3047.595636  1081.506514  1033.233856  889.461201   \n",
       "10776             0  3146.497985  1081.958962  1054.311194  935.137177   \n",
       "10777             0  3022.089188  1107.086736  1001.402362  901.672916   \n",
       "\n",
       "                5           6           7  ...            23            24  \\\n",
       "0      861.766204  810.089682  746.668342  ...  1.869884e-13  1.869884e-13   \n",
       "1      848.429008  821.552961  760.381661  ...  2.357381e-13  2.357381e-13   \n",
       "2      807.939970  771.697648  722.248531  ...  2.459566e-13  2.459566e-13   \n",
       "3      882.594958  795.379718  737.981924  ...  2.259297e-13  2.259297e-13   \n",
       "4      901.044547  858.141550  790.233702  ...  1.967504e-13  1.967504e-13   \n",
       "...           ...         ...         ...  ...           ...           ...   \n",
       "10773  838.867308  761.316200  714.684240  ...  2.283709e-13  2.283709e-13   \n",
       "10774  873.197480  844.192095  795.711960  ...  2.204760e-13  2.204760e-13   \n",
       "10775  805.590885  769.233444  712.997871  ...  2.182729e-13  2.182729e-13   \n",
       "10776  838.086214  792.626381  764.729431  ...  2.213128e-13  2.213128e-13   \n",
       "10777  842.534866  795.996431  766.060439  ...  2.129987e-13  2.129987e-13   \n",
       "\n",
       "                 25            26            27            28            29  \\\n",
       "0      1.869884e-13  1.869884e-13  1.869884e-13  1.869884e-13  1.869884e-13   \n",
       "1      2.357381e-13  2.357381e-13  2.357381e-13  2.357381e-13  2.357381e-13   \n",
       "2      2.459566e-13  2.459566e-13  2.459566e-13  2.459566e-13  2.459566e-13   \n",
       "3      2.259297e-13  2.259297e-13  2.259297e-13  2.259297e-13  2.259297e-13   \n",
       "4      1.967504e-13  1.967504e-13  1.967504e-13  1.967504e-13  1.967504e-13   \n",
       "...             ...           ...           ...           ...           ...   \n",
       "10773  2.283709e-13  2.283709e-13  2.283709e-13  2.283709e-13  2.283709e-13   \n",
       "10774  2.204760e-13  2.204760e-13  2.204760e-13  2.204760e-13  2.204760e-13   \n",
       "10775  2.182729e-13  2.182729e-13  2.182729e-13  2.182729e-13  2.182729e-13   \n",
       "10776  2.213128e-13  2.213128e-13  2.213128e-13  2.213128e-13  2.213128e-13   \n",
       "10777  2.129987e-13  2.129987e-13  2.129987e-13  2.129987e-13  2.129987e-13   \n",
       "\n",
       "                 30            31            32  \n",
       "0      1.869884e-13  1.869884e-13  8.969419e-14  \n",
       "1      2.357381e-13  2.357381e-13  8.621432e-14  \n",
       "2      2.459566e-13  2.459566e-13  1.081333e-13  \n",
       "3      2.259297e-13  2.259297e-13  1.476048e-13  \n",
       "4      1.967504e-13  1.967504e-13  1.626257e-13  \n",
       "...             ...           ...           ...  \n",
       "10773  2.283709e-13  2.283709e-13  2.820447e-14  \n",
       "10774  2.204760e-13  2.204760e-13  4.507240e-14  \n",
       "10775  2.182729e-13  2.182729e-13  8.638476e-14  \n",
       "10776  2.213128e-13  2.213128e-13  1.110579e-13  \n",
       "10777  2.129987e-13  2.129987e-13  1.106448e-13  \n",
       "\n",
       "[10778 rows x 35 columns]"
      ]
     },
     "execution_count": 2,
     "metadata": {},
     "output_type": "execute_result"
    }
   ],
   "source": [
    "df = pd.read_csv(\"processed_dex_final.csv\")\n",
    "df"
   ]
  },
  {
   "cell_type": "code",
   "execution_count": 3,
   "metadata": {},
   "outputs": [],
   "source": [
    "#X = data.drop(['Unnamed: 0', \"id\", \"is_malicious\"], axis=1)  # Features\n",
    "#y = data[\"is_malicious\"]  # Label"
   ]
  },
  {
   "cell_type": "code",
   "execution_count": 4,
   "metadata": {},
   "outputs": [],
   "source": [
    "#X = X.to_numpy().astype('float32' )\n",
    "#y = y.to_numpy().astype('int32')"
   ]
  },
  {
   "cell_type": "code",
   "execution_count": 5,
   "metadata": {},
   "outputs": [],
   "source": [
    "from sklearn.model_selection import train_test_split\n",
    "from sklearn.utils import shuffle\n",
    "\n",
    "df= shuffle(df,random_state=42)\n",
    "\n",
    "X = df.drop([\"id\", \"is_malicious\"], axis=1)\n",
    "y = df[\"is_malicious\"]\n",
    "\n",
    "X_train, X_test, y_train, y_test = train_test_split(X, y, test_size=0.2, random_state=42,shuffle =False)"
   ]
  },
  {
   "cell_type": "code",
   "execution_count": 6,
   "metadata": {},
   "outputs": [
    {
     "data": {
      "text/plain": [
       "10683    0\n",
       "10679    0\n",
       "3905     1\n",
       "6130     0\n",
       "2574     1\n",
       "        ..\n",
       "10310    0\n",
       "780      1\n",
       "8875     0\n",
       "5607     0\n",
       "5978     0\n",
       "Name: is_malicious, Length: 8622, dtype: int64"
      ]
     },
     "execution_count": 6,
     "metadata": {},
     "output_type": "execute_result"
    }
   ],
   "source": [
    "y_train"
   ]
  },
  {
   "cell_type": "code",
   "execution_count": 7,
   "metadata": {},
   "outputs": [
    {
     "data": {
      "text/plain": [
       "3747     1\n",
       "2196     1\n",
       "8561     0\n",
       "10653    0\n",
       "4285     1\n",
       "        ..\n",
       "5734     0\n",
       "5191     1\n",
       "5390     1\n",
       "860      1\n",
       "7270     0\n",
       "Name: is_malicious, Length: 2156, dtype: int64"
      ]
     },
     "execution_count": 7,
     "metadata": {},
     "output_type": "execute_result"
    }
   ],
   "source": [
    "y_test"
   ]
  },
  {
   "cell_type": "code",
   "execution_count": 8,
   "metadata": {},
   "outputs": [],
   "source": [
    "#prepocess data\n",
    "import sklearn.preprocessing \n",
    "\n",
    "scaler = sklearn.preprocessing.StandardScaler().fit(X_train)\n",
    "\n",
    "X_train = scaler.transform(X_train)\n",
    "X_test = scaler.transform(X_test)"
   ]
  },
  {
   "cell_type": "code",
   "execution_count": 9,
   "metadata": {},
   "outputs": [
    {
     "data": {
      "text/plain": [
       "array([[ 1.70499388,  0.22722932,  0.52960527, ...,  0.79074359,\n",
       "         0.78872674,  2.33371858],\n",
       "       [ 1.7037089 ,  0.07798216, -0.21032034, ...,  0.85181213,\n",
       "         0.84954352,  1.65685861],\n",
       "       [-0.47239114,  1.14898083,  0.99714001, ...,  0.74404045,\n",
       "         0.74221615, -0.35140453],\n",
       "       ...,\n",
       "       [ 1.12418654,  0.13861209, -1.53688017, ..., -0.48551421,\n",
       "        -0.48226938, -0.80718929],\n",
       "       [ 0.07436444, -1.20097179,  0.2054128 , ..., -1.19862451,\n",
       "        -1.19243971,  1.07165608],\n",
       "       [ 0.19354559,  0.74148946, -0.92216422, ...,  1.49514531,\n",
       "         1.49022441,  1.32484605]])"
      ]
     },
     "execution_count": 9,
     "metadata": {},
     "output_type": "execute_result"
    }
   ],
   "source": [
    "X_train"
   ]
  },
  {
   "cell_type": "markdown",
   "metadata": {},
   "source": [
    "# RandomForest"
   ]
  },
  {
   "cell_type": "code",
   "execution_count": 10,
   "metadata": {},
   "outputs": [],
   "source": [
    "from sklearn.ensemble import RandomForestClassifier\n",
    "\n",
    "# Create classifier\n",
    "rf = RandomForestClassifier()"
   ]
  },
  {
   "cell_type": "code",
   "execution_count": 11,
   "metadata": {},
   "outputs": [],
   "source": [
    "# Create param grid\n",
    "params_rf = {\n",
    "    \"n_estimators\": [100, 300, 500, 800, 1200],\n",
    "    \"max_depth\": [5, 8, 15, 25, 30],\n",
    "    \"min_samples_split\": [2, 5, 10, 15, 100],\n",
    "    \"min_samples_leaf\": [1, 2, 5, 10]\n",
    "}"
   ]
  },
  {
   "cell_type": "code",
   "execution_count": null,
   "metadata": {},
   "outputs": [],
   "source": [
    "rf = RandomizedSearchCV(rf, params_rf, cv=10, scoring=\"f1\", n_jobs=-1, random_state=42)\n",
    "rf.fit(X_train, y_train)"
   ]
  },
  {
   "cell_type": "code",
   "execution_count": null,
   "metadata": {},
   "outputs": [],
   "source": [
    "rf_pred = rf.predict(X_test)\n",
    "rf_pred"
   ]
  },
  {
   "cell_type": "code",
   "execution_count": null,
   "metadata": {},
   "outputs": [],
   "source": [
    "rf_score = f1_score(rf_pred, y_test)\n",
    "print(classification_report(rf_pred, y_test))"
   ]
  },
  {
   "cell_type": "markdown",
   "metadata": {},
   "source": [
    "# DecisionTree"
   ]
  },
  {
   "cell_type": "code",
   "execution_count": null,
   "metadata": {},
   "outputs": [],
   "source": [
    "from sklearn.tree import DecisionTreeClassifier\n",
    "\n",
    "# Create classifier\n",
    "dt = DecisionTreeClassifier()"
   ]
  },
  {
   "cell_type": "code",
   "execution_count": null,
   "metadata": {},
   "outputs": [],
   "source": [
    "# Create param grid\n",
    "param_grid_dt = {\n",
    "    \"criterion\": [\"gini\", \"entropy\"],\n",
    "    \"max_depth\": [5, 8, 15, 25, 30, 40, 50, 70, 90, 120, 150],\n",
    "    \"min_samples_split\": [2, 5, 10, 15, 100],\n",
    "    \"min_samples_leaf\": [1, 2, 5, 10]\n",
    "}"
   ]
  },
  {
   "cell_type": "code",
   "execution_count": null,
   "metadata": {},
   "outputs": [],
   "source": [
    "# Instantiate RandomSearch\n",
    "dt = RandomizedSearchCV(dt, param_grid_dt, cv=10, scoring=\"f1\", n_jobs=-1, random_state=42)\n",
    "dt.fit(X_train, y_train)"
   ]
  },
  {
   "cell_type": "code",
   "execution_count": null,
   "metadata": {},
   "outputs": [],
   "source": [
    "# Fit dataset\n",
    "dt_pred = dt.predict(X_test)"
   ]
  },
  {
   "cell_type": "code",
   "execution_count": null,
   "metadata": {},
   "outputs": [],
   "source": [
    "\n",
    "dt_score = f1_score(dt_pred, y_test)\n",
    "print(classification_report(dt_pred, y_test))"
   ]
  },
  {
   "cell_type": "code",
   "execution_count": null,
   "metadata": {
    "scrolled": true
   },
   "outputs": [],
   "source": []
  },
  {
   "cell_type": "markdown",
   "metadata": {},
   "source": [
    "# KNN"
   ]
  },
  {
   "cell_type": "code",
   "execution_count": null,
   "metadata": {},
   "outputs": [],
   "source": [
    "from sklearn.neighbors import KNeighborsClassifier\n",
    "\n",
    "# Create classifier\n",
    "knn = KNeighborsClassifier()"
   ]
  },
  {
   "cell_type": "code",
   "execution_count": null,
   "metadata": {},
   "outputs": [],
   "source": [
    "# Create param grid\n",
    "param_grid_knn = {\n",
    "    \"n_neighbors\": range(3,100,2)\n",
    "}"
   ]
  },
  {
   "cell_type": "code",
   "execution_count": null,
   "metadata": {},
   "outputs": [],
   "source": [
    "knn = RandomizedSearchCV(knn, param_grid_knn, cv=10, scoring=\"f1\", n_jobs=-1, random_state=42)\n",
    "knn.fit(X_train, y_train)"
   ]
  },
  {
   "cell_type": "code",
   "execution_count": null,
   "metadata": {},
   "outputs": [],
   "source": [
    "knn_pred = knn.predict(X_test)\n",
    "knn_score = f1_score(knn_pred, y_test)\n",
    "print(classification_report(knn_pred, y_test))"
   ]
  },
  {
   "cell_type": "code",
   "execution_count": null,
   "metadata": {},
   "outputs": [],
   "source": []
  },
  {
   "cell_type": "code",
   "execution_count": null,
   "metadata": {},
   "outputs": [],
   "source": []
  },
  {
   "cell_type": "markdown",
   "metadata": {},
   "source": [
    "# MLP"
   ]
  },
  {
   "cell_type": "code",
   "execution_count": null,
   "metadata": {},
   "outputs": [],
   "source": [
    "from sklearn.neural_network import MLPClassifier\n",
    "\n",
    "# Create classifier\n",
    "mlp = MLPClassifier()"
   ]
  },
  {
   "cell_type": "code",
   "execution_count": null,
   "metadata": {},
   "outputs": [],
   "source": [
    "# Create param grid\n",
    "param_grid_mlp = {\n",
    "    'hidden_layer_sizes': [(50,50,50), (50,100,50), (100,)],\n",
    "    'activation': ['tanh', 'relu'],\n",
    "    'solver': ['sgd', 'adam'],\n",
    "    'alpha': [0.0001, 0.05],\n",
    "    'learning_rate': ['constant','adaptive'],\n",
    "}"
   ]
  },
  {
   "cell_type": "code",
   "execution_count": null,
   "metadata": {},
   "outputs": [],
   "source": [
    "\n",
    "mlp = RandomizedSearchCV(mlp, param_grid_mlp, cv=10, scoring=\"f1\", n_jobs=-1, random_state=42)\n",
    "mlp.fit(X_train, y_train)"
   ]
  },
  {
   "cell_type": "code",
   "execution_count": null,
   "metadata": {},
   "outputs": [],
   "source": [
    "\n",
    "mlp_pred = mlp.predict(X_test)\n",
    "\n",
    "mlp_score = f1_score(mlp_pred, y_test)\n",
    "print(classification_report(mlp_pred, y_test))"
   ]
  },
  {
   "cell_type": "code",
   "execution_count": null,
   "metadata": {},
   "outputs": [],
   "source": []
  },
  {
   "cell_type": "code",
   "execution_count": null,
   "metadata": {},
   "outputs": [],
   "source": []
  },
  {
   "cell_type": "markdown",
   "metadata": {},
   "source": [
    "# SVC"
   ]
  },
  {
   "cell_type": "code",
   "execution_count": null,
   "metadata": {},
   "outputs": [],
   "source": [
    "from sklearn.svm import SVC\n",
    "\n",
    "# Create classifier\n",
    "svc = SVC()"
   ]
  },
  {
   "cell_type": "code",
   "execution_count": null,
   "metadata": {},
   "outputs": [],
   "source": [
    "# Create param grid\n",
    "param_grid_svc = {\n",
    "    \"kernel\": [\"linear\", \"rbf\", \"poly\"],\n",
    "    \"gamma\": [0.1, 1, 10, 100, 500],\n",
    "    \"C\": [0.1, 1, 10, 100, 1000],\n",
    "    \"degree\": [0, 1, 2, 3, 4, 5, 6]\n",
    "}"
   ]
  },
  {
   "cell_type": "code",
   "execution_count": null,
   "metadata": {},
   "outputs": [],
   "source": [
    "# Create param grid\n",
    "param_grid_svc = {\n",
    "    \"kernel\": [\"linear\", \"rbf\", \"poly\"]\n",
    "}"
   ]
  },
  {
   "cell_type": "code",
   "execution_count": null,
   "metadata": {},
   "outputs": [],
   "source": [
    "svc = RandomizedSearchCV(svc, param_grid_svc, cv=10, scoring=\"f1\", n_jobs=-1, random_state=42)\n",
    "svc.fit(X_train, y_train)"
   ]
  },
  {
   "cell_type": "code",
   "execution_count": null,
   "metadata": {},
   "outputs": [],
   "source": [
    "svc_pred = svc.predict(X_test)\n",
    "\n",
    "svc_score = f1_score(svc_pred, y_test)\n",
    "print(classification_report(svc_pred, y_test))"
   ]
  },
  {
   "cell_type": "code",
   "execution_count": null,
   "metadata": {},
   "outputs": [],
   "source": []
  },
  {
   "cell_type": "code",
   "execution_count": null,
   "metadata": {},
   "outputs": [],
   "source": []
  },
  {
   "cell_type": "markdown",
   "metadata": {},
   "source": [
    "# Naive-Bayes"
   ]
  },
  {
   "cell_type": "code",
   "execution_count": null,
   "metadata": {},
   "outputs": [],
   "source": [
    "from sklearn.naive_bayes import GaussianNB\n",
    "\n",
    "# Create classifier\n",
    "nb = GaussianNB()"
   ]
  },
  {
   "cell_type": "code",
   "execution_count": null,
   "metadata": {},
   "outputs": [],
   "source": [
    "# Create param grid\n",
    "param_grid_nb = {\n",
    "    'var_smoothing': np.logspace(0,-9, num=100)\n",
    "}"
   ]
  },
  {
   "cell_type": "code",
   "execution_count": null,
   "metadata": {},
   "outputs": [],
   "source": [
    "\n",
    "nb = RandomizedSearchCV(nb, param_grid_nb, cv=10, scoring=\"f1\", n_jobs=-1, random_state=42)\n",
    "nb.fit(X_train, y_train)"
   ]
  },
  {
   "cell_type": "code",
   "execution_count": null,
   "metadata": {},
   "outputs": [],
   "source": [
    "\n",
    "nb_pred = nb.predict(X_test)"
   ]
  },
  {
   "cell_type": "code",
   "execution_count": null,
   "metadata": {},
   "outputs": [],
   "source": [
    "\n",
    "nb_score = f1_score(nb_pred, y_test)\n",
    "print(classification_report(nb_pred, y_test))"
   ]
  },
  {
   "cell_type": "code",
   "execution_count": null,
   "metadata": {},
   "outputs": [],
   "source": []
  },
  {
   "cell_type": "code",
   "execution_count": null,
   "metadata": {},
   "outputs": [],
   "source": []
  },
  {
   "cell_type": "code",
   "execution_count": null,
   "metadata": {},
   "outputs": [],
   "source": [
    "scores = [rf_score, dt_score, knn_score, mlp_score, svc_score, nb_score]\n",
    "labels = [\"RF\", \"DT\", \"KNN\", \"MLP\", \"SVC\", \"NB\"]"
   ]
  },
  {
   "cell_type": "code",
   "execution_count": null,
   "metadata": {},
   "outputs": [],
   "source": [
    "\n",
    "plt.rcdefaults()\n",
    "fig, ax = plt.subplots()\n",
    "ax.barh(labels, scores)\n",
    "plt.xlim([0.70, 0.95])\n",
    "plt.xlabel(\"F1 Score\")\n",
    "plt.ylabel(\"Model\")\n",
    "plt.title(\"Comparison of different Models Prediction Results using the Merged Dataset\")\n",
    "plt.show()"
   ]
  },
  {
   "cell_type": "code",
   "execution_count": null,
   "metadata": {},
   "outputs": [],
   "source": [
    "cm = confusion_matrix(mlp_pred, y_test)\n",
    "disp = ConfusionMatrixDisplay(confusion_matrix=cm, display_labels=[\"Benign\", \"Malicious\"])\n",
    "disp.plot()\n",
    "plt.title(\"Confusion Matrix of MLP on the Merged Dataset\")\n",
    "plt.show()"
   ]
  }
 ],
 "metadata": {
  "kernelspec": {
   "display_name": "Python 3",
   "language": "python",
   "name": "python3"
  },
  "language_info": {
   "codemirror_mode": {
    "name": "ipython",
    "version": 3
   },
   "file_extension": ".py",
   "mimetype": "text/x-python",
   "name": "python",
   "nbconvert_exporter": "python",
   "pygments_lexer": "ipython3",
   "version": "3.8.3"
  }
 },
 "nbformat": 4,
 "nbformat_minor": 5
}
