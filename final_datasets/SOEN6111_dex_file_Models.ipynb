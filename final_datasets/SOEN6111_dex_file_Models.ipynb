{
 "cells": [
  {
   "cell_type": "code",
   "execution_count": 46,
   "metadata": {},
   "outputs": [],
   "source": [
    "import pandas as pd\n",
    "import matplotlib.pyplot as plt\n",
    "from sklearn.model_selection import train_test_split\n",
    "import sklearn\n",
    "import sklearn.preprocessing     # For StandardScaler\n",
    "import sklearn.linear_model      # For LogisticRegression\n",
    "import sklearn.neural_network    # For MLPClassifier\n",
    "from sklearn.metrics import confusion_matrix, plot_confusion_matrix,accuracy_score, f1_score, recall_score, precision_score\n",
    "from sklearn.tree import DecisionTreeClassifier\n",
    "from sklearn.ensemble import RandomForestClassifier, AdaBoostClassifier\n",
    "from sklearn.naive_bayes import GaussianNB\n"
   ]
  },
  {
   "cell_type": "markdown",
   "metadata": {},
   "source": [
    "# Load Dataset"
   ]
  },
  {
   "cell_type": "code",
   "execution_count": 47,
   "metadata": {},
   "outputs": [
    {
     "data": {
      "text/html": [
       "<div>\n",
       "<style scoped>\n",
       "    .dataframe tbody tr th:only-of-type {\n",
       "        vertical-align: middle;\n",
       "    }\n",
       "\n",
       "    .dataframe tbody tr th {\n",
       "        vertical-align: top;\n",
       "    }\n",
       "\n",
       "    .dataframe thead th {\n",
       "        text-align: right;\n",
       "    }\n",
       "</style>\n",
       "<table border=\"1\" class=\"dataframe\">\n",
       "  <thead>\n",
       "    <tr style=\"text-align: right;\">\n",
       "      <th></th>\n",
       "      <th>Unnamed: 0</th>\n",
       "      <th>id</th>\n",
       "      <th>is_malicious</th>\n",
       "      <th>1</th>\n",
       "      <th>2</th>\n",
       "      <th>3</th>\n",
       "      <th>4</th>\n",
       "      <th>5</th>\n",
       "      <th>6</th>\n",
       "      <th>7</th>\n",
       "      <th>...</th>\n",
       "      <th>23</th>\n",
       "      <th>24</th>\n",
       "      <th>25</th>\n",
       "      <th>26</th>\n",
       "      <th>27</th>\n",
       "      <th>28</th>\n",
       "      <th>29</th>\n",
       "      <th>30</th>\n",
       "      <th>31</th>\n",
       "      <th>32</th>\n",
       "    </tr>\n",
       "  </thead>\n",
       "  <tbody>\n",
       "    <tr>\n",
       "      <th>0</th>\n",
       "      <td>0</td>\n",
       "      <td>0864acb063671894c80220d3f77cbcdcb08f4aabf017cf...</td>\n",
       "      <td>1</td>\n",
       "      <td>2718.239393</td>\n",
       "      <td>1125.543435</td>\n",
       "      <td>1038.811133</td>\n",
       "      <td>920.025796</td>\n",
       "      <td>861.766204</td>\n",
       "      <td>810.089682</td>\n",
       "      <td>746.668342</td>\n",
       "      <td>...</td>\n",
       "      <td>1.869884e-13</td>\n",
       "      <td>1.869884e-13</td>\n",
       "      <td>1.869884e-13</td>\n",
       "      <td>1.869884e-13</td>\n",
       "      <td>1.869884e-13</td>\n",
       "      <td>1.869884e-13</td>\n",
       "      <td>1.869884e-13</td>\n",
       "      <td>1.869884e-13</td>\n",
       "      <td>1.869884e-13</td>\n",
       "      <td>8.969419e-14</td>\n",
       "    </tr>\n",
       "    <tr>\n",
       "      <th>1</th>\n",
       "      <td>1</td>\n",
       "      <td>477c68553ff88f831026e8842fe99fe14b2ddf08821a0c...</td>\n",
       "      <td>1</td>\n",
       "      <td>3048.841863</td>\n",
       "      <td>1084.342463</td>\n",
       "      <td>1003.619579</td>\n",
       "      <td>946.339372</td>\n",
       "      <td>848.429008</td>\n",
       "      <td>821.552961</td>\n",
       "      <td>760.381661</td>\n",
       "      <td>...</td>\n",
       "      <td>2.357381e-13</td>\n",
       "      <td>2.357381e-13</td>\n",
       "      <td>2.357381e-13</td>\n",
       "      <td>2.357381e-13</td>\n",
       "      <td>2.357381e-13</td>\n",
       "      <td>2.357381e-13</td>\n",
       "      <td>2.357381e-13</td>\n",
       "      <td>2.357381e-13</td>\n",
       "      <td>2.357381e-13</td>\n",
       "      <td>8.621432e-14</td>\n",
       "    </tr>\n",
       "    <tr>\n",
       "      <th>2</th>\n",
       "      <td>2</td>\n",
       "      <td>a0371b342482a12a1932b6930f24c5cb84226c325d9e25...</td>\n",
       "      <td>1</td>\n",
       "      <td>3121.137775</td>\n",
       "      <td>1133.301389</td>\n",
       "      <td>1047.593803</td>\n",
       "      <td>902.596307</td>\n",
       "      <td>807.939970</td>\n",
       "      <td>771.697648</td>\n",
       "      <td>722.248531</td>\n",
       "      <td>...</td>\n",
       "      <td>2.459566e-13</td>\n",
       "      <td>2.459566e-13</td>\n",
       "      <td>2.459566e-13</td>\n",
       "      <td>2.459566e-13</td>\n",
       "      <td>2.459566e-13</td>\n",
       "      <td>2.459566e-13</td>\n",
       "      <td>2.459566e-13</td>\n",
       "      <td>2.459566e-13</td>\n",
       "      <td>2.459566e-13</td>\n",
       "      <td>1.081333e-13</td>\n",
       "    </tr>\n",
       "    <tr>\n",
       "      <th>3</th>\n",
       "      <td>3</td>\n",
       "      <td>26d4ebb9a6693d71077f86794f28f1480db6d096c95ecb...</td>\n",
       "      <td>1</td>\n",
       "      <td>3182.089564</td>\n",
       "      <td>1156.645792</td>\n",
       "      <td>988.701177</td>\n",
       "      <td>961.084358</td>\n",
       "      <td>882.594958</td>\n",
       "      <td>795.379718</td>\n",
       "      <td>737.981924</td>\n",
       "      <td>...</td>\n",
       "      <td>2.259297e-13</td>\n",
       "      <td>2.259297e-13</td>\n",
       "      <td>2.259297e-13</td>\n",
       "      <td>2.259297e-13</td>\n",
       "      <td>2.259297e-13</td>\n",
       "      <td>2.259297e-13</td>\n",
       "      <td>2.259297e-13</td>\n",
       "      <td>2.259297e-13</td>\n",
       "      <td>2.259297e-13</td>\n",
       "      <td>1.476048e-13</td>\n",
       "    </tr>\n",
       "    <tr>\n",
       "      <th>4</th>\n",
       "      <td>4</td>\n",
       "      <td>361c51f12ffc337eb1293a1f49c1a5034ca708a9a46ac4...</td>\n",
       "      <td>1</td>\n",
       "      <td>2756.747112</td>\n",
       "      <td>1114.727262</td>\n",
       "      <td>1046.478482</td>\n",
       "      <td>945.737289</td>\n",
       "      <td>901.044547</td>\n",
       "      <td>858.141550</td>\n",
       "      <td>790.233702</td>\n",
       "      <td>...</td>\n",
       "      <td>1.967504e-13</td>\n",
       "      <td>1.967504e-13</td>\n",
       "      <td>1.967504e-13</td>\n",
       "      <td>1.967504e-13</td>\n",
       "      <td>1.967504e-13</td>\n",
       "      <td>1.967504e-13</td>\n",
       "      <td>1.967504e-13</td>\n",
       "      <td>1.967504e-13</td>\n",
       "      <td>1.967504e-13</td>\n",
       "      <td>1.626257e-13</td>\n",
       "    </tr>\n",
       "    <tr>\n",
       "      <th>...</th>\n",
       "      <td>...</td>\n",
       "      <td>...</td>\n",
       "      <td>...</td>\n",
       "      <td>...</td>\n",
       "      <td>...</td>\n",
       "      <td>...</td>\n",
       "      <td>...</td>\n",
       "      <td>...</td>\n",
       "      <td>...</td>\n",
       "      <td>...</td>\n",
       "      <td>...</td>\n",
       "      <td>...</td>\n",
       "      <td>...</td>\n",
       "      <td>...</td>\n",
       "      <td>...</td>\n",
       "      <td>...</td>\n",
       "      <td>...</td>\n",
       "      <td>...</td>\n",
       "      <td>...</td>\n",
       "      <td>...</td>\n",
       "      <td>...</td>\n",
       "    </tr>\n",
       "    <tr>\n",
       "      <th>10773</th>\n",
       "      <td>10773</td>\n",
       "      <td>Sha256_000C32D446A831E36F727F1331B0579FFC6EF8E...</td>\n",
       "      <td>0</td>\n",
       "      <td>3108.395999</td>\n",
       "      <td>1108.018160</td>\n",
       "      <td>986.675408</td>\n",
       "      <td>929.016497</td>\n",
       "      <td>838.867308</td>\n",
       "      <td>761.316200</td>\n",
       "      <td>714.684240</td>\n",
       "      <td>...</td>\n",
       "      <td>2.283709e-13</td>\n",
       "      <td>2.283709e-13</td>\n",
       "      <td>2.283709e-13</td>\n",
       "      <td>2.283709e-13</td>\n",
       "      <td>2.283709e-13</td>\n",
       "      <td>2.283709e-13</td>\n",
       "      <td>2.283709e-13</td>\n",
       "      <td>2.283709e-13</td>\n",
       "      <td>2.283709e-13</td>\n",
       "      <td>2.820447e-14</td>\n",
       "    </tr>\n",
       "    <tr>\n",
       "      <th>10774</th>\n",
       "      <td>10774</td>\n",
       "      <td>Sha256_000869C011E1C7D6A0DF34BB712A2851E736B9C...</td>\n",
       "      <td>0</td>\n",
       "      <td>3084.359987</td>\n",
       "      <td>1027.243597</td>\n",
       "      <td>973.700132</td>\n",
       "      <td>879.385231</td>\n",
       "      <td>873.197480</td>\n",
       "      <td>844.192095</td>\n",
       "      <td>795.711960</td>\n",
       "      <td>...</td>\n",
       "      <td>2.204760e-13</td>\n",
       "      <td>2.204760e-13</td>\n",
       "      <td>2.204760e-13</td>\n",
       "      <td>2.204760e-13</td>\n",
       "      <td>2.204760e-13</td>\n",
       "      <td>2.204760e-13</td>\n",
       "      <td>2.204760e-13</td>\n",
       "      <td>2.204760e-13</td>\n",
       "      <td>2.204760e-13</td>\n",
       "      <td>4.507240e-14</td>\n",
       "    </tr>\n",
       "    <tr>\n",
       "      <th>10775</th>\n",
       "      <td>10775</td>\n",
       "      <td>Sha256_000C3CF07E99F07C41C685E10978410238609A0...</td>\n",
       "      <td>0</td>\n",
       "      <td>3047.595636</td>\n",
       "      <td>1081.506514</td>\n",
       "      <td>1033.233856</td>\n",
       "      <td>889.461201</td>\n",
       "      <td>805.590885</td>\n",
       "      <td>769.233444</td>\n",
       "      <td>712.997871</td>\n",
       "      <td>...</td>\n",
       "      <td>2.182729e-13</td>\n",
       "      <td>2.182729e-13</td>\n",
       "      <td>2.182729e-13</td>\n",
       "      <td>2.182729e-13</td>\n",
       "      <td>2.182729e-13</td>\n",
       "      <td>2.182729e-13</td>\n",
       "      <td>2.182729e-13</td>\n",
       "      <td>2.182729e-13</td>\n",
       "      <td>2.182729e-13</td>\n",
       "      <td>8.638476e-14</td>\n",
       "    </tr>\n",
       "    <tr>\n",
       "      <th>10776</th>\n",
       "      <td>10776</td>\n",
       "      <td>Sha256_00223AD0498407AF755A9C8D842C9FA5EDCF2E2...</td>\n",
       "      <td>0</td>\n",
       "      <td>3146.497985</td>\n",
       "      <td>1081.958962</td>\n",
       "      <td>1054.311194</td>\n",
       "      <td>935.137177</td>\n",
       "      <td>838.086214</td>\n",
       "      <td>792.626381</td>\n",
       "      <td>764.729431</td>\n",
       "      <td>...</td>\n",
       "      <td>2.213128e-13</td>\n",
       "      <td>2.213128e-13</td>\n",
       "      <td>2.213128e-13</td>\n",
       "      <td>2.213128e-13</td>\n",
       "      <td>2.213128e-13</td>\n",
       "      <td>2.213128e-13</td>\n",
       "      <td>2.213128e-13</td>\n",
       "      <td>2.213128e-13</td>\n",
       "      <td>2.213128e-13</td>\n",
       "      <td>1.110579e-13</td>\n",
       "    </tr>\n",
       "    <tr>\n",
       "      <th>10777</th>\n",
       "      <td>10777</td>\n",
       "      <td>Sha256_00138A66E8936AF09892A0A5F7FDBD338B2BD93...</td>\n",
       "      <td>0</td>\n",
       "      <td>3022.089188</td>\n",
       "      <td>1107.086736</td>\n",
       "      <td>1001.402362</td>\n",
       "      <td>901.672916</td>\n",
       "      <td>842.534866</td>\n",
       "      <td>795.996431</td>\n",
       "      <td>766.060439</td>\n",
       "      <td>...</td>\n",
       "      <td>2.129987e-13</td>\n",
       "      <td>2.129987e-13</td>\n",
       "      <td>2.129987e-13</td>\n",
       "      <td>2.129987e-13</td>\n",
       "      <td>2.129987e-13</td>\n",
       "      <td>2.129987e-13</td>\n",
       "      <td>2.129987e-13</td>\n",
       "      <td>2.129987e-13</td>\n",
       "      <td>2.129987e-13</td>\n",
       "      <td>1.106448e-13</td>\n",
       "    </tr>\n",
       "  </tbody>\n",
       "</table>\n",
       "<p>10778 rows × 35 columns</p>\n",
       "</div>"
      ],
      "text/plain": [
       "       Unnamed: 0                                                 id  \\\n",
       "0               0  0864acb063671894c80220d3f77cbcdcb08f4aabf017cf...   \n",
       "1               1  477c68553ff88f831026e8842fe99fe14b2ddf08821a0c...   \n",
       "2               2  a0371b342482a12a1932b6930f24c5cb84226c325d9e25...   \n",
       "3               3  26d4ebb9a6693d71077f86794f28f1480db6d096c95ecb...   \n",
       "4               4  361c51f12ffc337eb1293a1f49c1a5034ca708a9a46ac4...   \n",
       "...           ...                                                ...   \n",
       "10773       10773  Sha256_000C32D446A831E36F727F1331B0579FFC6EF8E...   \n",
       "10774       10774  Sha256_000869C011E1C7D6A0DF34BB712A2851E736B9C...   \n",
       "10775       10775  Sha256_000C3CF07E99F07C41C685E10978410238609A0...   \n",
       "10776       10776  Sha256_00223AD0498407AF755A9C8D842C9FA5EDCF2E2...   \n",
       "10777       10777  Sha256_00138A66E8936AF09892A0A5F7FDBD338B2BD93...   \n",
       "\n",
       "       is_malicious            1            2            3           4  \\\n",
       "0                 1  2718.239393  1125.543435  1038.811133  920.025796   \n",
       "1                 1  3048.841863  1084.342463  1003.619579  946.339372   \n",
       "2                 1  3121.137775  1133.301389  1047.593803  902.596307   \n",
       "3                 1  3182.089564  1156.645792   988.701177  961.084358   \n",
       "4                 1  2756.747112  1114.727262  1046.478482  945.737289   \n",
       "...             ...          ...          ...          ...         ...   \n",
       "10773             0  3108.395999  1108.018160   986.675408  929.016497   \n",
       "10774             0  3084.359987  1027.243597   973.700132  879.385231   \n",
       "10775             0  3047.595636  1081.506514  1033.233856  889.461201   \n",
       "10776             0  3146.497985  1081.958962  1054.311194  935.137177   \n",
       "10777             0  3022.089188  1107.086736  1001.402362  901.672916   \n",
       "\n",
       "                5           6           7  ...            23            24  \\\n",
       "0      861.766204  810.089682  746.668342  ...  1.869884e-13  1.869884e-13   \n",
       "1      848.429008  821.552961  760.381661  ...  2.357381e-13  2.357381e-13   \n",
       "2      807.939970  771.697648  722.248531  ...  2.459566e-13  2.459566e-13   \n",
       "3      882.594958  795.379718  737.981924  ...  2.259297e-13  2.259297e-13   \n",
       "4      901.044547  858.141550  790.233702  ...  1.967504e-13  1.967504e-13   \n",
       "...           ...         ...         ...  ...           ...           ...   \n",
       "10773  838.867308  761.316200  714.684240  ...  2.283709e-13  2.283709e-13   \n",
       "10774  873.197480  844.192095  795.711960  ...  2.204760e-13  2.204760e-13   \n",
       "10775  805.590885  769.233444  712.997871  ...  2.182729e-13  2.182729e-13   \n",
       "10776  838.086214  792.626381  764.729431  ...  2.213128e-13  2.213128e-13   \n",
       "10777  842.534866  795.996431  766.060439  ...  2.129987e-13  2.129987e-13   \n",
       "\n",
       "                 25            26            27            28            29  \\\n",
       "0      1.869884e-13  1.869884e-13  1.869884e-13  1.869884e-13  1.869884e-13   \n",
       "1      2.357381e-13  2.357381e-13  2.357381e-13  2.357381e-13  2.357381e-13   \n",
       "2      2.459566e-13  2.459566e-13  2.459566e-13  2.459566e-13  2.459566e-13   \n",
       "3      2.259297e-13  2.259297e-13  2.259297e-13  2.259297e-13  2.259297e-13   \n",
       "4      1.967504e-13  1.967504e-13  1.967504e-13  1.967504e-13  1.967504e-13   \n",
       "...             ...           ...           ...           ...           ...   \n",
       "10773  2.283709e-13  2.283709e-13  2.283709e-13  2.283709e-13  2.283709e-13   \n",
       "10774  2.204760e-13  2.204760e-13  2.204760e-13  2.204760e-13  2.204760e-13   \n",
       "10775  2.182729e-13  2.182729e-13  2.182729e-13  2.182729e-13  2.182729e-13   \n",
       "10776  2.213128e-13  2.213128e-13  2.213128e-13  2.213128e-13  2.213128e-13   \n",
       "10777  2.129987e-13  2.129987e-13  2.129987e-13  2.129987e-13  2.129987e-13   \n",
       "\n",
       "                 30            31            32  \n",
       "0      1.869884e-13  1.869884e-13  8.969419e-14  \n",
       "1      2.357381e-13  2.357381e-13  8.621432e-14  \n",
       "2      2.459566e-13  2.459566e-13  1.081333e-13  \n",
       "3      2.259297e-13  2.259297e-13  1.476048e-13  \n",
       "4      1.967504e-13  1.967504e-13  1.626257e-13  \n",
       "...             ...           ...           ...  \n",
       "10773  2.283709e-13  2.283709e-13  2.820447e-14  \n",
       "10774  2.204760e-13  2.204760e-13  4.507240e-14  \n",
       "10775  2.182729e-13  2.182729e-13  8.638476e-14  \n",
       "10776  2.213128e-13  2.213128e-13  1.110579e-13  \n",
       "10777  2.129987e-13  2.129987e-13  1.106448e-13  \n",
       "\n",
       "[10778 rows x 35 columns]"
      ]
     },
     "execution_count": 47,
     "metadata": {},
     "output_type": "execute_result"
    }
   ],
   "source": [
    "data = pd.read_csv(\"datasets/processed_dex_final.csv\")\n",
    "data"
   ]
  },
  {
   "cell_type": "code",
   "execution_count": 48,
   "metadata": {},
   "outputs": [],
   "source": [
    "X = data.drop(['Unnamed: 0', \"id\", \"is_malicious\"], axis=1)  # Features\n",
    "y = data[\"is_malicious\"]  # Label"
   ]
  },
  {
   "cell_type": "code",
   "execution_count": 49,
   "metadata": {},
   "outputs": [],
   "source": [
    "X = X.to_numpy().astype('float32' )\n",
    "y = y.to_numpy().astype('int32')"
   ]
  },
  {
   "cell_type": "code",
   "execution_count": 50,
   "metadata": {},
   "outputs": [],
   "source": [
    "X_train, X_test, y_train, y_test = train_test_split( X, y, test_size=0.2, random_state=1)"
   ]
  },
  {
   "cell_type": "code",
   "execution_count": 51,
   "metadata": {},
   "outputs": [
    {
     "name": "stdout",
     "output_type": "stream",
     "text": [
      "X: (8622, 32) float32\n",
      "y: (8622,) int32\n"
     ]
    }
   ],
   "source": [
    "print(\"X:\", X_train.shape, X_train.dtype)\n",
    "print(\"y:\", y_train.shape, y_train.dtype)"
   ]
  },
  {
   "cell_type": "code",
   "execution_count": 52,
   "metadata": {},
   "outputs": [],
   "source": [
    "#prepocess data\n",
    "scaler = sklearn.preprocessing.StandardScaler().fit(X_train)\n",
    "\n",
    "X_train = scaler.transform(X_train)\n",
    "X_test = scaler.transform(X_test)"
   ]
  },
  {
   "cell_type": "code",
   "execution_count": 53,
   "metadata": {},
   "outputs": [],
   "source": [
    "Performance = pd.DataFrame()\n",
    "Metrics=['Accuracy','Recall','Precision','F1-score']\n",
    "Performance['Metrics'] = Metrics"
   ]
  },
  {
   "cell_type": "markdown",
   "metadata": {},
   "source": [
    "# Decision tree"
   ]
  },
  {
   "cell_type": "code",
   "execution_count": 54,
   "metadata": {},
   "outputs": [],
   "source": [
    "dt=sklearn.tree.DecisionTreeClassifier()\n",
    "dt.fit(X_train,y_train)\n",
    "\n",
    "y_pred_train = dt.predict(X_train)\n",
    "y_pred_test = dt.predict(X_test)\n",
    "\n"
   ]
  },
  {
   "cell_type": "code",
   "execution_count": 55,
   "metadata": {},
   "outputs": [
    {
     "name": "stdout",
     "output_type": "stream",
     "text": [
      "Train accuracy : 100.00%\n",
      "Train f1 : 82.93%\n",
      "Train recall : 100.00%\n",
      "Train precision : 100.00%\n"
     ]
    }
   ],
   "source": [
    "t_acc = accuracy_score(y_train, y_pred_train)\n",
    "t_f1 = f1_score(y_train, y_pred_train)\n",
    "t_recall = recall_score(y_train, y_pred_train)\n",
    "t_precision = precision_score(y_train, y_pred_train)\n",
    "print('Train accuracy : %.2f%%'% (100*t_acc) )\n",
    "print('Train f1 : %.2f%%'% (100*t_f1) )\n",
    "print('Train recall : %.2f%%'% (100*t_recall) )\n",
    "print('Train precision : %.2f%%'% (100*t_precision) )"
   ]
  },
  {
   "cell_type": "code",
   "execution_count": 56,
   "metadata": {},
   "outputs": [
    {
     "name": "stdout",
     "output_type": "stream",
     "text": [
      "Test accuracy : 81.03%\n",
      "Test f1 : 81.91%\n",
      "Test recall : 82.02%\n",
      "Test precision : 81.80%\n"
     ]
    }
   ],
   "source": [
    "acc = accuracy_score(y_test, y_pred_test)\n",
    "f1 = f1_score(y_test, y_pred_test)\n",
    "recall = recall_score(y_test, y_pred_test)\n",
    "precision = precision_score(y_test, y_pred_test)\n",
    "print('Test accuracy : %.2f%%'% (100*acc) )\n",
    "print('Test f1 : %.2f%%'% (100*f1) )\n",
    "print('Test recall : %.2f%%'% (100*recall) )\n",
    "print('Test precision : %.2f%%'% (100*precision) )\n",
    "\n",
    "Performance['Decision Tree'] = [acc,recall,precision,f1]"
   ]
  },
  {
   "cell_type": "code",
   "execution_count": 58,
   "metadata": {},
   "outputs": [
    {
     "data": {
      "image/png": "[encoded data removed]",
      "text/plain": [
       "<Figure size 432x288 with 2 Axes>"
      ]
     },
     "metadata": {
      "needs_background": "light"
     },
     "output_type": "display_data"
    }
   ],
   "source": [
    "plot_confusion_matrix(dt, X_test, y_test, display_labels=['Begnin','Malicious']) \n",
    "plt.show()"
   ]
  },
  {
   "cell_type": "markdown",
   "metadata": {},
   "source": [
    "# Random Forest"
   ]
  },
  {
   "cell_type": "code",
   "execution_count": 59,
   "metadata": {},
   "outputs": [],
   "source": [
    "rf=sklearn.ensemble.RandomForestClassifier(random_state=0,n_estimators=3)\n",
    "rf.fit(X_train,y_train)\n",
    "\n",
    "y_pred_train = rf.predict(X_train)\n",
    "y_pred_test = rf.predict(X_test)"
   ]
  },
  {
   "cell_type": "code",
   "execution_count": 60,
   "metadata": {},
   "outputs": [
    {
     "name": "stdout",
     "output_type": "stream",
     "text": [
      "Train accuracy : 96.80%\n",
      "Train f1 : 81.91%\n",
      "Train recall : 96.67%\n",
      "Train precision : 97.07%\n"
     ]
    }
   ],
   "source": [
    "t_acc = accuracy_score(y_train, y_pred_train)\n",
    "t_f1 = f1_score(y_train, y_pred_train)\n",
    "t_recall = recall_score(y_train, y_pred_train)\n",
    "t_precision = precision_score(y_train, y_pred_train)\n",
    "print('Train accuracy : %.2f%%'% (100*t_acc) )\n",
    "print('Train f1 : %.2f%%'% (100*t_f1) )\n",
    "print('Train recall : %.2f%%'% (100*t_recall) )\n",
    "print('Train precision : %.2f%%'% (100*t_precision) )"
   ]
  },
  {
   "cell_type": "code",
   "execution_count": 61,
   "metadata": {},
   "outputs": [
    {
     "name": "stdout",
     "output_type": "stream",
     "text": [
      "Test accuracy : 82.37%\n",
      "Test f1 : 82.93%\n",
      "Test recall : 81.75%\n",
      "Test precision : 84.14%\n"
     ]
    }
   ],
   "source": [
    "acc = accuracy_score(y_test, y_pred_test)\n",
    "f1 = f1_score(y_test, y_pred_test)\n",
    "recall = recall_score(y_test, y_pred_test)\n",
    "precision = precision_score(y_test, y_pred_test)\n",
    "print('Test accuracy : %.2f%%'% (100*acc) )\n",
    "print('Test f1 : %.2f%%'% (100*f1) )\n",
    "print('Test recall : %.2f%%'% (100*recall) )\n",
    "print('Test precision : %.2f%%'% (100*precision) )\n",
    "\n",
    "Performance['Random Forest'] = [acc,recall,precision,f1]"
   ]
  },
  {
   "cell_type": "code",
   "execution_count": 67,
   "metadata": {},
   "outputs": [
    {
     "data": {
      "image/png": "[encoded data removed]",
      "text/plain": [
       "<Figure size 432x288 with 2 Axes>"
      ]
     },
     "metadata": {
      "needs_background": "light"
     },
     "output_type": "display_data"
    }
   ],
   "source": [
    "plot_confusion_matrix(rf, X_test, y_test, display_labels=['Begnin','Malicious']) \n",
    "plt.show()"
   ]
  },
  {
   "cell_type": "markdown",
   "metadata": {},
   "source": [
    "# Logistic Regression"
   ]
  },
  {
   "cell_type": "code",
   "execution_count": null,
   "metadata": {},
   "outputs": [],
   "source": [
    "lr = sklearn.linear_model.LogisticRegression(C=0.01, random_state=0)  # C=0.01 from Exercise 1.4\n",
    "lr.fit(X_train, y_train)"
   ]
  },
  {
   "cell_type": "code",
   "execution_count": null,
   "metadata": {},
   "outputs": [],
   "source": [
    "t_acc = accuracy_score(y_train, y_pred_train)\n",
    "t_f1 = f1_score(y_train, y_pred_train)\n",
    "t_recall = recall_score(y_train, y_pred_train)\n",
    "t_precision = precision_score(y_train, y_pred_train)\n",
    "print('Train accuracy : %.2f%%'% (100*t_acc) )\n",
    "print('Train f1 : %.2f%%'% (100*t_f1) )\n",
    "print('Train recall : %.2f%%'% (100*t_recall) )\n",
    "print('Train precision : %.2f%%'% (100*t_precision) )"
   ]
  },
  {
   "cell_type": "code",
   "execution_count": null,
   "metadata": {},
   "outputs": [],
   "source": [
    "acc = accuracy_score(y_test, y_pred_test)\n",
    "f1 = f1_score(y_test, y_pred_test)\n",
    "recall = recall_score(y_test, y_pred_test)\n",
    "precision = precision_score(y_test, y_pred_test)\n",
    "print('Test accuracy : %.2f%%'% (100*acc) )\n",
    "print('Test f1 : %.2f%%'% (100*f1) )\n",
    "print('Test recall : %.2f%%'% (100*recall) )\n",
    "print('Test precision : %.2f%%'% (100*precision) )\n",
    "\n",
    "Performance['LR'] = [acc,recall,precision,f1]"
   ]
  },
  {
   "cell_type": "code",
   "execution_count": null,
   "metadata": {},
   "outputs": [],
   "source": [
    "plot_confusion_matrix(lr, X_test, y_test, display_labels=['Begnin','Malicious']) \n",
    "plt.show()"
   ]
  },
  {
   "cell_type": "markdown",
   "metadata": {},
   "source": [
    "# KNN"
   ]
  },
  {
   "cell_type": "code",
   "execution_count": 45,
   "metadata": {},
   "outputs": [
    {
     "name": "stdout",
     "output_type": "stream",
     "text": [
      "Train accuracy : 93.06%\n",
      "Test accuracy : 83.95%\n",
      "Train accuracy : 91.30%\n",
      "Test accuracy : 85.20%\n",
      "Train accuracy : 89.23%\n",
      "Test accuracy : 83.91%\n",
      "Train accuracy : 88.66%\n",
      "Test accuracy : 85.20%\n",
      "Train accuracy : 87.71%\n",
      "Test accuracy : 83.72%\n",
      "Train accuracy : 87.23%\n",
      "Test accuracy : 84.51%\n"
     ]
    }
   ],
   "source": [
    "for k in range(2,8):\n",
    "    knn = neigh =  sklearn.neighbors.KNeighborsClassifier(n_neighbors=k).fit(X_train,y_train)\n",
    "    y_pred_train = knn.predict(X_train)\n",
    "    y_pred_test = knn.predict(X_test)\n",
    "\n",
    "    acc_train = sklearn.metrics.accuracy_score(y_pred_train, y_train)\n",
    "    acc_test = sklearn.metrics.accuracy_score(y_pred_test, y_test)\n",
    "    print('Train accuracy : %.2f%%'% (100*acc_train))\n",
    "    print('Test accuracy : %.2f%%'% (100*acc_test))"
   ]
  },
  {
   "cell_type": "code",
   "execution_count": 63,
   "metadata": {},
   "outputs": [],
   "source": [
    "knn = neigh =  sklearn.neighbors.KNeighborsClassifier(n_neighbors=3).fit(X_train,y_train)\n",
    "y_pred_train = knn.predict(X_train)\n",
    "y_pred_test = knn.predict(X_test)"
   ]
  },
  {
   "cell_type": "code",
   "execution_count": 64,
   "metadata": {},
   "outputs": [
    {
     "name": "stdout",
     "output_type": "stream",
     "text": [
      "Train accuracy : 91.30%\n",
      "Train f1 : 82.93%\n",
      "Train recall : 92.46%\n",
      "Train precision : 90.74%\n"
     ]
    }
   ],
   "source": [
    "t_acc = accuracy_score(y_train, y_pred_train)\n",
    "t_f1 = f1_score(y_train, y_pred_train)\n",
    "t_recall = recall_score(y_train, y_pred_train)\n",
    "t_precision = precision_score(y_train, y_pred_train)\n",
    "print('Train accuracy : %.2f%%'% (100*t_acc) )\n",
    "print('Train f1 : %.2f%%'% (100*t_f1) )\n",
    "print('Train recall : %.2f%%'% (100*t_recall) )\n",
    "print('Train precision : %.2f%%'% (100*t_precision) )"
   ]
  },
  {
   "cell_type": "code",
   "execution_count": 65,
   "metadata": {},
   "outputs": [
    {
     "name": "stdout",
     "output_type": "stream",
     "text": [
      "Test accuracy : 85.20%\n",
      "Test f1 : 85.83%\n",
      "Test recall : 85.56%\n",
      "Test precision : 86.10%\n"
     ]
    }
   ],
   "source": [
    "acc = accuracy_score(y_test, y_pred_test)\n",
    "f1 = f1_score(y_test, y_pred_test)\n",
    "recall = recall_score(y_test, y_pred_test)\n",
    "precision = precision_score(y_test, y_pred_test)\n",
    "print('Test accuracy : %.2f%%'% (100*acc) )\n",
    "print('Test f1 : %.2f%%'% (100*f1) )\n",
    "print('Test recall : %.2f%%'% (100*recall) )\n",
    "print('Test precision : %.2f%%'% (100*precision) )\n",
    "\n",
    "Performance['KNN'] = [acc,recall,precision,f1]"
   ]
  },
  {
   "cell_type": "code",
   "execution_count": 66,
   "metadata": {},
   "outputs": [
    {
     "data": {
      "image/png": "[encoded data removed]",
      "text/plain": [
       "<Figure size 432x288 with 2 Axes>"
      ]
     },
     "metadata": {
      "needs_background": "light"
     },
     "output_type": "display_data"
    }
   ],
   "source": [
    "plot_confusion_matrix(knn, X_test, y_test, display_labels=['Begnin','Malicious']) \n",
    "plt.show()"
   ]
  },
  {
   "cell_type": "markdown",
   "metadata": {},
   "source": [
    "# GAUSSIAN NB"
   ]
  },
  {
   "cell_type": "code",
   "execution_count": 70,
   "metadata": {},
   "outputs": [],
   "source": [
    "gnb = GaussianNB()\n",
    "gnb.fit(X_train,y_train)\n",
    "\n",
    "y_pred_train = gnb.predict(X_train)\n",
    "y_pred_test = gnb.predict(X_test)"
   ]
  },
  {
   "cell_type": "code",
   "execution_count": 71,
   "metadata": {},
   "outputs": [
    {
     "name": "stdout",
     "output_type": "stream",
     "text": [
      "Train accuracy : 64.32%\n",
      "Train f1 : 85.83%\n",
      "Train recall : 49.02%\n",
      "Train precision : 72.47%\n"
     ]
    }
   ],
   "source": [
    "t_acc = accuracy_score(y_train, y_pred_train)\n",
    "t_f1 = f1_score(y_train, y_pred_train)\n",
    "t_recall = recall_score(y_train, y_pred_train)\n",
    "t_precision = precision_score(y_train, y_pred_train)\n",
    "print('Train accuracy : %.2f%%'% (100*t_acc) )\n",
    "print('Train f1 : %.2f%%'% (100*t_f1) )\n",
    "print('Train recall : %.2f%%'% (100*t_recall) )\n",
    "print('Train precision : %.2f%%'% (100*t_precision) )"
   ]
  },
  {
   "cell_type": "code",
   "execution_count": 72,
   "metadata": {},
   "outputs": [
    {
     "name": "stdout",
     "output_type": "stream",
     "text": [
      "Test accuracy : 65.31%\n",
      "Test f1 : 60.38%\n",
      "Test recall : 50.49%\n",
      "Test precision : 75.10%\n"
     ]
    }
   ],
   "source": [
    "acc = accuracy_score(y_test, y_pred_test)\n",
    "f1 = f1_score(y_test, y_pred_test)\n",
    "recall = recall_score(y_test, y_pred_test)\n",
    "precision = precision_score(y_test, y_pred_test)\n",
    "print('Test accuracy : %.2f%%'% (100*acc) )\n",
    "print('Test f1 : %.2f%%'% (100*f1) )\n",
    "print('Test recall : %.2f%%'% (100*recall) )\n",
    "print('Test precision : %.2f%%'% (100*precision) )\n",
    "\n",
    "Performance['Gaussian Naive Bayes'] = [acc,recall,precision,f1]"
   ]
  },
  {
   "cell_type": "code",
   "execution_count": 74,
   "metadata": {},
   "outputs": [
    {
     "data": {
      "image/png": "[encoded data removed]",
      "text/plain": [
       "<Figure size 432x288 with 2 Axes>"
      ]
     },
     "metadata": {
      "needs_background": "light"
     },
     "output_type": "display_data"
    }
   ],
   "source": [
    "plot_confusion_matrix(gnb, X_test, y_test, display_labels=['Begnin','Malicious']) \n",
    "plt.show()"
   ]
  },
  {
   "cell_type": "markdown",
   "metadata": {},
   "source": [
    "# MLP"
   ]
  },
  {
   "cell_type": "code",
   "execution_count": 75,
   "metadata": {},
   "outputs": [
    {
     "name": "stdout",
     "output_type": "stream",
     "text": [
      "Iteration 1, loss = 0.51715233\n",
      "Iteration 2, loss = 0.41353243\n",
      "Iteration 3, loss = 0.39080840\n",
      "Iteration 4, loss = 0.37712237\n",
      "Iteration 5, loss = 0.36439416\n",
      "Iteration 6, loss = 0.35551110\n",
      "Iteration 7, loss = 0.34779378\n",
      "Iteration 8, loss = 0.35136822\n",
      "Iteration 9, loss = 0.33205568\n",
      "Iteration 10, loss = 0.32670006\n",
      "Iteration 11, loss = 0.31816344\n",
      "Iteration 12, loss = 0.30933417\n",
      "Iteration 13, loss = 0.30699412\n",
      "Iteration 14, loss = 0.29903401\n",
      "Iteration 15, loss = 0.29331123\n",
      "Iteration 16, loss = 0.28753079\n",
      "Iteration 17, loss = 0.28393225\n",
      "Iteration 18, loss = 0.28169908\n",
      "Iteration 19, loss = 0.27728650\n",
      "Iteration 20, loss = 0.27417610\n",
      "Iteration 21, loss = 0.26659716\n",
      "Iteration 22, loss = 0.26114871\n",
      "Iteration 23, loss = 0.26154023\n",
      "Iteration 24, loss = 0.25811051\n",
      "Iteration 25, loss = 0.26971596\n",
      "Iteration 26, loss = 0.25810134\n",
      "Iteration 27, loss = 0.24845448\n",
      "Iteration 28, loss = 0.24164091\n",
      "Iteration 29, loss = 0.24286444\n",
      "Iteration 30, loss = 0.23714559\n",
      "Iteration 31, loss = 0.23328735\n",
      "Iteration 32, loss = 0.22654298\n",
      "Iteration 33, loss = 0.22479661\n",
      "Iteration 34, loss = 0.22433311\n",
      "Iteration 35, loss = 0.21758546\n",
      "Iteration 36, loss = 0.21896275\n",
      "Iteration 37, loss = 0.21800807\n",
      "Iteration 38, loss = 0.21701491\n",
      "Iteration 39, loss = 0.21262465\n",
      "Iteration 40, loss = 0.20907064\n",
      "Iteration 41, loss = 0.21371985\n",
      "Iteration 42, loss = 0.22838225\n",
      "Iteration 43, loss = 0.21369722\n",
      "Iteration 44, loss = 0.20449966\n",
      "Iteration 45, loss = 0.19917088\n",
      "Iteration 46, loss = 0.19717691\n",
      "Iteration 47, loss = 0.20166835\n",
      "Iteration 48, loss = 0.19441700\n",
      "Iteration 49, loss = 0.18941632\n",
      "Iteration 50, loss = 0.19116662\n",
      "Iteration 51, loss = 0.18425069\n",
      "Iteration 52, loss = 0.18559746\n",
      "Iteration 53, loss = 0.19219052\n",
      "Iteration 54, loss = 0.18137757\n",
      "Iteration 55, loss = 0.17575105\n",
      "Iteration 56, loss = 0.18150670\n",
      "Iteration 57, loss = 0.20117105\n",
      "Iteration 58, loss = 0.19922180\n",
      "Iteration 59, loss = 0.17928279\n",
      "Iteration 60, loss = 0.17290650\n",
      "Iteration 61, loss = 0.17222594\n",
      "Iteration 62, loss = 0.17076714\n",
      "Iteration 63, loss = 0.17084653\n",
      "Iteration 64, loss = 0.16519138\n",
      "Iteration 65, loss = 0.17179795\n",
      "Iteration 66, loss = 0.16473923\n",
      "Iteration 67, loss = 0.16414693\n",
      "Iteration 68, loss = 0.15474308\n",
      "Iteration 69, loss = 0.16814400\n",
      "Iteration 70, loss = 0.15817559\n",
      "Iteration 71, loss = 0.16175804\n",
      "Iteration 72, loss = 0.16161616\n",
      "Iteration 73, loss = 0.15344006\n",
      "Iteration 74, loss = 0.15201645\n",
      "Iteration 75, loss = 0.20020040\n",
      "Iteration 76, loss = 0.18855666\n",
      "Iteration 77, loss = 0.15910213\n",
      "Iteration 78, loss = 0.15258675\n",
      "Iteration 79, loss = 0.14124122\n",
      "Iteration 80, loss = 0.14667120\n",
      "Iteration 81, loss = 0.13854063\n",
      "Iteration 82, loss = 0.15113993\n",
      "Iteration 83, loss = 0.15095197\n",
      "Iteration 84, loss = 0.14119483\n",
      "Iteration 85, loss = 0.13729687\n",
      "Iteration 86, loss = 0.13588964\n",
      "Iteration 87, loss = 0.14679421\n",
      "Iteration 88, loss = 0.14375366\n",
      "Iteration 89, loss = 0.13805286\n",
      "Iteration 90, loss = 0.13697373\n",
      "Iteration 91, loss = 0.12856569\n",
      "Iteration 92, loss = 0.12886425\n",
      "Iteration 93, loss = 0.13581287\n",
      "Iteration 94, loss = 0.12786102\n",
      "Iteration 95, loss = 0.13045606\n",
      "Iteration 96, loss = 0.13486181\n",
      "Iteration 97, loss = 0.14252105\n",
      "Iteration 98, loss = 0.12728753\n",
      "Iteration 99, loss = 0.12940636\n",
      "Iteration 100, loss = 0.13007879\n"
     ]
    },
    {
     "name": "stderr",
     "output_type": "stream",
     "text": [
      "C:\\Program Files\\Anaconda3\\envs\\py38\\lib\\site-packages\\sklearn\\neural_network\\_multilayer_perceptron.py:582: ConvergenceWarning: Stochastic Optimizer: Maximum iterations (100) reached and the optimization hasn't converged yet.\n",
      "  warnings.warn(\n"
     ]
    }
   ],
   "source": [
    "mlp = sklearn.neural_network.MLPClassifier(hidden_layer_sizes=(60,20,5),\n",
    "                                           solver='sgd', batch_size=32, max_iter=100,\n",
    "                                           learning_rate_init=.01, momentum=0.9,\n",
    "                                           verbose=True, random_state=0)\n",
    "\n",
    "mlp.fit(X_train, y_train);\n",
    "\n",
    "y_pred_train = mlp.predict(X_train)\n",
    "y_pred_test = mlp.predict(X_test)"
   ]
  },
  {
   "cell_type": "code",
   "execution_count": 76,
   "metadata": {},
   "outputs": [
    {
     "name": "stdout",
     "output_type": "stream",
     "text": [
      "Train accuracy : 94.33%\n",
      "Train f1 : 60.38%\n",
      "Train recall : 91.36%\n",
      "Train precision : 97.42%\n"
     ]
    }
   ],
   "source": [
    "t_acc = accuracy_score(y_train, y_pred_train)\n",
    "t_f1 = f1_score(y_train, y_pred_train)\n",
    "t_recall = recall_score(y_train, y_pred_train)\n",
    "t_precision = precision_score(y_train, y_pred_train)\n",
    "print('Train accuracy : %.2f%%'% (100*t_acc) )\n",
    "print('Train f1 : %.2f%%'% (100*t_f1) )\n",
    "print('Train recall : %.2f%%'% (100*t_recall) )\n",
    "print('Train precision : %.2f%%'% (100*t_precision) )"
   ]
  },
  {
   "cell_type": "code",
   "execution_count": 77,
   "metadata": {},
   "outputs": [
    {
     "name": "stdout",
     "output_type": "stream",
     "text": [
      "Test accuracy : 84.14%\n",
      "Test f1 : 84.25%\n",
      "Test recall : 81.05%\n",
      "Test precision : 87.73%\n"
     ]
    }
   ],
   "source": [
    "acc = accuracy_score(y_test, y_pred_test)\n",
    "f1 = f1_score(y_test, y_pred_test)\n",
    "recall = recall_score(y_test, y_pred_test)\n",
    "precision = precision_score(y_test, y_pred_test)\n",
    "print('Test accuracy : %.2f%%'% (100*acc) )\n",
    "print('Test f1 : %.2f%%'% (100*f1) )\n",
    "print('Test recall : %.2f%%'% (100*recall) )\n",
    "print('Test precision : %.2f%%'% (100*precision) )\n",
    "\n",
    "Performance['MLP'] = [acc,recall,precision,f1]"
   ]
  },
  {
   "cell_type": "code",
   "execution_count": 78,
   "metadata": {},
   "outputs": [
    {
     "data": {
      "image/png": "[encoded data removed]",
      "text/plain": [
       "<Figure size 432x288 with 2 Axes>"
      ]
     },
     "metadata": {
      "needs_background": "light"
     },
     "output_type": "display_data"
    }
   ],
   "source": [
    "plot_confusion_matrix(mlp, X_test, y_test, display_labels=['Begnin','Malicious']) \n",
    "plt.show()"
   ]
  },
  {
   "cell_type": "markdown",
   "metadata": {},
   "source": [
    "# SVM"
   ]
  },
  {
   "cell_type": "code",
   "execution_count": 79,
   "metadata": {},
   "outputs": [],
   "source": [
    "y_train_svm = y_train*2 - 1\n",
    "y_test_svm = y_test*2-1\n",
    "svm = sklearn.svm.SVC(kernel='linear')\n",
    "svm.fit(X_train, y_train_svm)\n",
    "\n",
    "y_pred_train = svm.predict(X_train)\n",
    "y_pred_test = svm.predict(X_test)"
   ]
  },
  {
   "cell_type": "code",
   "execution_count": 80,
   "metadata": {},
   "outputs": [
    {
     "name": "stdout",
     "output_type": "stream",
     "text": [
      "Train accuracy : 78.79%\n",
      "Train f1 : 84.25%\n",
      "Train recall : 80.97%\n",
      "Train precision : 78.36%\n"
     ]
    }
   ],
   "source": [
    "t_acc = accuracy_score(y_train_svm, y_pred_train)\n",
    "t_f1 = f1_score(y_train_svm, y_pred_train)\n",
    "t_recall = recall_score(y_train_svm, y_pred_train)\n",
    "t_precision = precision_score(y_train_svm, y_pred_train)\n",
    "print('Train accuracy : %.2f%%'% (100*t_acc) )\n",
    "print('Train f1 : %.2f%%'% (100*t_f1) )\n",
    "print('Train recall : %.2f%%'% (100*t_recall) )\n",
    "print('Train precision : %.2f%%'% (100*t_precision) )"
   ]
  },
  {
   "cell_type": "code",
   "execution_count": 82,
   "metadata": {},
   "outputs": [
    {
     "name": "stdout",
     "output_type": "stream",
     "text": [
      "Test accuracy : 79.36%\n",
      "Test f1 : 80.44%\n",
      "Test recall : 81.05%\n",
      "Test precision : 79.84%\n"
     ]
    }
   ],
   "source": [
    "acc = accuracy_score(y_test_svm, y_pred_test)\n",
    "f1 = f1_score(y_test_svm, y_pred_test)\n",
    "recall = recall_score(y_test_svm, y_pred_test)\n",
    "precision = precision_score(y_test_svm, y_pred_test)\n",
    "print('Test accuracy : %.2f%%'% (100*acc) )\n",
    "print('Test f1 : %.2f%%'% (100*f1) )\n",
    "print('Test recall : %.2f%%'% (100*recall) )\n",
    "print('Test precision : %.2f%%'% (100*precision) )\n",
    "\n",
    "Performance['SVM'] = [acc,recall,precision,f1]"
   ]
  },
  {
   "cell_type": "code",
   "execution_count": 90,
   "metadata": {},
   "outputs": [
    {
     "data": {
      "image/png": "[encoded data removed]",
      "text/plain": [
       "<Figure size 432x288 with 2 Axes>"
      ]
     },
     "metadata": {
      "needs_background": "light"
     },
     "output_type": "display_data"
    }
   ],
   "source": [
    "plot_confusion_matrix(svm, X_test, y_test_svm, display_labels=['Begnin','Malicious']) \n",
    "plt.show()"
   ]
  },
  {
   "cell_type": "markdown",
   "metadata": {},
   "source": [
    "# ADA BOOSTING"
   ]
  },
  {
   "cell_type": "code",
   "execution_count": 85,
   "metadata": {},
   "outputs": [],
   "source": [
    "AdaB= AdaBoostClassifier(n_estimators=3, algorithm='SAMME', random_state=0).fit(X_train,y_train)\n",
    "\n",
    "y_pred_train = AdaB.predict(X_train)\n",
    "y_pred_test = AdaB.predict(X_test)"
   ]
  },
  {
   "cell_type": "code",
   "execution_count": 86,
   "metadata": {},
   "outputs": [
    {
     "name": "stdout",
     "output_type": "stream",
     "text": [
      "Train accuracy : 64.17%\n",
      "Train f1 : 80.44%\n",
      "Train recall : 41.32%\n",
      "Train precision : 78.64%\n"
     ]
    }
   ],
   "source": [
    "t_acc = accuracy_score(y_train, y_pred_train)\n",
    "t_f1 = f1_score(y_train, y_pred_train)\n",
    "t_recall = recall_score(y_train, y_pred_train)\n",
    "t_precision = precision_score(y_train, y_pred_train)\n",
    "print('Train accuracy : %.2f%%'% (100*t_acc) )\n",
    "print('Train f1 : %.2f%%'% (100*t_f1) )\n",
    "print('Train recall : %.2f%%'% (100*t_recall) )\n",
    "print('Train precision : %.2f%%'% (100*t_precision) )"
   ]
  },
  {
   "cell_type": "code",
   "execution_count": 87,
   "metadata": {},
   "outputs": [
    {
     "name": "stdout",
     "output_type": "stream",
     "text": [
      "Test accuracy : 21.75%\n",
      "Test f1 : 54.79%\n",
      "Test recall : 41.54%\n",
      "Test precision : 80.45%\n"
     ]
    }
   ],
   "source": [
    "acc = accuracy_score(y_test_svm, y_pred_test)\n",
    "f1 = f1_score(y_test, y_pred_test)\n",
    "recall = recall_score(y_test, y_pred_test)\n",
    "precision = precision_score(y_test, y_pred_test)\n",
    "print('Test accuracy : %.2f%%'% (100*acc))\n",
    "print('Test f1 : %.2f%%'% (100*f1) )\n",
    "print('Test recall : %.2f%%'% (100*recall))\n",
    "print('Test precision : %.2f%%'% (100*precision))\n",
    "\n",
    "Performance['Ada Boosting'] = [acc,recall,precision,f1]"
   ]
  },
  {
   "cell_type": "code",
   "execution_count": 91,
   "metadata": {},
   "outputs": [
    {
     "data": {
      "image/png": "[encoded data removed]",
      "text/plain": [
       "<Figure size 432x288 with 2 Axes>"
      ]
     },
     "metadata": {
      "needs_background": "light"
     },
     "output_type": "display_data"
    }
   ],
   "source": [
    "plot_confusion_matrix(AdaB, X_test, y_test, display_labels=['Begnin','Malicious']) \n",
    "plt.show()"
   ]
  },
  {
   "cell_type": "markdown",
   "metadata": {},
   "source": [
    "# RESULTS COMPARISON"
   ]
  },
  {
   "cell_type": "code",
   "execution_count": 92,
   "metadata": {},
   "outputs": [
    {
     "data": {
      "text/html": [
       "<div>\n",
       "<style scoped>\n",
       "    .dataframe tbody tr th:only-of-type {\n",
       "        vertical-align: middle;\n",
       "    }\n",
       "\n",
       "    .dataframe tbody tr th {\n",
       "        vertical-align: top;\n",
       "    }\n",
       "\n",
       "    .dataframe thead th {\n",
       "        text-align: right;\n",
       "    }\n",
       "</style>\n",
       "<table border=\"1\" class=\"dataframe\">\n",
       "  <thead>\n",
       "    <tr style=\"text-align: right;\">\n",
       "      <th></th>\n",
       "      <th>Metrics</th>\n",
       "      <th>Decision Tree</th>\n",
       "      <th>Random Forest</th>\n",
       "      <th>KNN</th>\n",
       "      <th>Gaussian Naive Bayes</th>\n",
       "      <th>MLP</th>\n",
       "      <th>SVM</th>\n",
       "      <th>Ada Boosting</th>\n",
       "    </tr>\n",
       "  </thead>\n",
       "  <tbody>\n",
       "    <tr>\n",
       "      <th>0</th>\n",
       "      <td>Accuracy</td>\n",
       "      <td>0.810297</td>\n",
       "      <td>0.823748</td>\n",
       "      <td>0.852041</td>\n",
       "      <td>0.653061</td>\n",
       "      <td>0.841373</td>\n",
       "      <td>0.793599</td>\n",
       "      <td>0.217532</td>\n",
       "    </tr>\n",
       "    <tr>\n",
       "      <th>1</th>\n",
       "      <td>Recall</td>\n",
       "      <td>0.820195</td>\n",
       "      <td>0.817538</td>\n",
       "      <td>0.855624</td>\n",
       "      <td>0.504872</td>\n",
       "      <td>0.810452</td>\n",
       "      <td>0.810452</td>\n",
       "      <td>0.415412</td>\n",
       "    </tr>\n",
       "    <tr>\n",
       "      <th>2</th>\n",
       "      <td>Precision</td>\n",
       "      <td>0.818021</td>\n",
       "      <td>0.841386</td>\n",
       "      <td>0.860963</td>\n",
       "      <td>0.750988</td>\n",
       "      <td>0.877277</td>\n",
       "      <td>0.798429</td>\n",
       "      <td>0.804460</td>\n",
       "    </tr>\n",
       "    <tr>\n",
       "      <th>3</th>\n",
       "      <td>F1-score</td>\n",
       "      <td>0.819107</td>\n",
       "      <td>0.829290</td>\n",
       "      <td>0.858285</td>\n",
       "      <td>0.603814</td>\n",
       "      <td>0.842541</td>\n",
       "      <td>0.804396</td>\n",
       "      <td>0.547897</td>\n",
       "    </tr>\n",
       "  </tbody>\n",
       "</table>\n",
       "</div>"
      ],
      "text/plain": [
       "     Metrics  Decision Tree  Random Forest       KNN  Gaussian Naive Bayes  \\\n",
       "0   Accuracy       0.810297       0.823748  0.852041              0.653061   \n",
       "1     Recall       0.820195       0.817538  0.855624              0.504872   \n",
       "2  Precision       0.818021       0.841386  0.860963              0.750988   \n",
       "3   F1-score       0.819107       0.829290  0.858285              0.603814   \n",
       "\n",
       "        MLP       SVM  Ada Boosting  \n",
       "0  0.841373  0.793599      0.217532  \n",
       "1  0.810452  0.810452      0.415412  \n",
       "2  0.877277  0.798429      0.804460  \n",
       "3  0.842541  0.804396      0.547897  "
      ]
     },
     "execution_count": 92,
     "metadata": {},
     "output_type": "execute_result"
    }
   ],
   "source": [
    "Performance"
   ]
  },
  {
   "cell_type": "code",
   "execution_count": null,
   "metadata": {},
   "outputs": [],
   "source": []
  }
 ],
 "metadata": {
  "kernelspec": {
   "display_name": "Python 3",
   "language": "python",
   "name": "python3"
  },
  "language_info": {
   "codemirror_mode": {
    "name": "ipython",
    "version": 3
   },
   "file_extension": ".py",
   "mimetype": "text/x-python",
   "name": "python",
   "nbconvert_exporter": "python",
   "pygments_lexer": "ipython3",
   "version": "3.8.3"
  }
 },
 "nbformat": 4,
 "nbformat_minor": 4
}
