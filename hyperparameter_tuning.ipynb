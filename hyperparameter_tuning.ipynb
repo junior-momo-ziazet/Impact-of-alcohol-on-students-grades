{
 "cells": [
  {
   "cell_type": "code",
   "execution_count": 3,
   "id": "determined-suffering",
   "metadata": {},
   "outputs": [],
   "source": [
    "import pandas as pd\n",
    "import matplotlib.pyplot as plt\n",
    "from sklearn.model_selection import RandomizedSearchCV, GridSearchCV\n",
    "import numpy as np"
   ]
  },
  {
   "cell_type": "code",
   "execution_count": 4,
   "id": "secret-capacity",
   "metadata": {},
   "outputs": [],
   "source": [
    "df = pd.read_csv(\"dataset.csv\")\n",
    "X = df.drop([\"id\", \"is_malicious\"], axis=1)\n",
    "y = df['is_malicious']"
   ]
  },
  {
   "cell_type": "markdown",
   "id": "rental-surface",
   "metadata": {},
   "source": [
    "# RandomForest"
   ]
  },
  {
   "cell_type": "code",
   "execution_count": 5,
   "id": "freelance-bearing",
   "metadata": {},
   "outputs": [],
   "source": [
    "from sklearn.ensemble import RandomForestClassifier\n",
    "\n",
    "# Create classifier\n",
    "rf = RandomForestClassifier()"
   ]
  },
  {
   "cell_type": "code",
   "execution_count": 6,
   "id": "exclusive-norman",
   "metadata": {},
   "outputs": [],
   "source": [
    "# Create param grid\n",
    "param_grid_rf = {\n",
    "    \"n_estimators\": [100, 300, 500, 800, 1200],\n",
    "    \"max_depth\": [5, 8, 15, 25, 30],\n",
    "    \"min_samples_split\": [2, 5, 10, 15, 100],\n",
    "    \"min_samples_leaf\": [1, 2, 5, 10]\n",
    "}"
   ]
  },
  {
   "cell_type": "code",
   "execution_count": 7,
   "id": "logical-asbestos",
   "metadata": {},
   "outputs": [],
   "source": [
    "# Instantiate RandomSearch\n",
    "rscv_rf = RandomizedSearchCV(rf, param_grid_rf, cv=10, scoring=\"f1\", n_jobs=-1, random_state=42)\n",
    "\n",
    "# Instantiate GridSearch\n",
    "gscv_rf = GridSearchCV(rf, param_grid_rf, cv=10, scoring=\"f1\", n_jobs=-1)"
   ]
  },
  {
   "cell_type": "code",
   "execution_count": null,
   "id": "quick-enhancement",
   "metadata": {},
   "outputs": [],
   "source": [
    "# Fit dataset\n",
    "rscv_rf.fit(X, y)"
   ]
  },
  {
   "cell_type": "code",
   "execution_count": null,
   "id": "orange-realtor",
   "metadata": {},
   "outputs": [],
   "source": [
    "gscv_rf.fit(X, y)"
   ]
  },
  {
   "cell_type": "code",
   "execution_count": 70,
   "id": "authorized-curtis",
   "metadata": {},
   "outputs": [
    {
     "name": "stdout",
     "output_type": "stream",
     "text": [
      "F1 Score: 0.9114339584105234\n",
      "Best Params: {'n_estimators': 300, 'min_samples_split': 10, 'min_samples_leaf': 5, 'max_depth': 25}\n"
     ]
    }
   ],
   "source": [
    "print(\"F1 Score: \" + str(rscv_rf.best_score_))\n",
    "print(\"Best Params: \" + str(rscv_rf.best_params_))"
   ]
  },
  {
   "cell_type": "markdown",
   "id": "handy-requirement",
   "metadata": {},
   "source": [
    "# DecisionTree"
   ]
  },
  {
   "cell_type": "code",
   "execution_count": 58,
   "id": "computational-receptor",
   "metadata": {},
   "outputs": [],
   "source": [
    "from sklearn.tree import DecisionTreeClassifier\n",
    "\n",
    "# Create classifier\n",
    "dt = DecisionTreeClassifier()"
   ]
  },
  {
   "cell_type": "code",
   "execution_count": 59,
   "id": "figured-cleaner",
   "metadata": {},
   "outputs": [],
   "source": [
    "# Create param grid\n",
    "param_grid_dt = {\n",
    "    \"criterion\": [\"gini\", \"entropy\"],\n",
    "    \"max_depth\": [5, 8, 15, 25, 30, 40, 50, 70, 90, 120, 150],\n",
    "    \"min_samples_split\": [2, 5, 10, 15, 100],\n",
    "    \"min_samples_leaf\": [1, 2, 5, 10]\n",
    "}"
   ]
  },
  {
   "cell_type": "code",
   "execution_count": 60,
   "id": "psychological-equipment",
   "metadata": {},
   "outputs": [],
   "source": [
    "# Instantiate RandomSearch\n",
    "rscv_dt = RandomizedSearchCV(dt, param_grid_dt, cv=10, scoring=\"f1\", n_jobs=-1, random_state=42)\n",
    "\n",
    "# Instantiate GridSearch\n",
    "gscv_dt = GridSearchCV(dt, param_grid_dt, cv=10, scoring=\"f1\", n_jobs=-1)"
   ]
  },
  {
   "cell_type": "code",
   "execution_count": null,
   "id": "medium-barbados",
   "metadata": {},
   "outputs": [],
   "source": [
    "# Fit dataset\n",
    "rscv_dt.fit(X, y)"
   ]
  },
  {
   "cell_type": "code",
   "execution_count": null,
   "id": "worth-bolivia",
   "metadata": {},
   "outputs": [],
   "source": [
    "gscv_dt.fit(X, y)"
   ]
  },
  {
   "cell_type": "code",
   "execution_count": 69,
   "id": "selected-april",
   "metadata": {
    "scrolled": true
   },
   "outputs": [
    {
     "name": "stdout",
     "output_type": "stream",
     "text": [
      "F1 Score: 0.8794412490338199\n",
      "Best Params: {'min_samples_split': 10, 'min_samples_leaf': 1, 'max_depth': 30, 'criterion': 'gini'}\n"
     ]
    }
   ],
   "source": [
    "print(\"F1 Score: \" + str(rscv_dt.best_score_))\n",
    "print(\"Best Params: \" + str(rscv_dt.best_params_))"
   ]
  },
  {
   "cell_type": "markdown",
   "id": "early-crisis",
   "metadata": {},
   "source": [
    "# KNN"
   ]
  },
  {
   "cell_type": "code",
   "execution_count": 63,
   "id": "matched-talent",
   "metadata": {},
   "outputs": [],
   "source": [
    "from sklearn.neighbors import KNeighborsClassifier\n",
    "\n",
    "# Create classifier\n",
    "knn = KNeighborsClassifier()"
   ]
  },
  {
   "cell_type": "code",
   "execution_count": 64,
   "id": "plastic-member",
   "metadata": {},
   "outputs": [],
   "source": [
    "# Create param grid\n",
    "param_grid_knn = {\n",
    "    \"n_neighbors\": range(3,100,2)\n",
    "}"
   ]
  },
  {
   "cell_type": "code",
   "execution_count": 65,
   "id": "delayed-occasions",
   "metadata": {},
   "outputs": [],
   "source": [
    "# Instantiate RandomSearch\n",
    "rscv_knn = RandomizedSearchCV(knn, param_grid_knn, cv=10, scoring=\"f1\", n_jobs=-1, random_state=42)\n",
    "\n",
    "# Instantiate GridSearch\n",
    "gscv_knn = GridSearchCV(knn, param_grid_knn, cv=10, scoring=\"f1\", n_jobs=-1)"
   ]
  },
  {
   "cell_type": "code",
   "execution_count": null,
   "id": "earlier-heritage",
   "metadata": {},
   "outputs": [],
   "source": [
    "rscv_knn.fit(X, y)"
   ]
  },
  {
   "cell_type": "code",
   "execution_count": null,
   "id": "parliamentary-drilling",
   "metadata": {},
   "outputs": [],
   "source": [
    "gscv_knn.fit(X, y)"
   ]
  },
  {
   "cell_type": "code",
   "execution_count": 68,
   "id": "egyptian-acoustic",
   "metadata": {},
   "outputs": [
    {
     "name": "stdout",
     "output_type": "stream",
     "text": [
      "F1 Score: 0.8294048673630139\n",
      "Best Params: {'n_neighbors': 29}\n"
     ]
    }
   ],
   "source": [
    "print(\"F1 Score: \" + str(rscv_knn.best_score_))\n",
    "print(\"Best Params: \" + str(rscv_knn.best_params_))"
   ]
  },
  {
   "cell_type": "markdown",
   "id": "ceramic-electron",
   "metadata": {},
   "source": [
    "# MLP"
   ]
  },
  {
   "cell_type": "code",
   "execution_count": 72,
   "id": "faced-remove",
   "metadata": {},
   "outputs": [],
   "source": [
    "from sklearn.neural_network import MLPClassifier\n",
    "\n",
    "# Create classifier\n",
    "mlp = MLPClassifier()"
   ]
  },
  {
   "cell_type": "code",
   "execution_count": 73,
   "id": "quick-executive",
   "metadata": {},
   "outputs": [],
   "source": [
    "# Create param grid\n",
    "param_grid_mlp = {\n",
    "    'hidden_layer_sizes': [(50,50,50), (50,100,50), (100,)],\n",
    "    'activation': ['tanh', 'relu'],\n",
    "    'solver': ['sgd', 'adam'],\n",
    "    'alpha': [0.0001, 0.05],\n",
    "    'learning_rate': ['constant','adaptive'],\n",
    "}"
   ]
  },
  {
   "cell_type": "code",
   "execution_count": 74,
   "id": "eleven-nightmare",
   "metadata": {},
   "outputs": [],
   "source": [
    "# Instantiate RandomSearch\n",
    "rscv_mlp = RandomizedSearchCV(mlp, param_grid_mlp, cv=10, scoring=\"f1\", n_jobs=-1, random_state=42)\n",
    "\n",
    "# Instantiate GridSearch\n",
    "gscv_mlp = GridSearchCV(knn, param_grid_mlp, cv=10, scoring=\"f1\", n_jobs=-1)"
   ]
  },
  {
   "cell_type": "code",
   "execution_count": null,
   "id": "controversial-empty",
   "metadata": {},
   "outputs": [],
   "source": [
    "rscv_mlp.fit(X, y)"
   ]
  },
  {
   "cell_type": "code",
   "execution_count": null,
   "id": "silent-lawyer",
   "metadata": {},
   "outputs": [],
   "source": [
    "gscv_mlp.fit(X, y)"
   ]
  },
  {
   "cell_type": "code",
   "execution_count": 76,
   "id": "future-possibility",
   "metadata": {},
   "outputs": [
    {
     "name": "stdout",
     "output_type": "stream",
     "text": [
      "F1 Score: 0.8316050441639973\n",
      "Best Params: {'solver': 'adam', 'learning_rate': 'constant', 'hidden_layer_sizes': (50, 50, 50), 'alpha': 0.0001, 'activation': 'relu'}\n"
     ]
    }
   ],
   "source": [
    "print(\"F1 Score: \" + str(rscv_mlp.best_score_))\n",
    "print(\"Best Params: \" + str(rscv_mlp.best_params_))"
   ]
  },
  {
   "cell_type": "markdown",
   "id": "applied-explanation",
   "metadata": {},
   "source": [
    "# SVC"
   ]
  },
  {
   "cell_type": "code",
   "execution_count": 102,
   "id": "hired-canvas",
   "metadata": {},
   "outputs": [],
   "source": [
    "from sklearn.svm import SVC\n",
    "\n",
    "# Create classifier\n",
    "svc = SVC()"
   ]
  },
  {
   "cell_type": "code",
   "execution_count": 115,
   "id": "suffering-eating",
   "metadata": {},
   "outputs": [],
   "source": [
    "# Create param grid\n",
    "param_grid_svc = {\n",
    "    \"kernel\": [\"linear\", \"rbf\", \"poly\"],\n",
    "    \"gamma\": [0.1, 1, 10, 100, 500],\n",
    "    \"C\": [0.1, 1, 10, 100, 1000],\n",
    "    \"degree\": [0, 1, 2, 3, 4, 5, 6]\n",
    "}"
   ]
  },
  {
   "cell_type": "code",
   "execution_count": 116,
   "id": "delayed-supervision",
   "metadata": {},
   "outputs": [],
   "source": [
    "# Instantiate RandomSearch\n",
    "rscv_svc = RandomizedSearchCV(svc, param_grid_svc, cv=10 scoring=\"f1\", n_jobs=-1, random_state=42)\n",
    "\n",
    "# Instantiate GridSearch\n",
    "gscv_svc = GridSearchCV(svc, param_grid_mlp, cv=10, scoring=\"f1\", n_jobs=-1)"
   ]
  },
  {
   "cell_type": "code",
   "execution_count": null,
   "id": "measured-special",
   "metadata": {},
   "outputs": [],
   "source": [
    "rscv_svc.fit(X, y)"
   ]
  },
  {
   "cell_type": "code",
   "execution_count": null,
   "id": "departmental-experience",
   "metadata": {},
   "outputs": [],
   "source": [
    "gscv_svc.fit(X, y)"
   ]
  },
  {
   "cell_type": "code",
   "execution_count": null,
   "id": "nutritional-uncertainty",
   "metadata": {},
   "outputs": [],
   "source": [
    "print(\"F1 Score: \" + str(rscv_svc.best_score_))\n",
    "print(\"Best Params: \" + str(rscv_svc.best_params_))"
   ]
  },
  {
   "cell_type": "markdown",
   "id": "devoted-festival",
   "metadata": {},
   "source": [
    "# Naive-Bayes"
   ]
  },
  {
   "cell_type": "code",
   "execution_count": 97,
   "id": "marked-success",
   "metadata": {},
   "outputs": [],
   "source": [
    "from sklearn.naive_bayes import GaussianNB\n",
    "\n",
    "# Create classifier\n",
    "nb = GaussianNB()"
   ]
  },
  {
   "cell_type": "code",
   "execution_count": 98,
   "id": "sunrise-python",
   "metadata": {},
   "outputs": [],
   "source": [
    "# Create param grid\n",
    "param_grid_nb = {\n",
    "    'var_smoothing': np.logspace(0,-9, num=100)\n",
    "}"
   ]
  },
  {
   "cell_type": "code",
   "execution_count": 99,
   "id": "amended-auckland",
   "metadata": {},
   "outputs": [],
   "source": [
    "# Instantiate RandomSearch\n",
    "rscv_nb = RandomizedSearchCV(nb, param_grid_nb, cv=10, scoring=\"f1\", n_jobs=-1, random_state=42)\n",
    "\n",
    "# Instantiate GridSearch\n",
    "gscv_nb = GridSearchCV(nb, param_grid_mlp, cv=10, scoring=\"f1\", n_jobs=-1)"
   ]
  },
  {
   "cell_type": "code",
   "execution_count": null,
   "id": "christian-departure",
   "metadata": {},
   "outputs": [],
   "source": [
    "rscv_nb.fit(X, y)"
   ]
  },
  {
   "cell_type": "code",
   "execution_count": null,
   "id": "alive-crazy",
   "metadata": {},
   "outputs": [],
   "source": [
    "gscv_nb.fit(X, y)"
   ]
  },
  {
   "cell_type": "code",
   "execution_count": 101,
   "id": "little-choice",
   "metadata": {},
   "outputs": [
    {
     "name": "stdout",
     "output_type": "stream",
     "text": [
      "F1 Score: 0.81696749409685\n",
      "Best Params: {'var_smoothing': 5.336699231206302e-08}\n"
     ]
    }
   ],
   "source": [
    "print(\"F1 Score: \" + str(rscv_nb.best_score_))\n",
    "print(\"Best Params: \" + str(rscv_nb.best_params_))"
   ]
  }
 ],
 "metadata": {
  "kernelspec": {
   "display_name": "Python 3",
   "language": "python",
   "name": "python3"
  },
  "language_info": {
   "codemirror_mode": {
    "name": "ipython",
    "version": 3
   },
   "file_extension": ".py",
   "mimetype": "text/x-python",
   "name": "python",
   "nbconvert_exporter": "python",
   "pygments_lexer": "ipython3",
   "version": "3.6.13"
  }
 },
 "nbformat": 4,
 "nbformat_minor": 5
}
