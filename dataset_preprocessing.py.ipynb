{
 "cells": [
  {
   "cell_type": "code",
   "execution_count": 149,
   "id": "awful-difficulty",
   "metadata": {},
   "outputs": [],
   "source": [
    "import pandas as pd\n",
    "\n",
    "df = pd.read_csv(\"dataset.csv\")"
   ]
  },
  {
   "cell_type": "code",
   "execution_count": 148,
   "id": "hairy-rough",
   "metadata": {
    "scrolled": false
   },
   "outputs": [],
   "source": [
    "# Get dataframe columns\n",
    "columns = df.columns\n",
    "\n",
    "# Filter manifest columns\n",
    "manifest_features = columns[1:len(columns)-33]\n",
    "dfm = df[manifest_features]\n",
    "\n",
    "# Remove warnings\n",
    "pd.options.mode.chained_assignment = None\n",
    "\n",
    "# Compute the sum of each permission\n",
    "dfm.loc[\"total\"] = dfm.sum(numeric_only=True, axis=0)"
   ]
  },
  {
   "cell_type": "code",
   "execution_count": 146,
   "id": "measured-providence",
   "metadata": {},
   "outputs": [
    {
     "data": {
      "text/plain": [
       "<AxesSubplot:>"
      ]
     },
     "execution_count": 146,
     "metadata": {},
     "output_type": "execute_result"
    },
    {
     "data": {
      "image/png": "[encoded data removed]",
      "text/plain": [
       "<Figure size 432x288 with 1 Axes>"
      ]
     },
     "metadata": {
      "needs_background": "light"
     },
     "output_type": "display_data"
    }
   ],
   "source": [
    "import matplotlib.pyplot as plt\n",
    "\n",
    "# Extract total row from Manifest DataFrame\n",
    "total = dfm.loc[\"total\"]\n",
    "\n",
    "# Remove x axis labels for readability\n",
    "axes = plt.axes()\n",
    "x_axis = axes.xaxis\n",
    "x_axis.set_visible(False)\n",
    "\n",
    "# Set tresholds\n",
    "permissions_count = len(total.index)\n",
    "row_count = len(dfm.index)\n",
    "top_treshold = 0.9 * row_count\n",
    "bottom_treshold = 0.03 * row_count\n",
    "\n",
    "# Draw treshold\n",
    "plt.hlines(y=[bottom_treshold, top_treshold], xmin=0, xmax=permissions_count, color=\"green\")\n",
    "\n",
    "total.plot()"
   ]
  },
  {
   "cell_type": "code",
   "execution_count": 131,
   "id": "athletic-yacht",
   "metadata": {},
   "outputs": [],
   "source": [
    "# Filter dataframe\n",
    "\n",
    "df_manifest = dfm.loc[:, (dfm.loc[\"total\"]) > bottom_treshold]"
   ]
  },
  {
   "cell_type": "code",
   "execution_count": 132,
   "id": "express-commodity",
   "metadata": {
    "scrolled": false
   },
   "outputs": [],
   "source": [
    "df_id = df[\"id\"]\n",
    "\n",
    "dex_features = columns[len(columns)-33:]\n",
    "df_dex = df[dex_features]\n",
    "\n",
    "df = pd.merge(left=df_id, right=df_manifest, left_index=True, right_index=True, how=\"inner\")\n",
    "df = pd.merge(left=df, right=df_dex, left_index=True, right_index=True, how=\"inner\")\n",
    "\n",
    "df.to_csv(\"dataset_treshold.csv\")"
   ]
  },
  {
   "cell_type": "code",
   "execution_count": 150,
   "id": "persistent-boost",
   "metadata": {},
   "outputs": [],
   "source": [
    "from sklearn.model_selection import train_test_split\n",
    "\n",
    "X = df.drop([\"id\", \"is_malicious\"], axis=1)\n",
    "y = df[\"is_malicious\"]\n",
    "\n",
    "X_train, X_test, y_train, y_test = train_test_split(X, y, test_size=0.2, random_state=1)"
   ]
  },
  {
   "cell_type": "code",
   "execution_count": 155,
   "id": "generic-homework",
   "metadata": {},
   "outputs": [
    {
     "name": "stdout",
     "output_type": "stream",
     "text": [
      "Fitting 3 folds for each of 100 candidates, totalling 300 fits\n"
     ]
    },
    {
     "data": {
      "text/plain": [
       "RandomizedSearchCV(cv=3, estimator=RandomForestClassifier(), n_iter=100,\n",
       "                   n_jobs=-1,\n",
       "                   param_distributions={'bootstrap': [True, False],\n",
       "                                        'max_depth': [10, 20, 30, 40, 50, 60,\n",
       "                                                      70, 80, 90, 100, None],\n",
       "                                        'max_features': ['auto', 'sqrt'],\n",
       "                                        'min_samples_leaf': [1, 2, 4],\n",
       "                                        'min_samples_split': [2, 5, 10],\n",
       "                                        'n_estimators': [200, 400, 600, 800,\n",
       "                                                         1000, 1200, 1400, 1600,\n",
       "                                                         1800, 2000]},\n",
       "                   random_state=1, verbose=2)"
      ]
     },
     "execution_count": 155,
     "metadata": {},
     "output_type": "execute_result"
    }
   ],
   "source": [
    "from sklearn.ensemble import RandomForestClassifier\n",
    "from sklearn.model_selection import RandomizedSearchCV\n",
    "\n",
    "random_grid = {\n",
    "    'bootstrap': [True, False],\n",
    "    'max_depth': [10, 20, 30, 40, 50, 60, 70, 80, 90, 100, None],\n",
    "    'max_features': ['auto', 'sqrt'],\n",
    "    'min_samples_leaf': [1, 2, 4],\n",
    "    'min_samples_split': [2, 5, 10],\n",
    "    'n_estimators': [200, 400, 600, 800, 1000, 1200, 1400, 1600, 1800, 2000]\n",
    "}\n",
    "\n",
    "rf = RandomForestClassifier()\n",
    "\n",
    "rf_random = RandomizedSearchCV(estimator = rf, param_distributions = random_grid, n_iter = 100, cv = 3, verbose=2, random_state=1, n_jobs = -1)\n",
    "rf_random.fit(X_train, y_train)\n",
    "# rf_pred = rf.predict(X_test)"
   ]
  },
  {
   "cell_type": "code",
   "execution_count": 167,
   "id": "wooden-supplier",
   "metadata": {},
   "outputs": [
    {
     "name": "stdout",
     "output_type": "stream",
     "text": [
      "With Params\n",
      "              precision    recall  f1-score   support\n",
      "\n",
      "           0       0.96      0.90      0.93      1096\n",
      "           1       0.90      0.96      0.93      1060\n",
      "\n",
      "    accuracy                           0.93      2156\n",
      "   macro avg       0.93      0.93      0.93      2156\n",
      "weighted avg       0.93      0.93      0.93      2156\n",
      "\n"
     ]
    }
   ],
   "source": [
    "params = {'n_estimators': 1200,\n",
    " 'min_samples_split': 2,\n",
    " 'min_samples_leaf': 1,\n",
    " 'max_features': 'sqrt',\n",
    " 'max_depth': None,\n",
    " 'bootstrap': False}\n",
    "\n",
    "rf_with_params = RandomForestClassifier(n_estimators=1200, min_samples_split=2, min_samples_leaf=1, max_features=\"sqrt\", max_depth=None, bootstrap=False)\n",
    "rf_with_params.fit(X_train, y_train)\n",
    "\n",
    "pred_with_params=rf_with_params.predict(X_test)\n",
    "\n",
    "print(\"With Params\")\n",
    "print(classification_report(pred_with_params, y_test))"
   ]
  },
  {
   "cell_type": "code",
   "execution_count": 168,
   "id": "important-buffalo",
   "metadata": {},
   "outputs": [
    {
     "name": "stdout",
     "output_type": "stream",
     "text": [
      "[2.32381352e-06 8.46453215e-06 1.87489190e-03 3.20807911e-05\n",
      " 3.65041863e-04 1.26076694e-04 1.79817596e-02 1.08586918e-03\n",
      " 4.79437105e-02 1.31778660e-05 5.99226907e-05 1.14762530e-02\n",
      " 1.29365049e-04 9.45019327e-05 6.31236911e-04 1.52120563e-05\n",
      " 7.40194585e-04 3.33580821e-05 5.52253950e-05 9.39784314e-07\n",
      " 6.76343647e-06 0.00000000e+00 2.50054037e-05 8.24313581e-06\n",
      " 1.03693523e-04 2.47656877e-03 1.66905083e-03 1.60646549e-05\n",
      " 2.46228201e-05 5.70477706e-05 1.24353807e-04 2.82147259e-03\n",
      " 1.03892710e-04 5.14927315e-05 1.73035177e-06 6.24268359e-06\n",
      " 6.37893487e-06 0.00000000e+00 2.44515734e-05 4.91576380e-04\n",
      " 1.70097518e-03 3.85136100e-03 2.21729850e-04 7.41013585e-03\n",
      " 2.31577226e-05 7.67140811e-04 8.41957762e-05 6.13814443e-04\n",
      " 2.18407829e-03 5.70437960e-03 9.83354132e-04 5.44249994e-06\n",
      " 2.67862629e-03 0.00000000e+00 3.05507878e-05 6.43506784e-04\n",
      " 2.24131794e-04 2.25418227e-03 4.47552185e-06 1.67232762e-05\n",
      " 2.65859793e-07 1.68387591e-06 2.81594826e-06 8.67454078e-04\n",
      " 7.52648771e-03 1.08956977e-05 7.47743299e-05 3.31970946e-04\n",
      " 3.05543249e-04 7.67130035e-05 3.57583559e-06 2.46432625e-02\n",
      " 2.00824056e-05 6.55162944e-04 1.38815313e-04 4.57656552e-03\n",
      " 1.43493996e-03 0.00000000e+00 4.56638682e-05 1.88797529e-03\n",
      " 3.29563063e-05 0.00000000e+00 4.50336335e-05 8.16618231e-07\n",
      " 7.65680543e-06 1.64564733e-05 7.79228425e-05 3.65664136e-03\n",
      " 1.94329171e-03 3.71061301e-05 8.22792078e-03 4.19499095e-04\n",
      " 2.24839057e-04 3.66149722e-04 2.25762503e-04 5.08449546e-06\n",
      " 7.96509487e-06 5.58429977e-03 0.00000000e+00 2.69187776e-06\n",
      " 3.27525295e-04 4.26226510e-06 4.70250538e-04 3.62535736e-05\n",
      " 2.23964170e-04 1.57168278e-06 1.33095386e-04 4.26590263e-02\n",
      " 3.07825571e-06 5.86271336e-04 9.94284923e-05 5.34538286e-04\n",
      " 6.00677571e-03 7.11586189e-05 8.60263089e-06 1.58982054e-05\n",
      " 4.26945097e-06 8.87285111e-05 5.24133550e-04 1.53008006e-03\n",
      " 4.10046691e-06 9.15896492e-06 5.22562983e-06 4.57325889e-03\n",
      " 4.09855309e-05 6.62695061e-04 0.00000000e+00 3.00549864e-06\n",
      " 0.00000000e+00 5.56501418e-04 0.00000000e+00 2.33069312e-06\n",
      " 9.09521155e-07 4.44921286e-05 1.44986418e-05 1.42007029e-02\n",
      " 5.70323586e-06 2.32817096e-04 2.51855426e-03 3.29839276e-03\n",
      " 9.59100600e-03 1.35337250e-02 1.09977232e-02 3.17471999e-06\n",
      " 3.69013251e-05 2.46256686e-05 3.94513579e-03 5.22066070e-03\n",
      " 4.78024267e-02 7.76653464e-06 4.13749405e-04 1.05602431e-04\n",
      " 6.33146249e-02 7.07368215e-02 5.80310434e-02 3.98829189e-02\n",
      " 5.28019950e-02 4.20772488e-02 3.33426735e-02 3.12474589e-02\n",
      " 2.91317117e-02 3.21979120e-02 2.96209465e-02 2.95972518e-02\n",
      " 3.35023234e-02 3.01586519e-02 3.12706158e-02 3.83240967e-02\n",
      " 0.00000000e+00 0.00000000e+00 0.00000000e+00 0.00000000e+00\n",
      " 0.00000000e+00 0.00000000e+00 0.00000000e+00 0.00000000e+00\n",
      " 0.00000000e+00 0.00000000e+00 0.00000000e+00 0.00000000e+00\n",
      " 0.00000000e+00 0.00000000e+00 0.00000000e+00 0.00000000e+00]\n"
     ]
    }
   ],
   "source": [
    "print(rf_with_params.feature_importances_)"
   ]
  },
  {
   "cell_type": "code",
   "execution_count": 164,
   "id": "straight-pavilion",
   "metadata": {},
   "outputs": [
    {
     "name": "stdout",
     "output_type": "stream",
     "text": [
      "              precision    recall  f1-score   support\n",
      "\n",
      "           0       0.95      0.90      0.93      1080\n",
      "           1       0.91      0.95      0.93      1076\n",
      "\n",
      "    accuracy                           0.93      2156\n",
      "   macro avg       0.93      0.93      0.93      2156\n",
      "weighted avg       0.93      0.93      0.93      2156\n",
      "\n"
     ]
    }
   ],
   "source": [
    "from sklearn.metrics import classification_report\n",
    "\n",
    "print(classification_report(rf_pred, y_test))"
   ]
  },
  {
   "cell_type": "code",
   "execution_count": 136,
   "id": "straight-eligibility",
   "metadata": {},
   "outputs": [],
   "source": [
    "from sklearn.tree import DecisionTreeClassifier\n",
    "\n",
    "dt = DecisionTreeClassifier()\n",
    "dt.fit(X_train, y_train)\n",
    "\n",
    "dt_pred = dt.predict(X_test)"
   ]
  },
  {
   "cell_type": "code",
   "execution_count": 137,
   "id": "naked-wisdom",
   "metadata": {},
   "outputs": [
    {
     "name": "stdout",
     "output_type": "stream",
     "text": [
      "              precision    recall  f1-score   support\n",
      "\n",
      "           0       0.85      0.86      0.86      1009\n",
      "           1       0.88      0.86      0.87      1147\n",
      "\n",
      "    accuracy                           0.86      2156\n",
      "   macro avg       0.86      0.86      0.86      2156\n",
      "weighted avg       0.86      0.86      0.86      2156\n",
      "\n"
     ]
    }
   ],
   "source": [
    "print(classification_report(dt_pred, y_test))"
   ]
  },
  {
   "cell_type": "code",
   "execution_count": 138,
   "id": "palestinian-married",
   "metadata": {},
   "outputs": [],
   "source": [
    "from sklearn.neighbors import KNeighborsClassifier\n",
    "\n",
    "knn = KNeighborsClassifier(n_neighbors=3)\n",
    "knn.fit(X_train, y_train)\n",
    "\n",
    "knn_pred = knn.predict(X_test)"
   ]
  },
  {
   "cell_type": "code",
   "execution_count": 139,
   "id": "daily-healing",
   "metadata": {},
   "outputs": [
    {
     "name": "stdout",
     "output_type": "stream",
     "text": [
      "              precision    recall  f1-score   support\n",
      "\n",
      "           0       0.85      0.82      0.83      1058\n",
      "           1       0.83      0.86      0.84      1098\n",
      "\n",
      "    accuracy                           0.84      2156\n",
      "   macro avg       0.84      0.84      0.84      2156\n",
      "weighted avg       0.84      0.84      0.84      2156\n",
      "\n"
     ]
    }
   ],
   "source": [
    "print(classification_report(knn_pred, y_test))"
   ]
  },
  {
   "cell_type": "code",
   "execution_count": 140,
   "id": "nasty-fashion",
   "metadata": {},
   "outputs": [],
   "source": [
    "from sklearn.neural_network import MLPClassifier\n",
    "\n",
    "mlp = MLPClassifier()\n",
    "mlp.fit(X_train, y_train)\n",
    "\n",
    "mlp_pred = mlp.predict(X_test)"
   ]
  },
  {
   "cell_type": "code",
   "execution_count": 141,
   "id": "laughing-basin",
   "metadata": {},
   "outputs": [
    {
     "name": "stdout",
     "output_type": "stream",
     "text": [
      "              precision    recall  f1-score   support\n",
      "\n",
      "           0       0.95      0.63      0.76      1545\n",
      "           1       0.50      0.91      0.64       611\n",
      "\n",
      "    accuracy                           0.71      2156\n",
      "   macro avg       0.72      0.77      0.70      2156\n",
      "weighted avg       0.82      0.71      0.73      2156\n",
      "\n"
     ]
    }
   ],
   "source": [
    "print(classification_report(mlp_pred, y_test))"
   ]
  },
  {
   "cell_type": "code",
   "execution_count": 142,
   "id": "wireless-sheet",
   "metadata": {},
   "outputs": [],
   "source": [
    "svc = SVC()\n",
    "svc.fit(X_train, y_train)\n",
    "\n",
    "svc_pred = svc.predict(X_test)"
   ]
  },
  {
   "cell_type": "code",
   "execution_count": 143,
   "id": "skilled-command",
   "metadata": {},
   "outputs": [
    {
     "name": "stdout",
     "output_type": "stream",
     "text": [
      "              precision    recall  f1-score   support\n",
      "\n",
      "           0       0.77      0.74      0.76      1066\n",
      "           1       0.76      0.78      0.77      1090\n",
      "\n",
      "    accuracy                           0.76      2156\n",
      "   macro avg       0.76      0.76      0.76      2156\n",
      "weighted avg       0.76      0.76      0.76      2156\n",
      "\n"
     ]
    }
   ],
   "source": [
    "print(classification_report(svc_pred, y_test))"
   ]
  },
  {
   "cell_type": "code",
   "execution_count": 124,
   "id": "weighted-approach",
   "metadata": {},
   "outputs": [],
   "source": [
    "from sklearn.naive_bayes import GaussianNB\n",
    "\n",
    "gauss_nb = GaussianNB()\n",
    "gauss_nb.fit(X_train, y_train)\n",
    "\n",
    "gauss_nb_pred = gauss_nb.predict(X_test)"
   ]
  },
  {
   "cell_type": "code",
   "execution_count": 125,
   "id": "three-bradford",
   "metadata": {},
   "outputs": [
    {
     "name": "stdout",
     "output_type": "stream",
     "text": [
      "              precision    recall  f1-score   support\n",
      "\n",
      "           0       0.92      0.65      0.76      1436\n",
      "           1       0.56      0.88      0.68       720\n",
      "\n",
      "    accuracy                           0.73      2156\n",
      "   macro avg       0.74      0.77      0.72      2156\n",
      "weighted avg       0.80      0.73      0.74      2156\n",
      "\n"
     ]
    }
   ],
   "source": [
    "print(classification_report(gauss_nb_pred, y_test))"
   ]
  },
  {
   "cell_type": "code",
   "execution_count": 126,
   "id": "recovered-education",
   "metadata": {},
   "outputs": [],
   "source": [
    "# Calculate F1 score for all models\n",
    "\n",
    "from sklearn.metrics import f1_score\n",
    "\n",
    "rf_score = f1_score(rf_pred, y_test)\n",
    "dt_score = f1_score(dt_pred, y_test)\n",
    "knn_score = f1_score(knn_pred, y_test)\n",
    "mlp_score = f1_score(mlp_pred, y_test)\n",
    "svc_score = f1_score(svc_pred, y_test)\n",
    "gauss_nb_score = f1_score(gauss_nb_pred, y_test)"
   ]
  },
  {
   "cell_type": "code",
   "execution_count": 127,
   "id": "separated-grave",
   "metadata": {},
   "outputs": [
    {
     "data": {
      "image/png": "[encoded data removed]",
      "text/plain": [
       "<Figure size 432x288 with 1 Axes>"
      ]
     },
     "metadata": {
      "needs_background": "light"
     },
     "output_type": "display_data"
    }
   ],
   "source": [
    "import matplotlib.pyplot as plt\n",
    "\n",
    "import matplotlib.pyplot as plt\n",
    "\n",
    "scores = [rf_score, dt_score, knn_score, mlp_score, svc_score, gauss_nb_score]\n",
    "labels = [\"RF\", \"DT\", \"KNN\", \"MLP\", \"SVC\", \"Gaussian NB\"]\n",
    "\n",
    "plt.bar(labels, scores, width=0.5)\n",
    "plt.title(\"DEX File F1 Score Comparison between Models\")\n",
    "plt.xlabel(\"Models\")\n",
    "plt.ylabel(\"F1 Score\")\n",
    "plt.show()"
   ]
  },
  {
   "cell_type": "code",
   "execution_count": 44,
   "id": "widespread-final",
   "metadata": {},
   "outputs": [],
   "source": [
    "from sklearn.model_selection import KFold\n",
    "from sklearn.metrics import accuracy_score, recall_score, precision_score, f1_score\n",
    "import numpy as np\n",
    "\n",
    "kf = KFold(n_splits=10, shuffle=True)\n",
    "\n",
    "X = np.array(X)\n",
    "y = np.array(y)\n",
    "\n",
    "# f1_scores = []\n",
    "# accuracy_scores = []\n",
    "# recall_scores = []\n",
    "# precision_scores = []\n",
    "splits = []\n",
    "\n",
    "ct = 0\n",
    "\n",
    "for train_index, test_index in kf.split(X):\n",
    "    ct += 1\n",
    "    X_train, X_test = X[train_index], X[test_index]\n",
    "    y_train, y_test = y[train_index], y[test_index]\n",
    "    \n",
    "    rf = RandomForestClassifier()\n",
    "    rf.fit(X_train, y_train)\n",
    "    \n",
    "    rf_pred = rf.predict(X_test)\n",
    "    \n",
    "    splits.append([accuracy_score(rf_pred, y_test), precision_score(rf_pred, y_test), recall_score(rf_pred, y_test), f1_score(rf_pred, y_test)])\n",
    "    \n",
    "#     f1_scores.append(f1_score(rf_pred, y_test))\n",
    "#     accuracy_scores.append(accuracy_score(rf_pred, y_test))\n",
    "#     recall_scores.append(recall_score(rf_pred, y_test))\n",
    "#     precision_scores.append(precision_score(rf_pred, y_test))"
   ]
  },
  {
   "cell_type": "code",
   "execution_count": 45,
   "id": "preliminary-plane",
   "metadata": {},
   "outputs": [
    {
     "data": {
      "image/png": "[encoded data removed]",
      "text/plain": [
       "<Figure size 432x288 with 1 Axes>"
      ]
     },
     "metadata": {
      "needs_background": "light"
     },
     "output_type": "display_data"
    }
   ],
   "source": [
    "df = pd.DataFrame()\n",
    "df[\"split1\"] = splits[0]\n",
    "df[\"split2\"] = splits[1]\n",
    "df[\"split3\"] = splits[2]\n",
    "df[\"split4\"] = splits[3]\n",
    "df[\"split5\"] = splits[4]\n",
    "df[\"split6\"] = splits[5]\n",
    "df[\"split7\"] = splits[6]\n",
    "df[\"split8\"] = splits[7]\n",
    "df[\"split9\"] = splits[8]\n",
    "df[\"split10\"] = splits[9]\n",
    "\n",
    "labels = [\"accuracy\", \"precision\", \"recall\", \"f1\"]\n",
    "df[\"metrics\"] = labels\n",
    "cols = [\"split1\",\"split2\",\"split3\",\"split4\",\"split5\",\"split6\",\"split7\",\"split8\",\"split9\",\"split10\"]\n",
    "# df[\"model\"] = [1, 2, 3, 4, 5, 6, 7, 8, 9, 10]\n",
    "\n",
    "ax = df.plot(x=\"metrics\", y=cols, kind=\"bar\")\n",
    "# ax.set_ylim(0.87, 0.97)\n",
    "plt.show()"
   ]
  },
  {
   "cell_type": "code",
   "execution_count": null,
   "id": "continuous-necessity",
   "metadata": {},
   "outputs": [],
   "source": []
  }
 ],
 "metadata": {
  "kernelspec": {
   "display_name": "Python 3",
   "language": "python",
   "name": "python3"
  },
  "language_info": {
   "codemirror_mode": {
    "name": "ipython",
    "version": 3
   },
   "file_extension": ".py",
   "mimetype": "text/x-python",
   "name": "python",
   "nbconvert_exporter": "python",
   "pygments_lexer": "ipython3",
   "version": "3.6.13"
  }
 },
 "nbformat": 4,
 "nbformat_minor": 5
}
