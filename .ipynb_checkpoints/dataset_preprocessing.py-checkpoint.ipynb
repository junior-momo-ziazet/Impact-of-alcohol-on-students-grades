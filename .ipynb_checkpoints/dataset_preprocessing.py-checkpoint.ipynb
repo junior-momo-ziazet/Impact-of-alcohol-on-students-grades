{
 "cells": [
  {
   "cell_type": "code",
   "execution_count": 39,
   "id": "awful-difficulty",
   "metadata": {},
   "outputs": [],
   "source": [
    "import pandas as pd\n",
    "\n",
    "df = pd.read_csv(\"dataset.csv\")"
   ]
  },
  {
   "cell_type": "code",
   "execution_count": 40,
   "id": "hairy-rough",
   "metadata": {
    "scrolled": false
   },
   "outputs": [],
   "source": [
    "# Get dataframe columns\n",
    "columns = df.columns\n",
    "\n",
    "# Filter manifest columns\n",
    "manifest_features = columns[1:len(columns)-33]\n",
    "dfm = df[manifest_features]\n",
    "\n",
    "# Remove warnings\n",
    "pd.options.mode.chained_assignment = None\n",
    "\n",
    "# Compute the sum of each permission\n",
    "dfm.loc[\"total\"] = dfm.sum(numeric_only=True, axis=0)"
   ]
  },
  {
   "cell_type": "code",
   "execution_count": 41,
   "id": "measured-providence",
   "metadata": {},
   "outputs": [
    {
     "data": {
      "text/plain": [
       "<AxesSubplot:>"
      ]
     },
     "execution_count": 41,
     "metadata": {},
     "output_type": "execute_result"
    },
    {
     "data": {
      "image/png": "[encoded data removed]",
      "text/plain": [
       "<Figure size 432x288 with 1 Axes>"
      ]
     },
     "metadata": {
      "needs_background": "light"
     },
     "output_type": "display_data"
    }
   ],
   "source": [
    "import matplotlib.pyplot as plt\n",
    "\n",
    "# Extract total row from Manifest DataFrame\n",
    "total = dfm.loc[\"total\"]\n",
    "\n",
    "# Remove x axis labels for readability\n",
    "axes = plt.axes()\n",
    "x_axis = axes.xaxis\n",
    "x_axis.set_visible(False)\n",
    "\n",
    "# Set tresholds\n",
    "permissions_count = len(total.index)\n",
    "row_count = len(dfm.index)\n",
    "top_treshold = 0.9 * row_count\n",
    "bottom_treshold = 0.03 * row_count\n",
    "\n",
    "# Draw treshold\n",
    "plt.hlines(y=[bottom_treshold, top_treshold], xmin=0, xmax=permissions_count, color=\"green\")\n",
    "\n",
    "total.plot()"
   ]
  },
  {
   "cell_type": "code",
   "execution_count": 42,
   "id": "athletic-yacht",
   "metadata": {},
   "outputs": [],
   "source": [
    "# Filter dataframe\n",
    "\n",
    "df_manifest = dfm.loc[:, (dfm.loc[\"total\"]) > bottom_treshold]"
   ]
  },
  {
   "cell_type": "code",
   "execution_count": 43,
   "id": "express-commodity",
   "metadata": {
    "scrolled": false
   },
   "outputs": [],
   "source": [
    "df_id = df[\"id\"]\n",
    "\n",
    "dex_features = columns[len(columns)-33:]\n",
    "df_dex = df[dex_features]\n",
    "\n",
    "df = pd.merge(left=df_id, right=df_manifest, left_index=True, right_index=True, how=\"inner\")\n",
    "df = pd.merge(left=df, right=df_dex, left_index=True, right_index=True, how=\"inner\")\n",
    "\n",
    "df.to_csv(\"dataset_treshold.csv\")"
   ]
  },
  {
   "cell_type": "code",
   "execution_count": null,
   "id": "japanese-transmission",
   "metadata": {},
   "outputs": [],
   "source": [
    "from sklearn.model_selection import train_test_split\n",
    "\n",
    "X = df.drop([\"id\", \"is_malicious\"])\n",
    "y = df[\"is_malicious\"]\n",
    "\n",
    "print(X, y)"
   ]
  }
 ],
 "metadata": {
  "kernelspec": {
   "display_name": "Python 3",
   "language": "python",
   "name": "python3"
  },
  "language_info": {
   "codemirror_mode": {
    "name": "ipython",
    "version": 3
   },
   "file_extension": ".py",
   "mimetype": "text/x-python",
   "name": "python",
   "nbconvert_exporter": "python",
   "pygments_lexer": "ipython3",
   "version": "3.6.13"
  }
 },
 "nbformat": 4,
 "nbformat_minor": 5
}
