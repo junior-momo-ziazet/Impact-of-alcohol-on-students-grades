{
 "cells": [
  {
   "cell_type": "code",
   "execution_count": 115,
   "id": "official-papua",
   "metadata": {},
   "outputs": [],
   "source": [
    "import pandas as pd\n",
    "\n",
    "# dex_df = pd.read_csv(\"dex_dataset.csv\", index_col=False)\n",
    "# manif_df = pd.read_csv(\"processed_manifest.csv\", index_col=False)\n",
    "\n",
    "# df = pd.merge(manif_df, dex_df, left_on=\"id\", right_on=\"id\", how=\"inner\").drop([\"idx\", \"Unnamed: 0\", \"is_malicious_x\"], axis=1)\n",
    "# df.rename(columns={\"is_malicious_y\": \"is_malicious\"}, inplace=True)\n",
    "\n",
    "# df.to_csv(\"dataset.csv\", index=False)\n",
    "\n",
    "df = pd.read_csv(\"dataset.csv\")"
   ]
  },
  {
   "cell_type": "code",
   "execution_count": 116,
   "id": "incorrect-affiliation",
   "metadata": {},
   "outputs": [],
   "source": [
    "from sklearn.model_selection import train_test_split\n",
    "\n",
    "X = df.drop([\"id\", \"is_malicious\"], axis=1)\n",
    "y = df[\"is_malicious\"]\n",
    "\n",
    "X_train, X_test, y_train, y_test = train_test_split(X, y, test_size=0.2, random_state=1)\n",
    "X_train, X_validate, y_train, y_validate = train_test_split(X_train, y_train, test_size=0.2, random_state=1)"
   ]
  },
  {
   "cell_type": "code",
   "execution_count": 117,
   "id": "sonic-bubble",
   "metadata": {},
   "outputs": [],
   "source": [
    "from sklearn.preprocessing import StandardScaler\n",
    "\n",
    "scaler = StandardScaler()\n",
    "scaler.fit(X_train)\n",
    "\n",
    "X_train = scaler.transform(X_train)\n",
    "X_test = scaler.transform(X_test)"
   ]
  },
  {
   "cell_type": "code",
   "execution_count": 118,
   "id": "growing-translation",
   "metadata": {},
   "outputs": [],
   "source": [
    "from sklearn.ensemble import RandomForestClassifier\n",
    "\n",
    "rf = RandomForestClassifier()\n",
    "rf.fit(X_train, y_train)\n",
    "\n",
    "rf_pred = rf.predict(X_test)"
   ]
  },
  {
   "cell_type": "code",
   "execution_count": 119,
   "id": "legitimate-chain",
   "metadata": {},
   "outputs": [
    {
     "name": "stdout",
     "output_type": "stream",
     "text": [
      "              precision    recall  f1-score   support\n",
      "\n",
      "           0       0.93      0.88      0.90      1079\n",
      "           1       0.89      0.93      0.91      1077\n",
      "\n",
      "    accuracy                           0.91      2156\n",
      "   macro avg       0.91      0.91      0.91      2156\n",
      "weighted avg       0.91      0.91      0.91      2156\n",
      "\n"
     ]
    }
   ],
   "source": [
    "from sklearn.metrics import classification_report\n",
    "\n",
    "print(classification_report(rf_pred, y_test))"
   ]
  },
  {
   "cell_type": "code",
   "execution_count": 120,
   "id": "opened-circuit",
   "metadata": {},
   "outputs": [],
   "source": [
    "from sklearn.tree import DecisionTreeClassifier\n",
    "\n",
    "dt = DecisionTreeClassifier()\n",
    "dt.fit(X_train, y_train)\n",
    "\n",
    "dt_pred = dt.predict(X_test)"
   ]
  },
  {
   "cell_type": "code",
   "execution_count": 121,
   "id": "overhead-conditioning",
   "metadata": {},
   "outputs": [
    {
     "name": "stdout",
     "output_type": "stream",
     "text": [
      "              precision    recall  f1-score   support\n",
      "\n",
      "           0       0.86      0.86      0.86      1023\n",
      "           1       0.87      0.87      0.87      1133\n",
      "\n",
      "    accuracy                           0.87      2156\n",
      "   macro avg       0.87      0.87      0.87      2156\n",
      "weighted avg       0.87      0.87      0.87      2156\n",
      "\n"
     ]
    }
   ],
   "source": [
    "print(classification_report(dt_pred, y_test))"
   ]
  },
  {
   "cell_type": "code",
   "execution_count": 122,
   "id": "present-enemy",
   "metadata": {},
   "outputs": [],
   "source": [
    "from sklearn.neighbors import KNeighborsClassifier\n",
    "\n",
    "knn = KNeighborsClassifier(n_neighbors=3)\n",
    "knn.fit(X_train, y_train)\n",
    "\n",
    "knn_pred = knn.predict(X_test)"
   ]
  },
  {
   "cell_type": "code",
   "execution_count": 123,
   "id": "superior-shirt",
   "metadata": {},
   "outputs": [
    {
     "name": "stdout",
     "output_type": "stream",
     "text": [
      "              precision    recall  f1-score   support\n",
      "\n",
      "           0       0.90      0.88      0.89      1043\n",
      "           1       0.89      0.91      0.90      1113\n",
      "\n",
      "    accuracy                           0.90      2156\n",
      "   macro avg       0.90      0.89      0.90      2156\n",
      "weighted avg       0.90      0.90      0.90      2156\n",
      "\n"
     ]
    }
   ],
   "source": [
    "print(classification_report(knn_pred, y_test))"
   ]
  },
  {
   "cell_type": "code",
   "execution_count": 124,
   "id": "parallel-standard",
   "metadata": {},
   "outputs": [],
   "source": [
    "from sklearn.neural_network import MLPClassifier\n",
    "\n",
    "mlp = MLPClassifier(max_iter=500)\n",
    "mlp.fit(X_train, y_train)\n",
    "\n",
    "mlp_pred = mlp.predict(X_test)"
   ]
  },
  {
   "cell_type": "code",
   "execution_count": 125,
   "id": "timely-munich",
   "metadata": {},
   "outputs": [
    {
     "name": "stdout",
     "output_type": "stream",
     "text": [
      "              precision    recall  f1-score   support\n",
      "\n",
      "           0       0.92      0.91      0.91      1036\n",
      "           1       0.92      0.92      0.92      1120\n",
      "\n",
      "    accuracy                           0.92      2156\n",
      "   macro avg       0.92      0.92      0.92      2156\n",
      "weighted avg       0.92      0.92      0.92      2156\n",
      "\n"
     ]
    }
   ],
   "source": [
    "print(classification_report(mlp_pred, y_test))"
   ]
  },
  {
   "cell_type": "code",
   "execution_count": 126,
   "id": "quiet-cabin",
   "metadata": {},
   "outputs": [
    {
     "name": "stderr",
     "output_type": "stream",
     "text": [
      "/Users/kamil/miniconda3/envs/bigdata-project/lib/python3.6/site-packages/sklearn/svm/_base.py:986: ConvergenceWarning: Liblinear failed to converge, increase the number of iterations.\n",
      "  \"the number of iterations.\", ConvergenceWarning)\n"
     ]
    }
   ],
   "source": [
    "from sklearn.svm import LinearSVC\n",
    "\n",
    "linear_svc = LinearSVC()\n",
    "linear_svc.fit(X_train, y_train)\n",
    "\n",
    "linear_svc_pred = linear_svc.predict(X_test)"
   ]
  },
  {
   "cell_type": "code",
   "execution_count": 127,
   "id": "junior-protest",
   "metadata": {},
   "outputs": [
    {
     "name": "stdout",
     "output_type": "stream",
     "text": [
      "              precision    recall  f1-score   support\n",
      "\n",
      "           0       0.88      0.89      0.88      1017\n",
      "           1       0.90      0.89      0.90      1139\n",
      "\n",
      "    accuracy                           0.89      2156\n",
      "   macro avg       0.89      0.89      0.89      2156\n",
      "weighted avg       0.89      0.89      0.89      2156\n",
      "\n"
     ]
    }
   ],
   "source": [
    "print(classification_report(linear_svc_pred, y_test))"
   ]
  },
  {
   "cell_type": "code",
   "execution_count": 128,
   "id": "private-chess",
   "metadata": {},
   "outputs": [],
   "source": [
    "from sklearn.svm import SVC\n",
    "\n",
    "svc = SVC()\n",
    "svc.fit(X_train, y_train)\n",
    "\n",
    "svc_pred = svc.predict(X_test)"
   ]
  },
  {
   "cell_type": "code",
   "execution_count": 129,
   "id": "documented-smart",
   "metadata": {},
   "outputs": [
    {
     "name": "stdout",
     "output_type": "stream",
     "text": [
      "              precision    recall  f1-score   support\n",
      "\n",
      "           0       0.90      0.89      0.90      1034\n",
      "           1       0.90      0.91      0.91      1122\n",
      "\n",
      "    accuracy                           0.90      2156\n",
      "   macro avg       0.90      0.90      0.90      2156\n",
      "weighted avg       0.90      0.90      0.90      2156\n",
      "\n"
     ]
    }
   ],
   "source": [
    "print(classification_report(svc_pred, y_test))"
   ]
  },
  {
   "cell_type": "code",
   "execution_count": 130,
   "id": "continuous-stupid",
   "metadata": {},
   "outputs": [],
   "source": [
    "from sklearn.naive_bayes import GaussianNB\n",
    "\n",
    "gauss_nb = GaussianNB()\n",
    "gauss_nb.fit(X_train, y_train)\n",
    "\n",
    "gauss_nb_pred = gauss_nb.predict(X_test)"
   ]
  },
  {
   "cell_type": "code",
   "execution_count": 131,
   "id": "strange-corruption",
   "metadata": {},
   "outputs": [
    {
     "name": "stdout",
     "output_type": "stream",
     "text": [
      "              precision    recall  f1-score   support\n",
      "\n",
      "           0       0.11      0.97      0.20       119\n",
      "           1       1.00      0.55      0.71      2037\n",
      "\n",
      "    accuracy                           0.58      2156\n",
      "   macro avg       0.56      0.76      0.46      2156\n",
      "weighted avg       0.95      0.58      0.68      2156\n",
      "\n"
     ]
    }
   ],
   "source": [
    "print(classification_report(gauss_nb_pred, y_test))"
   ]
  },
  {
   "cell_type": "code",
   "execution_count": 132,
   "id": "worth-moses",
   "metadata": {},
   "outputs": [],
   "source": [
    "# Calculate F1 score for all models\n",
    "\n",
    "from sklearn.metrics import f1_score\n",
    "\n",
    "rf_score = f1_score(rf_pred, y_test)\n",
    "dt_score = f1_score(dt_pred, y_test)\n",
    "knn_score = f1_score(knn_pred, y_test)\n",
    "mlp_score = f1_score(mlp_pred, y_test)\n",
    "linear_svc_score = f1_score(linear_svc_pred, y_test)\n",
    "svc_score = f1_score(svc_pred, y_test)\n",
    "gauss_nb_score = f1_score(gauss_nb_pred, y_test)"
   ]
  },
  {
   "cell_type": "code",
   "execution_count": 133,
   "id": "temporal-prison",
   "metadata": {},
   "outputs": [
    {
     "data": {
      "image/png": "[encoded data removed]",
      "text/plain": [
       "<Figure size 432x288 with 1 Axes>"
      ]
     },
     "metadata": {
      "needs_background": "light"
     },
     "output_type": "display_data"
    }
   ],
   "source": [
    "import matplotlib.pyplot as plt\n",
    "\n",
    "import matplotlib.pyplot as plt\n",
    "\n",
    "scores = [rf_score, dt_score, knn_score, mlp_score, linear_svc_score, svc_score, gauss_nb_score]\n",
    "labels = [\"RF\", \"DT\", \"KNN\", \"MLP\", \"Linear SVC\", \"SVC\", \"Gaussian NB\"]\n",
    "\n",
    "plt.bar(labels, scores, width=0.5)\n",
    "plt.title(\"DEX File F1 Score Comparison between Models\")\n",
    "plt.xlabel(\"Models\")\n",
    "plt.ylabel(\"F1 Score\")\n",
    "plt.show()"
   ]
  },
  {
   "cell_type": "code",
   "execution_count": 134,
   "id": "active-snapshot",
   "metadata": {},
   "outputs": [],
   "source": [
    "from sklearn.model_selection import KFold\n",
    "from sklearn.metrics import accuracy_score, recall_score, precision_score, f1_score\n",
    "import numpy as np\n",
    "\n",
    "kf = KFold(n_splits=10, shuffle=True)\n",
    "\n",
    "X = np.array(X)\n",
    "y = np.array(y)\n",
    "\n",
    "# f1_scores = []\n",
    "# accuracy_scores = []\n",
    "# recall_scores = []\n",
    "# precision_scores = []\n",
    "splits = []\n",
    "\n",
    "ct = 0\n",
    "\n",
    "for train_index, test_index in kf.split(X):\n",
    "    ct += 1\n",
    "    X_train, X_test = X[train_index], X[test_index]\n",
    "    y_train, y_test = y[train_index], y[test_index]\n",
    "    \n",
    "    rf = RandomForestClassifier()\n",
    "    rf.fit(X_train, y_train)\n",
    "    \n",
    "    rf_pred = rf.predict(X_test)\n",
    "    \n",
    "    splits.append([accuracy_score(rf_pred, y_test), precision_score(rf_pred, y_test), recall_score(rf_pred, y_test), f1_score(rf_pred, y_test)])\n",
    "    \n",
    "#     f1_scores.append(f1_score(rf_pred, y_test))\n",
    "#     accuracy_scores.append(accuracy_score(rf_pred, y_test))\n",
    "#     recall_scores.append(recall_score(rf_pred, y_test))\n",
    "#     precision_scores.append(precision_score(rf_pred, y_test))"
   ]
  },
  {
   "cell_type": "code",
   "execution_count": 135,
   "id": "short-margin",
   "metadata": {},
   "outputs": [
    {
     "data": {
      "image/png": "[encoded data removed]",
      "text/plain": [
       "<Figure size 432x288 with 1 Axes>"
      ]
     },
     "metadata": {
      "needs_background": "light"
     },
     "output_type": "display_data"
    },
    {
     "name": "stdout",
     "output_type": "stream",
     "text": [
      "-0.007786068018371339\n"
     ]
    }
   ],
   "source": [
    "df = pd.DataFrame()\n",
    "df[\"split1\"] = splits[0]\n",
    "df[\"split2\"] = splits[1]\n",
    "df[\"split3\"] = splits[2]\n",
    "df[\"split4\"] = splits[3]\n",
    "df[\"split5\"] = splits[4]\n",
    "df[\"split6\"] = splits[5]\n",
    "df[\"split7\"] = splits[6]\n",
    "df[\"split8\"] = splits[7]\n",
    "df[\"split9\"] = splits[8]\n",
    "df[\"split10\"] = splits[9]\n",
    "\n",
    "labels = [\"accuracy\", \"precision\", \"recall\", \"f1\"]\n",
    "df[\"metrics\"] = labels\n",
    "cols = [\"split1\",\"split2\",\"split3\",\"split4\",\"split5\",\"split6\",\"split7\",\"split8\",\"split9\",\"split10\"]\n",
    "# df[\"model\"] = [1, 2, 3, 4, 5, 6, 7, 8, 9, 10]\n",
    "\n",
    "ax = df.plot(x=\"metrics\", y=cols, kind=\"bar\")\n",
    "# ax.set_ylim(0.87, 0.97)\n",
    "plt.show()\n",
    "\n",
    "print(df[\"split8\"][2] - df[\"split9\"][2])"
   ]
  },
  {
   "cell_type": "code",
   "execution_count": null,
   "id": "downtown-compiler",
   "metadata": {},
   "outputs": [],
   "source": []
  }
 ],
 "metadata": {
  "kernelspec": {
   "display_name": "Python 3",
   "language": "python",
   "name": "python3"
  },
  "language_info": {
   "codemirror_mode": {
    "name": "ipython",
    "version": 3
   },
   "file_extension": ".py",
   "mimetype": "text/x-python",
   "name": "python",
   "nbconvert_exporter": "python",
   "pygments_lexer": "ipython3",
   "version": "3.6.13"
  }
 },
 "nbformat": 4,
 "nbformat_minor": 5
}
