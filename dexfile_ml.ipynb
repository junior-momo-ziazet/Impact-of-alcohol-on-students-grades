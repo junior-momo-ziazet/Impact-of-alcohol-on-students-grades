{
 "cells": [
  {
   "cell_type": "code",
   "execution_count": 13,
   "id": "controlling-macedonia",
   "metadata": {
    "tags": []
   },
   "outputs": [],
   "source": [
    "import pandas as pd\n",
    "\n",
    "df = pd.read_csv(\"dataset.csv\", index_col=False)"
   ]
  },
  {
   "cell_type": "code",
   "execution_count": null,
   "id": "quality-relation",
   "metadata": {},
   "outputs": [],
   "source": [
    "from sklearn.model_selection import train_test_split\n",
    "\n",
    "X = df.drop([\"id\", \"is_malicious\", \"Unnamed: 0\"], axis=1)\n",
    "y = df[\"is_malicious\"]\n",
    "\n",
    "X_train, X_test, y_train, y_test = train_test_split(X, y, test_size=0.2, random_state=1)"
   ]
  },
  {
   "cell_type": "code",
   "execution_count": null,
   "id": "separated-spank",
   "metadata": {},
   "outputs": [],
   "source": [
    "from sklearn.preprocessing import StandardScaler\n",
    "\n",
    "scaler = StandardScaler()\n",
    "scaler.fit(X_train)\n",
    "\n",
    "X_train = scaler.transform(X_train)\n",
    "X_test = scaler.transform(X_test)"
   ]
  },
  {
   "cell_type": "code",
   "execution_count": 29,
   "id": "tribal-viking",
   "metadata": {},
   "outputs": [],
   "source": [
    "from sklearn.ensemble import RandomForestClassifier\n",
    "\n",
    "rf = RandomForestClassifier()\n",
    "rf.fit(X_train, y_train)\n",
    "\n",
    "rf_pred = rf.predict(X_test)"
   ]
  },
  {
   "cell_type": "code",
   "execution_count": 30,
   "id": "stopped-cherry",
   "metadata": {},
   "outputs": [
    {
     "name": "stdout",
     "output_type": "stream",
     "text": [
      "              precision    recall  f1-score   support\n",
      "\n",
      "           0       0.86      0.87      0.87      1068\n",
      "           1       0.87      0.87      0.87      1089\n",
      "\n",
      "    accuracy                           0.87      2157\n",
      "   macro avg       0.87      0.87      0.87      2157\n",
      "weighted avg       0.87      0.87      0.87      2157\n",
      "\n"
     ]
    }
   ],
   "source": [
    "from sklearn.metrics import classification_report\n",
    "\n",
    "print(classification_report(rf_pred, y_test))"
   ]
  },
  {
   "cell_type": "code",
   "execution_count": 34,
   "id": "previous-update",
   "metadata": {},
   "outputs": [],
   "source": [
    "from sklearn.tree import DecisionTreeClassifier\n",
    "\n",
    "dt = DecisionTreeClassifier()\n",
    "dt.fit(X_train, y_train)\n",
    "\n",
    "dt_pred = dt.predict(X_test)"
   ]
  },
  {
   "cell_type": "code",
   "execution_count": 38,
   "id": "moved-control",
   "metadata": {},
   "outputs": [
    {
     "name": "stdout",
     "output_type": "stream",
     "text": [
      "              precision    recall  f1-score   support\n",
      "\n",
      "           0       0.77      0.83      0.80       992\n",
      "           1       0.85      0.79      0.82      1165\n",
      "\n",
      "    accuracy                           0.81      2157\n",
      "   macro avg       0.81      0.81      0.81      2157\n",
      "weighted avg       0.81      0.81      0.81      2157\n",
      "\n"
     ]
    }
   ],
   "source": [
    "print(classification_report(dt_pred, y_test))"
   ]
  },
  {
   "cell_type": "code",
   "execution_count": 36,
   "id": "decent-genetics",
   "metadata": {},
   "outputs": [],
   "source": [
    "from sklearn.neighbors import KNeighborsClassifier\n",
    "\n",
    "knn = KNeighborsClassifier()\n",
    "knn.fit(X_train, y_train)\n",
    "\n",
    "knn_pred = knn.predict(X_test)"
   ]
  },
  {
   "cell_type": "code",
   "execution_count": 37,
   "id": "waiting-chamber",
   "metadata": {},
   "outputs": [
    {
     "name": "stdout",
     "output_type": "stream",
     "text": [
      "              precision    recall  f1-score   support\n",
      "\n",
      "           0       0.81      0.86      0.83      1003\n",
      "           1       0.87      0.82      0.85      1154\n",
      "\n",
      "    accuracy                           0.84      2157\n",
      "   macro avg       0.84      0.84      0.84      2157\n",
      "weighted avg       0.84      0.84      0.84      2157\n",
      "\n"
     ]
    }
   ],
   "source": [
    "print(classification_report(knn_pred, y_test))"
   ]
  },
  {
   "cell_type": "code",
   "execution_count": 41,
   "id": "hundred-leader",
   "metadata": {},
   "outputs": [
    {
     "name": "stderr",
     "output_type": "stream",
     "text": [
      "/Users/kamil/miniconda3/envs/bigdata-project/lib/python3.6/site-packages/sklearn/neural_network/_multilayer_perceptron.py:617: ConvergenceWarning: Stochastic Optimizer: Maximum iterations (200) reached and the optimization hasn't converged yet.\n",
      "  % self.max_iter, ConvergenceWarning)\n"
     ]
    }
   ],
   "source": [
    "from sklearn.neural_network import MLPClassifier\n",
    "\n",
    "mlp = MLPClassifier(random_state=0)\n",
    "mlp.fit(X_train, y_train)\n",
    "\n",
    "mlp_pred = mlp.predict(X_test)"
   ]
  },
  {
   "cell_type": "code",
   "execution_count": 42,
   "id": "affecting-english",
   "metadata": {},
   "outputs": [
    {
     "name": "stdout",
     "output_type": "stream",
     "text": [
      "              precision    recall  f1-score   support\n",
      "\n",
      "           0       0.83      0.87      0.85      1025\n",
      "           1       0.87      0.84      0.85      1132\n",
      "\n",
      "    accuracy                           0.85      2157\n",
      "   macro avg       0.85      0.85      0.85      2157\n",
      "weighted avg       0.85      0.85      0.85      2157\n",
      "\n"
     ]
    }
   ],
   "source": [
    "print(classification_report(mlp_pred, y_test))"
   ]
  },
  {
   "cell_type": "code",
   "execution_count": 43,
   "id": "earned-wound",
   "metadata": {},
   "outputs": [
    {
     "name": "stderr",
     "output_type": "stream",
     "text": [
      "/Users/kamil/miniconda3/envs/bigdata-project/lib/python3.6/site-packages/sklearn/svm/_base.py:986: ConvergenceWarning: Liblinear failed to converge, increase the number of iterations.\n",
      "  \"the number of iterations.\", ConvergenceWarning)\n"
     ]
    }
   ],
   "source": [
    "from sklearn.svm import LinearSVC\n",
    "\n",
    "linear_svc = LinearSVC()\n",
    "linear_svc.fit(X_train, y_train)\n",
    "\n",
    "linear_svc_pred = linear_svc.predict(X_test)"
   ]
  },
  {
   "cell_type": "code",
   "execution_count": 44,
   "id": "biblical-interference",
   "metadata": {},
   "outputs": [
    {
     "name": "stdout",
     "output_type": "stream",
     "text": [
      "              precision    recall  f1-score   support\n",
      "\n",
      "           0       0.75      0.82      0.78       983\n",
      "           1       0.83      0.77      0.80      1174\n",
      "\n",
      "    accuracy                           0.79      2157\n",
      "   macro avg       0.79      0.79      0.79      2157\n",
      "weighted avg       0.80      0.79      0.79      2157\n",
      "\n"
     ]
    }
   ],
   "source": [
    "print(classification_report(linear_svc_pred, y_test))"
   ]
  },
  {
   "cell_type": "code",
   "execution_count": 45,
   "id": "ignored-shore",
   "metadata": {},
   "outputs": [],
   "source": [
    "from sklearn.svm import SVC\n",
    "\n",
    "svc = SVC()\n",
    "svc.fit(X_train, y_train)\n",
    "\n",
    "svc_pred = svc.predict(X_test)"
   ]
  },
  {
   "cell_type": "code",
   "execution_count": 46,
   "id": "editorial-clerk",
   "metadata": {},
   "outputs": [
    {
     "name": "stdout",
     "output_type": "stream",
     "text": [
      "              precision    recall  f1-score   support\n",
      "\n",
      "           0       0.79      0.87      0.83       972\n",
      "           1       0.88      0.81      0.84      1185\n",
      "\n",
      "    accuracy                           0.84      2157\n",
      "   macro avg       0.84      0.84      0.84      2157\n",
      "weighted avg       0.84      0.84      0.84      2157\n",
      "\n"
     ]
    }
   ],
   "source": [
    "print(classification_report(svc_pred, y_test))"
   ]
  },
  {
   "cell_type": "code",
   "execution_count": 47,
   "id": "average-rates",
   "metadata": {},
   "outputs": [],
   "source": [
    "from sklearn.naive_bayes import GaussianNB\n",
    "\n",
    "gauss_nb = GaussianNB()\n",
    "gauss_nb.fit(X_train, y_train)\n",
    "\n",
    "gauss_nb_pred = gauss_nb.predict(X_test)"
   ]
  },
  {
   "cell_type": "code",
   "execution_count": 48,
   "id": "automated-politics",
   "metadata": {},
   "outputs": [
    {
     "name": "stdout",
     "output_type": "stream",
     "text": [
      "              precision    recall  f1-score   support\n",
      "\n",
      "           0       0.79      0.61      0.69      1384\n",
      "           1       0.51      0.71      0.59       773\n",
      "\n",
      "    accuracy                           0.65      2157\n",
      "   macro avg       0.65      0.66      0.64      2157\n",
      "weighted avg       0.69      0.65      0.65      2157\n",
      "\n"
     ]
    }
   ],
   "source": [
    "print(classification_report(gauss_nb_pred, y_test))"
   ]
  },
  {
   "cell_type": "code",
   "execution_count": 51,
   "id": "middle-continent",
   "metadata": {},
   "outputs": [],
   "source": [
    "# Calculate f1 score for all models\n",
    "\n",
    "from sklearn.metrics import f1_score\n",
    "\n",
    "rf_score = f1_score(rf_pred, y_test)\n",
    "dt_score = f1_score(dt_pred, y_test)\n",
    "knn_score = f1_score(knn_pred, y_test)\n",
    "mlp_score = f1_score(mlp_pred, y_test)\n",
    "linear_svc_score = f1_score(linear_svc_pred, y_test)\n",
    "svc_score = f1_score(svc_pred, y_test)\n",
    "gauss_nb_score = f1_score(gauss_nb_pred, y_test)"
   ]
  },
  {
   "cell_type": "code",
   "execution_count": 52,
   "id": "elect-department",
   "metadata": {},
   "outputs": [
    {
     "data": {
      "image/png": "[encoded data removed]",
      "text/plain": [
       "<Figure size 432x288 with 1 Axes>"
      ]
     },
     "metadata": {
      "needs_background": "light"
     },
     "output_type": "display_data"
    }
   ],
   "source": [
    "import matplotlib.pyplot as plt\n",
    "\n",
    "scores = [rf_score, dt_score, knn_score, mlp_score, linear_svc_score, svc_score, gauss_nb_score]\n",
    "labels = [\"RF\", \"DT\", \"KNN\", \"MLP\", \"Linear SVC\", \"SVC\", \"Gaussian NB\"]\n",
    "\n",
    "plt.bar(labels, scores, width=0.5)\n",
    "plt.title(\"DEX File F1 Score Comparison between Models\")\n",
    "plt.xlabel(\"Models\")\n",
    "plt.ylabel(\"F1 Score\")\n",
    "plt.show()"
   ]
  }
 ],
 "metadata": {
  "kernelspec": {
   "display_name": "Python 3",
   "language": "python",
   "name": "python3"
  },
  "language_info": {
   "codemirror_mode": {
    "name": "ipython",
    "version": 3
   },
   "file_extension": ".py",
   "mimetype": "text/x-python",
   "name": "python",
   "nbconvert_exporter": "python",
   "pygments_lexer": "ipython3",
   "version": "3.6.13"
  }
 },
 "nbformat": 4,
 "nbformat_minor": 5
}
