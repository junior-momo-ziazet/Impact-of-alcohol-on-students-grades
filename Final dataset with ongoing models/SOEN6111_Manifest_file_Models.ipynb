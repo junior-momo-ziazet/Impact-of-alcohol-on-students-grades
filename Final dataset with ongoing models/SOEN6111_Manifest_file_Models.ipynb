{
 "cells": [
  {
   "cell_type": "code",
   "execution_count": 52,
   "metadata": {},
   "outputs": [],
   "source": [
    "import pandas as pd\n",
    "import matplotlib.pyplot as plt\n",
    "from sklearn.model_selection import train_test_split\n",
    "import sklearn\n",
    "import sklearn.preprocessing     # For StandardScaler\n",
    "import sklearn.linear_model      # For LogisticRegression\n",
    "import sklearn.neural_network    # For MLPClassifier\n",
    "from sklearn.metrics import confusion_matrix, plot_confusion_matrix,accuracy_score, f1_score, recall_score, precision_score\n",
    "from sklearn.tree import DecisionTreeClassifier\n",
    "from sklearn.ensemble import RandomForestClassifier, AdaBoostClassifier\n",
    "from sklearn.naive_bayes import GaussianNB"
   ]
  },
  {
   "cell_type": "markdown",
   "metadata": {},
   "source": [
    "# Load Dataset"
   ]
  },
  {
   "cell_type": "code",
   "execution_count": 53,
   "metadata": {},
   "outputs": [
    {
     "data": {
      "text/html": [
       "<div>\n",
       "<style scoped>\n",
       "    .dataframe tbody tr th:only-of-type {\n",
       "        vertical-align: middle;\n",
       "    }\n",
       "\n",
       "    .dataframe tbody tr th {\n",
       "        vertical-align: top;\n",
       "    }\n",
       "\n",
       "    .dataframe thead th {\n",
       "        text-align: right;\n",
       "    }\n",
       "</style>\n",
       "<table border=\"1\" class=\"dataframe\">\n",
       "  <thead>\n",
       "    <tr style=\"text-align: right;\">\n",
       "      <th></th>\n",
       "      <th>Unnamed: 0</th>\n",
       "      <th>id</th>\n",
       "      <th>ACCESS_ALL_DOWNLOADS</th>\n",
       "      <th>ACCESS_BLUETOOTH_SHARE</th>\n",
       "      <th>ACCESS_CACHE_FILESYSTEM</th>\n",
       "      <th>ACCESS_CHECKIN_PROPERTIES</th>\n",
       "      <th>ACCESS_DOWNLOAD_MANAGER</th>\n",
       "      <th>ACCESS_DOWNLOAD_MANAGER_ADVANCED</th>\n",
       "      <th>ACCESS_LOCATION_EXTRA_COMMANDS</th>\n",
       "      <th>ACCESS_MOCK_LOCATION</th>\n",
       "      <th>...</th>\n",
       "      <th>WRITE_GSERVICES</th>\n",
       "      <th>WRITE_MEDIA_STORAGE</th>\n",
       "      <th>WRITE_PROFILE</th>\n",
       "      <th>WRITE_SECURE_SETTINGS</th>\n",
       "      <th>WRITE_SETTINGS</th>\n",
       "      <th>WRITE_SMS</th>\n",
       "      <th>WRITE_SOCIAL_STREAM</th>\n",
       "      <th>WRITE_SYNC_SETTINGS</th>\n",
       "      <th>WRITE_USER_DICTIONARY</th>\n",
       "      <th>is_malicious</th>\n",
       "    </tr>\n",
       "  </thead>\n",
       "  <tbody>\n",
       "    <tr>\n",
       "      <th>0</th>\n",
       "      <td>0</td>\n",
       "      <td>0864acb063671894c80220d3f77cbcdcb08f4aabf017cf...</td>\n",
       "      <td>0</td>\n",
       "      <td>0</td>\n",
       "      <td>0</td>\n",
       "      <td>0</td>\n",
       "      <td>0</td>\n",
       "      <td>0</td>\n",
       "      <td>0</td>\n",
       "      <td>0</td>\n",
       "      <td>...</td>\n",
       "      <td>0</td>\n",
       "      <td>0</td>\n",
       "      <td>0</td>\n",
       "      <td>0</td>\n",
       "      <td>1</td>\n",
       "      <td>1</td>\n",
       "      <td>0</td>\n",
       "      <td>0</td>\n",
       "      <td>0</td>\n",
       "      <td>1</td>\n",
       "    </tr>\n",
       "    <tr>\n",
       "      <th>1</th>\n",
       "      <td>1</td>\n",
       "      <td>477c68553ff88f831026e8842fe99fe14b2ddf08821a0c...</td>\n",
       "      <td>0</td>\n",
       "      <td>0</td>\n",
       "      <td>0</td>\n",
       "      <td>0</td>\n",
       "      <td>0</td>\n",
       "      <td>0</td>\n",
       "      <td>1</td>\n",
       "      <td>0</td>\n",
       "      <td>...</td>\n",
       "      <td>0</td>\n",
       "      <td>0</td>\n",
       "      <td>0</td>\n",
       "      <td>0</td>\n",
       "      <td>0</td>\n",
       "      <td>1</td>\n",
       "      <td>0</td>\n",
       "      <td>0</td>\n",
       "      <td>0</td>\n",
       "      <td>1</td>\n",
       "    </tr>\n",
       "    <tr>\n",
       "      <th>2</th>\n",
       "      <td>2</td>\n",
       "      <td>a0371b342482a12a1932b6930f24c5cb84226c325d9e25...</td>\n",
       "      <td>0</td>\n",
       "      <td>0</td>\n",
       "      <td>0</td>\n",
       "      <td>0</td>\n",
       "      <td>0</td>\n",
       "      <td>0</td>\n",
       "      <td>1</td>\n",
       "      <td>0</td>\n",
       "      <td>...</td>\n",
       "      <td>0</td>\n",
       "      <td>0</td>\n",
       "      <td>0</td>\n",
       "      <td>0</td>\n",
       "      <td>0</td>\n",
       "      <td>0</td>\n",
       "      <td>0</td>\n",
       "      <td>0</td>\n",
       "      <td>0</td>\n",
       "      <td>1</td>\n",
       "    </tr>\n",
       "    <tr>\n",
       "      <th>3</th>\n",
       "      <td>3</td>\n",
       "      <td>26d4ebb9a6693d71077f86794f28f1480db6d096c95ecb...</td>\n",
       "      <td>0</td>\n",
       "      <td>0</td>\n",
       "      <td>0</td>\n",
       "      <td>0</td>\n",
       "      <td>0</td>\n",
       "      <td>0</td>\n",
       "      <td>0</td>\n",
       "      <td>0</td>\n",
       "      <td>...</td>\n",
       "      <td>0</td>\n",
       "      <td>0</td>\n",
       "      <td>0</td>\n",
       "      <td>0</td>\n",
       "      <td>0</td>\n",
       "      <td>0</td>\n",
       "      <td>0</td>\n",
       "      <td>0</td>\n",
       "      <td>0</td>\n",
       "      <td>1</td>\n",
       "    </tr>\n",
       "    <tr>\n",
       "      <th>4</th>\n",
       "      <td>4</td>\n",
       "      <td>361c51f12ffc337eb1293a1f49c1a5034ca708a9a46ac4...</td>\n",
       "      <td>0</td>\n",
       "      <td>0</td>\n",
       "      <td>0</td>\n",
       "      <td>0</td>\n",
       "      <td>0</td>\n",
       "      <td>0</td>\n",
       "      <td>0</td>\n",
       "      <td>0</td>\n",
       "      <td>...</td>\n",
       "      <td>0</td>\n",
       "      <td>0</td>\n",
       "      <td>0</td>\n",
       "      <td>0</td>\n",
       "      <td>1</td>\n",
       "      <td>1</td>\n",
       "      <td>0</td>\n",
       "      <td>0</td>\n",
       "      <td>0</td>\n",
       "      <td>1</td>\n",
       "    </tr>\n",
       "    <tr>\n",
       "      <th>...</th>\n",
       "      <td>...</td>\n",
       "      <td>...</td>\n",
       "      <td>...</td>\n",
       "      <td>...</td>\n",
       "      <td>...</td>\n",
       "      <td>...</td>\n",
       "      <td>...</td>\n",
       "      <td>...</td>\n",
       "      <td>...</td>\n",
       "      <td>...</td>\n",
       "      <td>...</td>\n",
       "      <td>...</td>\n",
       "      <td>...</td>\n",
       "      <td>...</td>\n",
       "      <td>...</td>\n",
       "      <td>...</td>\n",
       "      <td>...</td>\n",
       "      <td>...</td>\n",
       "      <td>...</td>\n",
       "      <td>...</td>\n",
       "      <td>...</td>\n",
       "    </tr>\n",
       "    <tr>\n",
       "      <th>10773</th>\n",
       "      <td>10773</td>\n",
       "      <td>Sha256_000C32D446A831E36F727F1331B0579FFC6EF8E...</td>\n",
       "      <td>0</td>\n",
       "      <td>0</td>\n",
       "      <td>0</td>\n",
       "      <td>0</td>\n",
       "      <td>0</td>\n",
       "      <td>0</td>\n",
       "      <td>0</td>\n",
       "      <td>0</td>\n",
       "      <td>...</td>\n",
       "      <td>0</td>\n",
       "      <td>0</td>\n",
       "      <td>0</td>\n",
       "      <td>0</td>\n",
       "      <td>0</td>\n",
       "      <td>0</td>\n",
       "      <td>0</td>\n",
       "      <td>0</td>\n",
       "      <td>0</td>\n",
       "      <td>0</td>\n",
       "    </tr>\n",
       "    <tr>\n",
       "      <th>10774</th>\n",
       "      <td>10774</td>\n",
       "      <td>Sha256_000869C011E1C7D6A0DF34BB712A2851E736B9C...</td>\n",
       "      <td>0</td>\n",
       "      <td>0</td>\n",
       "      <td>0</td>\n",
       "      <td>0</td>\n",
       "      <td>0</td>\n",
       "      <td>0</td>\n",
       "      <td>0</td>\n",
       "      <td>0</td>\n",
       "      <td>...</td>\n",
       "      <td>0</td>\n",
       "      <td>0</td>\n",
       "      <td>0</td>\n",
       "      <td>0</td>\n",
       "      <td>0</td>\n",
       "      <td>0</td>\n",
       "      <td>0</td>\n",
       "      <td>0</td>\n",
       "      <td>0</td>\n",
       "      <td>0</td>\n",
       "    </tr>\n",
       "    <tr>\n",
       "      <th>10775</th>\n",
       "      <td>10775</td>\n",
       "      <td>Sha256_000C3CF07E99F07C41C685E10978410238609A0...</td>\n",
       "      <td>0</td>\n",
       "      <td>0</td>\n",
       "      <td>0</td>\n",
       "      <td>0</td>\n",
       "      <td>0</td>\n",
       "      <td>0</td>\n",
       "      <td>0</td>\n",
       "      <td>0</td>\n",
       "      <td>...</td>\n",
       "      <td>0</td>\n",
       "      <td>0</td>\n",
       "      <td>0</td>\n",
       "      <td>0</td>\n",
       "      <td>0</td>\n",
       "      <td>0</td>\n",
       "      <td>0</td>\n",
       "      <td>0</td>\n",
       "      <td>0</td>\n",
       "      <td>0</td>\n",
       "    </tr>\n",
       "    <tr>\n",
       "      <th>10776</th>\n",
       "      <td>10776</td>\n",
       "      <td>Sha256_00223AD0498407AF755A9C8D842C9FA5EDCF2E2...</td>\n",
       "      <td>0</td>\n",
       "      <td>0</td>\n",
       "      <td>0</td>\n",
       "      <td>0</td>\n",
       "      <td>0</td>\n",
       "      <td>0</td>\n",
       "      <td>0</td>\n",
       "      <td>0</td>\n",
       "      <td>...</td>\n",
       "      <td>0</td>\n",
       "      <td>0</td>\n",
       "      <td>0</td>\n",
       "      <td>0</td>\n",
       "      <td>0</td>\n",
       "      <td>0</td>\n",
       "      <td>0</td>\n",
       "      <td>0</td>\n",
       "      <td>0</td>\n",
       "      <td>0</td>\n",
       "    </tr>\n",
       "    <tr>\n",
       "      <th>10777</th>\n",
       "      <td>10777</td>\n",
       "      <td>Sha256_00138A66E8936AF09892A0A5F7FDBD338B2BD93...</td>\n",
       "      <td>0</td>\n",
       "      <td>0</td>\n",
       "      <td>0</td>\n",
       "      <td>0</td>\n",
       "      <td>0</td>\n",
       "      <td>0</td>\n",
       "      <td>0</td>\n",
       "      <td>0</td>\n",
       "      <td>...</td>\n",
       "      <td>0</td>\n",
       "      <td>0</td>\n",
       "      <td>0</td>\n",
       "      <td>0</td>\n",
       "      <td>0</td>\n",
       "      <td>0</td>\n",
       "      <td>0</td>\n",
       "      <td>0</td>\n",
       "      <td>0</td>\n",
       "      <td>0</td>\n",
       "    </tr>\n",
       "  </tbody>\n",
       "</table>\n",
       "<p>10778 rows × 155 columns</p>\n",
       "</div>"
      ],
      "text/plain": [
       "       Unnamed: 0                                                 id  \\\n",
       "0               0  0864acb063671894c80220d3f77cbcdcb08f4aabf017cf...   \n",
       "1               1  477c68553ff88f831026e8842fe99fe14b2ddf08821a0c...   \n",
       "2               2  a0371b342482a12a1932b6930f24c5cb84226c325d9e25...   \n",
       "3               3  26d4ebb9a6693d71077f86794f28f1480db6d096c95ecb...   \n",
       "4               4  361c51f12ffc337eb1293a1f49c1a5034ca708a9a46ac4...   \n",
       "...           ...                                                ...   \n",
       "10773       10773  Sha256_000C32D446A831E36F727F1331B0579FFC6EF8E...   \n",
       "10774       10774  Sha256_000869C011E1C7D6A0DF34BB712A2851E736B9C...   \n",
       "10775       10775  Sha256_000C3CF07E99F07C41C685E10978410238609A0...   \n",
       "10776       10776  Sha256_00223AD0498407AF755A9C8D842C9FA5EDCF2E2...   \n",
       "10777       10777  Sha256_00138A66E8936AF09892A0A5F7FDBD338B2BD93...   \n",
       "\n",
       "       ACCESS_ALL_DOWNLOADS  ACCESS_BLUETOOTH_SHARE  ACCESS_CACHE_FILESYSTEM  \\\n",
       "0                         0                       0                        0   \n",
       "1                         0                       0                        0   \n",
       "2                         0                       0                        0   \n",
       "3                         0                       0                        0   \n",
       "4                         0                       0                        0   \n",
       "...                     ...                     ...                      ...   \n",
       "10773                     0                       0                        0   \n",
       "10774                     0                       0                        0   \n",
       "10775                     0                       0                        0   \n",
       "10776                     0                       0                        0   \n",
       "10777                     0                       0                        0   \n",
       "\n",
       "       ACCESS_CHECKIN_PROPERTIES  ACCESS_DOWNLOAD_MANAGER  \\\n",
       "0                              0                        0   \n",
       "1                              0                        0   \n",
       "2                              0                        0   \n",
       "3                              0                        0   \n",
       "4                              0                        0   \n",
       "...                          ...                      ...   \n",
       "10773                          0                        0   \n",
       "10774                          0                        0   \n",
       "10775                          0                        0   \n",
       "10776                          0                        0   \n",
       "10777                          0                        0   \n",
       "\n",
       "       ACCESS_DOWNLOAD_MANAGER_ADVANCED  ACCESS_LOCATION_EXTRA_COMMANDS  \\\n",
       "0                                     0                               0   \n",
       "1                                     0                               1   \n",
       "2                                     0                               1   \n",
       "3                                     0                               0   \n",
       "4                                     0                               0   \n",
       "...                                 ...                             ...   \n",
       "10773                                 0                               0   \n",
       "10774                                 0                               0   \n",
       "10775                                 0                               0   \n",
       "10776                                 0                               0   \n",
       "10777                                 0                               0   \n",
       "\n",
       "       ACCESS_MOCK_LOCATION  ...  WRITE_GSERVICES  WRITE_MEDIA_STORAGE  \\\n",
       "0                         0  ...                0                    0   \n",
       "1                         0  ...                0                    0   \n",
       "2                         0  ...                0                    0   \n",
       "3                         0  ...                0                    0   \n",
       "4                         0  ...                0                    0   \n",
       "...                     ...  ...              ...                  ...   \n",
       "10773                     0  ...                0                    0   \n",
       "10774                     0  ...                0                    0   \n",
       "10775                     0  ...                0                    0   \n",
       "10776                     0  ...                0                    0   \n",
       "10777                     0  ...                0                    0   \n",
       "\n",
       "       WRITE_PROFILE  WRITE_SECURE_SETTINGS  WRITE_SETTINGS  WRITE_SMS  \\\n",
       "0                  0                      0               1          1   \n",
       "1                  0                      0               0          1   \n",
       "2                  0                      0               0          0   \n",
       "3                  0                      0               0          0   \n",
       "4                  0                      0               1          1   \n",
       "...              ...                    ...             ...        ...   \n",
       "10773              0                      0               0          0   \n",
       "10774              0                      0               0          0   \n",
       "10775              0                      0               0          0   \n",
       "10776              0                      0               0          0   \n",
       "10777              0                      0               0          0   \n",
       "\n",
       "       WRITE_SOCIAL_STREAM  WRITE_SYNC_SETTINGS  WRITE_USER_DICTIONARY  \\\n",
       "0                        0                    0                      0   \n",
       "1                        0                    0                      0   \n",
       "2                        0                    0                      0   \n",
       "3                        0                    0                      0   \n",
       "4                        0                    0                      0   \n",
       "...                    ...                  ...                    ...   \n",
       "10773                    0                    0                      0   \n",
       "10774                    0                    0                      0   \n",
       "10775                    0                    0                      0   \n",
       "10776                    0                    0                      0   \n",
       "10777                    0                    0                      0   \n",
       "\n",
       "       is_malicious  \n",
       "0                 1  \n",
       "1                 1  \n",
       "2                 1  \n",
       "3                 1  \n",
       "4                 1  \n",
       "...             ...  \n",
       "10773             0  \n",
       "10774             0  \n",
       "10775             0  \n",
       "10776             0  \n",
       "10777             0  \n",
       "\n",
       "[10778 rows x 155 columns]"
      ]
     },
     "execution_count": 53,
     "metadata": {},
     "output_type": "execute_result"
    }
   ],
   "source": [
    "data = pd.read_csv(\"datasets/processed_manifest_final.csv\")\n",
    "data"
   ]
  },
  {
   "cell_type": "code",
   "execution_count": 54,
   "metadata": {},
   "outputs": [],
   "source": [
    "X = data.drop(['Unnamed: 0', \"id\", \"is_malicious\"], axis=1)  # Features\n",
    "y = data[\"is_malicious\"]  # Label"
   ]
  },
  {
   "cell_type": "code",
   "execution_count": 55,
   "metadata": {},
   "outputs": [],
   "source": [
    "X = X.to_numpy().astype('float32' )\n",
    "y = y.to_numpy().astype('int32')"
   ]
  },
  {
   "cell_type": "code",
   "execution_count": 56,
   "metadata": {},
   "outputs": [],
   "source": [
    "X_train, X_test, y_train, y_test = train_test_split( X, y, test_size=0.2, random_state=1)"
   ]
  },
  {
   "cell_type": "code",
   "execution_count": 57,
   "metadata": {},
   "outputs": [
    {
     "name": "stdout",
     "output_type": "stream",
     "text": [
      "X: (8622, 152) float32\n",
      "y: (8622,) int32\n"
     ]
    }
   ],
   "source": [
    "print(\"X:\", X_train.shape, X_train.dtype)\n",
    "print(\"y:\", y_train.shape, y_train.dtype)"
   ]
  },
  {
   "cell_type": "code",
   "execution_count": 58,
   "metadata": {},
   "outputs": [],
   "source": [
    "#prepocess data\n",
    "scaler = sklearn.preprocessing.StandardScaler().fit(X_train)\n",
    "\n",
    "X_train = scaler.transform(X_train)\n",
    "X_test = scaler.transform(X_test)"
   ]
  },
  {
   "cell_type": "code",
   "execution_count": 59,
   "metadata": {},
   "outputs": [],
   "source": [
    "Performance = pd.DataFrame()\n",
    "Metrics=['Accuracy','Recall','Precision','F1-score']\n",
    "Performance['Metrics'] = Metrics"
   ]
  },
  {
   "cell_type": "markdown",
   "metadata": {},
   "source": [
    "# Decision tree"
   ]
  },
  {
   "cell_type": "code",
   "execution_count": 60,
   "metadata": {},
   "outputs": [],
   "source": [
    "dt=sklearn.tree.DecisionTreeClassifier()\n",
    "dt.fit(X_train,y_train)\n",
    "\n",
    "y_pred_train = dt.predict(X_train)\n",
    "y_pred_test = dt.predict(X_test)\n",
    "\n"
   ]
  },
  {
   "cell_type": "code",
   "execution_count": 61,
   "metadata": {},
   "outputs": [
    {
     "name": "stdout",
     "output_type": "stream",
     "text": [
      "Train accuracy : 89.16%\n",
      "Train f1 : 89.06%\n",
      "Train recall : 86.08%\n",
      "Train precision : 92.24%\n"
     ]
    }
   ],
   "source": [
    "t_acc = accuracy_score(y_train, y_pred_train)\n",
    "t_f1 = f1_score(y_train, y_pred_train)\n",
    "t_recall = recall_score(y_train, y_pred_train)\n",
    "t_precision = precision_score(y_train, y_pred_train)\n",
    "print('Train accuracy : %.2f%%'% (100*t_acc) )\n",
    "print('Train f1 : %.2f%%'% (100*t_f1) )\n",
    "print('Train recall : %.2f%%'% (100*t_recall) )\n",
    "print('Train precision : %.2f%%'% (100*t_precision) )"
   ]
  },
  {
   "cell_type": "code",
   "execution_count": 62,
   "metadata": {},
   "outputs": [
    {
     "name": "stdout",
     "output_type": "stream",
     "text": [
      "Test accuracy : 86.41%\n",
      "Test f1 : 86.74%\n",
      "Test recall : 84.85%\n",
      "Test precision : 88.70%\n"
     ]
    }
   ],
   "source": [
    "acc = accuracy_score(y_test, y_pred_test)\n",
    "f1 = f1_score(y_test, y_pred_test)\n",
    "recall = recall_score(y_test, y_pred_test)\n",
    "precision = precision_score(y_test, y_pred_test)\n",
    "print('Test accuracy : %.2f%%'% (100*acc) )\n",
    "print('Test f1 : %.2f%%'% (100*f1) )\n",
    "print('Test recall : %.2f%%'% (100*recall) )\n",
    "print('Test precision : %.2f%%'% (100*precision) )\n",
    "\n",
    "Performance['Decision Tree'] = [acc,recall,precision,f1]"
   ]
  },
  {
   "cell_type": "code",
   "execution_count": 63,
   "metadata": {},
   "outputs": [
    {
     "data": {
      "image/png": "[encoded data removed]",
      "text/plain": [
       "<Figure size 432x288 with 2 Axes>"
      ]
     },
     "metadata": {
      "needs_background": "light"
     },
     "output_type": "display_data"
    }
   ],
   "source": [
    "plot_confusion_matrix(dt, X_test, y_test, display_labels=['Begnin','Malicious']) \n",
    "plt.show()"
   ]
  },
  {
   "cell_type": "markdown",
   "metadata": {},
   "source": [
    "# Random Forest"
   ]
  },
  {
   "cell_type": "code",
   "execution_count": 64,
   "metadata": {},
   "outputs": [],
   "source": [
    "rf=sklearn.ensemble.RandomForestClassifier(random_state=0,n_estimators=3)\n",
    "rf.fit(X_train,y_train)\n",
    "\n",
    "y_pred_train = rf.predict(X_train)\n",
    "y_pred_test = rf.predict(X_test)"
   ]
  },
  {
   "cell_type": "code",
   "execution_count": 65,
   "metadata": {},
   "outputs": [
    {
     "name": "stdout",
     "output_type": "stream",
     "text": [
      "Train accuracy : 88.65%\n",
      "Train f1 : 88.65%\n",
      "Train recall : 86.49%\n",
      "Train precision : 90.91%\n"
     ]
    }
   ],
   "source": [
    "t_acc = accuracy_score(y_train, y_pred_train)\n",
    "t_f1 = f1_score(y_train, y_pred_train)\n",
    "t_recall = recall_score(y_train, y_pred_train)\n",
    "t_precision = precision_score(y_train, y_pred_train)\n",
    "print('Train accuracy : %.2f%%'% (100*t_acc) )\n",
    "print('Train f1 : %.2f%%'% (100*t_f1) )\n",
    "print('Train recall : %.2f%%'% (100*t_recall) )\n",
    "print('Train precision : %.2f%%'% (100*t_precision) )"
   ]
  },
  {
   "cell_type": "code",
   "execution_count": 66,
   "metadata": {},
   "outputs": [
    {
     "name": "stdout",
     "output_type": "stream",
     "text": [
      "Test accuracy : 85.76%\n",
      "Test f1 : 86.24%\n",
      "Test recall : 85.21%\n",
      "Test precision : 87.30%\n"
     ]
    }
   ],
   "source": [
    "acc = accuracy_score(y_test, y_pred_test)\n",
    "f1 = f1_score(y_test, y_pred_test)\n",
    "recall = recall_score(y_test, y_pred_test)\n",
    "precision = precision_score(y_test, y_pred_test)\n",
    "print('Test accuracy : %.2f%%'% (100*acc) )\n",
    "print('Test f1 : %.2f%%'% (100*f1) )\n",
    "print('Test recall : %.2f%%'% (100*recall) )\n",
    "print('Test precision : %.2f%%'% (100*precision) )\n",
    "\n",
    "Performance['Random Forest'] = [acc,recall,precision,f1]"
   ]
  },
  {
   "cell_type": "code",
   "execution_count": 67,
   "metadata": {},
   "outputs": [
    {
     "data": {
      "image/png": "[encoded data removed]",
      "text/plain": [
       "<Figure size 432x288 with 2 Axes>"
      ]
     },
     "metadata": {
      "needs_background": "light"
     },
     "output_type": "display_data"
    }
   ],
   "source": [
    "plot_confusion_matrix(rf, X_test, y_test, display_labels=['Begnin','Malicious']) \n",
    "plt.show()"
   ]
  },
  {
   "cell_type": "markdown",
   "metadata": {},
   "source": [
    "# Logistic Regression"
   ]
  },
  {
   "cell_type": "code",
   "execution_count": 68,
   "metadata": {},
   "outputs": [
    {
     "data": {
      "text/plain": [
       "LogisticRegression(C=0.01, random_state=0)"
      ]
     },
     "execution_count": 68,
     "metadata": {},
     "output_type": "execute_result"
    }
   ],
   "source": [
    "lr = sklearn.linear_model.LogisticRegression(C=0.01, random_state=0)  # C=0.01 from Exercise 1.4\n",
    "lr.fit(X_train, y_train)"
   ]
  },
  {
   "cell_type": "code",
   "execution_count": 69,
   "metadata": {},
   "outputs": [
    {
     "name": "stdout",
     "output_type": "stream",
     "text": [
      "Train accuracy : 88.65%\n",
      "Train f1 : 88.65%\n",
      "Train recall : 86.49%\n",
      "Train precision : 90.91%\n"
     ]
    }
   ],
   "source": [
    "t_acc = accuracy_score(y_train, y_pred_train)\n",
    "t_f1 = f1_score(y_train, y_pred_train)\n",
    "t_recall = recall_score(y_train, y_pred_train)\n",
    "t_precision = precision_score(y_train, y_pred_train)\n",
    "print('Train accuracy : %.2f%%'% (100*t_acc) )\n",
    "print('Train f1 : %.2f%%'% (100*t_f1) )\n",
    "print('Train recall : %.2f%%'% (100*t_recall) )\n",
    "print('Train precision : %.2f%%'% (100*t_precision) )"
   ]
  },
  {
   "cell_type": "code",
   "execution_count": 70,
   "metadata": {},
   "outputs": [
    {
     "name": "stdout",
     "output_type": "stream",
     "text": [
      "Test accuracy : 85.76%\n",
      "Test f1 : 86.24%\n",
      "Test recall : 85.21%\n",
      "Test precision : 87.30%\n"
     ]
    }
   ],
   "source": [
    "acc = accuracy_score(y_test, y_pred_test)\n",
    "f1 = f1_score(y_test, y_pred_test)\n",
    "recall = recall_score(y_test, y_pred_test)\n",
    "precision = precision_score(y_test, y_pred_test)\n",
    "print('Test accuracy : %.2f%%'% (100*acc) )\n",
    "print('Test f1 : %.2f%%'% (100*f1) )\n",
    "print('Test recall : %.2f%%'% (100*recall) )\n",
    "print('Test precision : %.2f%%'% (100*precision) )\n",
    "\n",
    "Performance['LR'] = [acc,recall,precision,f1]"
   ]
  },
  {
   "cell_type": "code",
   "execution_count": 71,
   "metadata": {},
   "outputs": [
    {
     "data": {
      "image/png": "[encoded data removed]",
      "text/plain": [
       "<Figure size 432x288 with 2 Axes>"
      ]
     },
     "metadata": {
      "needs_background": "light"
     },
     "output_type": "display_data"
    }
   ],
   "source": [
    "plot_confusion_matrix(lr, X_test, y_test, display_labels=['Begnin','Malicious']) \n",
    "plt.show()"
   ]
  },
  {
   "cell_type": "markdown",
   "metadata": {},
   "source": [
    "# KNN"
   ]
  },
  {
   "cell_type": "code",
   "execution_count": 72,
   "metadata": {},
   "outputs": [
    {
     "name": "stdout",
     "output_type": "stream",
     "text": [
      "Train accuracy : 84.34%\n",
      "Test accuracy : 82.51%\n",
      "Train accuracy : 80.49%\n",
      "Test accuracy : 79.41%\n",
      "Train accuracy : 87.08%\n",
      "Test accuracy : 85.58%\n",
      "Train accuracy : 86.60%\n",
      "Test accuracy : 85.48%\n",
      "Train accuracy : 83.83%\n",
      "Test accuracy : 82.56%\n",
      "Train accuracy : 86.31%\n",
      "Test accuracy : 85.44%\n"
     ]
    }
   ],
   "source": [
    "for k in range(2,8):\n",
    "    knn = neigh =  sklearn.neighbors.KNeighborsClassifier(n_neighbors=k).fit(X_train,y_train)\n",
    "    y_pred_train = knn.predict(X_train)\n",
    "    y_pred_test = knn.predict(X_test)\n",
    "\n",
    "    acc_train = sklearn.metrics.accuracy_score(y_pred_train, y_train)\n",
    "    acc_test = sklearn.metrics.accuracy_score(y_pred_test, y_test)\n",
    "    print('Train accuracy : %.2f%%'% (100*acc_train))\n",
    "    print('Test accuracy : %.2f%%'% (100*acc_test))"
   ]
  },
  {
   "cell_type": "code",
   "execution_count": 73,
   "metadata": {},
   "outputs": [],
   "source": [
    "knn = neigh =  sklearn.neighbors.KNeighborsClassifier(n_neighbors=3).fit(X_train,y_train)\n",
    "y_pred_train = knn.predict(X_train)\n",
    "y_pred_test = knn.predict(X_test)"
   ]
  },
  {
   "cell_type": "code",
   "execution_count": 74,
   "metadata": {},
   "outputs": [
    {
     "name": "stdout",
     "output_type": "stream",
     "text": [
      "Train accuracy : 80.49%\n",
      "Train f1 : 83.03%\n",
      "Train recall : 93.10%\n",
      "Train precision : 74.92%\n"
     ]
    }
   ],
   "source": [
    "t_acc = accuracy_score(y_train, y_pred_train)\n",
    "t_f1 = f1_score(y_train, y_pred_train)\n",
    "t_recall = recall_score(y_train, y_pred_train)\n",
    "t_precision = precision_score(y_train, y_pred_train)\n",
    "print('Train accuracy : %.2f%%'% (100*t_acc) )\n",
    "print('Train f1 : %.2f%%'% (100*t_f1) )\n",
    "print('Train recall : %.2f%%'% (100*t_recall) )\n",
    "print('Train precision : %.2f%%'% (100*t_precision) )"
   ]
  },
  {
   "cell_type": "code",
   "execution_count": 75,
   "metadata": {},
   "outputs": [
    {
     "name": "stdout",
     "output_type": "stream",
     "text": [
      "Test accuracy : 79.41%\n",
      "Test f1 : 82.42%\n",
      "Test recall : 92.21%\n",
      "Test precision : 74.52%\n"
     ]
    }
   ],
   "source": [
    "acc = accuracy_score(y_test, y_pred_test)\n",
    "f1 = f1_score(y_test, y_pred_test)\n",
    "recall = recall_score(y_test, y_pred_test)\n",
    "precision = precision_score(y_test, y_pred_test)\n",
    "print('Test accuracy : %.2f%%'% (100*acc) )\n",
    "print('Test f1 : %.2f%%'% (100*f1) )\n",
    "print('Test recall : %.2f%%'% (100*recall) )\n",
    "print('Test precision : %.2f%%'% (100*precision) )\n",
    "\n",
    "Performance['KNN'] = [acc,recall,precision,f1]"
   ]
  },
  {
   "cell_type": "code",
   "execution_count": 76,
   "metadata": {},
   "outputs": [
    {
     "data": {
      "image/png": "[encoded data removed]",
      "text/plain": [
       "<Figure size 432x288 with 2 Axes>"
      ]
     },
     "metadata": {
      "needs_background": "light"
     },
     "output_type": "display_data"
    }
   ],
   "source": [
    "plot_confusion_matrix(knn, X_test, y_test, display_labels=['Begnin','Malicious']) \n",
    "plt.show()"
   ]
  },
  {
   "cell_type": "markdown",
   "metadata": {},
   "source": [
    "# GAUSSIAN NB"
   ]
  },
  {
   "cell_type": "code",
   "execution_count": 77,
   "metadata": {},
   "outputs": [],
   "source": [
    "gnb = GaussianNB()\n",
    "gnb.fit(X_train,y_train)\n",
    "\n",
    "y_pred_train = gnb.predict(X_train)\n",
    "y_pred_test = gnb.predict(X_test)"
   ]
  },
  {
   "cell_type": "code",
   "execution_count": 78,
   "metadata": {},
   "outputs": [
    {
     "name": "stdout",
     "output_type": "stream",
     "text": [
      "Train accuracy : 56.74%\n",
      "Train f1 : 70.30%\n",
      "Train recall : 99.91%\n",
      "Train precision : 54.23%\n"
     ]
    }
   ],
   "source": [
    "t_acc = accuracy_score(y_train, y_pred_train)\n",
    "t_f1 = f1_score(y_train, y_pred_train)\n",
    "t_recall = recall_score(y_train, y_pred_train)\n",
    "t_precision = precision_score(y_train, y_pred_train)\n",
    "print('Train accuracy : %.2f%%'% (100*t_acc) )\n",
    "print('Train f1 : %.2f%%'% (100*t_f1) )\n",
    "print('Train recall : %.2f%%'% (100*t_recall) )\n",
    "print('Train precision : %.2f%%'% (100*t_precision) )"
   ]
  },
  {
   "cell_type": "code",
   "execution_count": 79,
   "metadata": {},
   "outputs": [
    {
     "name": "stdout",
     "output_type": "stream",
     "text": [
      "Test accuracy : 57.51%\n",
      "Test f1 : 71.09%\n",
      "Test recall : 99.73%\n",
      "Test precision : 55.22%\n"
     ]
    }
   ],
   "source": [
    "acc = accuracy_score(y_test, y_pred_test)\n",
    "f1 = f1_score(y_test, y_pred_test)\n",
    "recall = recall_score(y_test, y_pred_test)\n",
    "precision = precision_score(y_test, y_pred_test)\n",
    "print('Test accuracy : %.2f%%'% (100*acc) )\n",
    "print('Test f1 : %.2f%%'% (100*f1) )\n",
    "print('Test recall : %.2f%%'% (100*recall) )\n",
    "print('Test precision : %.2f%%'% (100*precision) )\n",
    "\n",
    "Performance['Gaussian Naive Bayes'] = [acc,recall,precision,f1]"
   ]
  },
  {
   "cell_type": "code",
   "execution_count": 80,
   "metadata": {},
   "outputs": [
    {
     "data": {
      "image/png": "[encoded data removed]",
      "text/plain": [
       "<Figure size 432x288 with 2 Axes>"
      ]
     },
     "metadata": {
      "needs_background": "light"
     },
     "output_type": "display_data"
    }
   ],
   "source": [
    "plot_confusion_matrix(gnb, X_test, y_test, display_labels=['Begnin','Malicious']) \n",
    "plt.show()"
   ]
  },
  {
   "cell_type": "markdown",
   "metadata": {},
   "source": [
    "# MLP"
   ]
  },
  {
   "cell_type": "code",
   "execution_count": 81,
   "metadata": {},
   "outputs": [
    {
     "name": "stdout",
     "output_type": "stream",
     "text": [
      "Iteration 1, loss = 0.57961994\n",
      "Iteration 2, loss = 0.36717254\n",
      "Iteration 3, loss = 0.33543651\n",
      "Iteration 4, loss = 0.32048000\n",
      "Iteration 5, loss = 0.31060261\n",
      "Iteration 6, loss = 0.30335862\n",
      "Iteration 7, loss = 0.29766039\n",
      "Iteration 8, loss = 0.29230629\n",
      "Iteration 9, loss = 0.28820638\n",
      "Iteration 10, loss = 0.28635489\n",
      "Iteration 11, loss = 0.28119754\n",
      "Iteration 12, loss = 0.28119561\n",
      "Iteration 13, loss = 0.27816797\n",
      "Iteration 14, loss = 0.27702996\n",
      "Iteration 15, loss = 0.27533687\n",
      "Iteration 16, loss = 0.27407269\n",
      "Iteration 17, loss = 0.27280999\n",
      "Iteration 18, loss = 0.27127764\n",
      "Iteration 19, loss = 0.26925420\n",
      "Iteration 20, loss = 0.26775070\n",
      "Iteration 21, loss = 0.26752613\n",
      "Iteration 22, loss = 0.26439007\n",
      "Iteration 23, loss = 0.26532281\n",
      "Iteration 24, loss = 0.26390785\n",
      "Iteration 25, loss = 0.26322266\n",
      "Iteration 26, loss = 0.26285123\n",
      "Iteration 27, loss = 0.26144294\n",
      "Iteration 28, loss = 0.26096426\n",
      "Iteration 29, loss = 0.26115480\n",
      "Iteration 30, loss = 0.25818658\n",
      "Iteration 31, loss = 0.25860547\n",
      "Iteration 32, loss = 0.25847373\n",
      "Iteration 33, loss = 0.25730782\n",
      "Iteration 34, loss = 0.25933408\n",
      "Iteration 35, loss = 0.26020811\n",
      "Iteration 36, loss = 0.25755099\n",
      "Iteration 37, loss = 0.25641969\n",
      "Iteration 38, loss = 0.25606667\n",
      "Iteration 39, loss = 0.25638387\n",
      "Iteration 40, loss = 0.25729758\n",
      "Iteration 41, loss = 0.25408642\n",
      "Iteration 42, loss = 0.25398091\n",
      "Iteration 43, loss = 0.25347604\n",
      "Iteration 44, loss = 0.25305658\n",
      "Iteration 45, loss = 0.25267230\n",
      "Iteration 46, loss = 0.25262156\n",
      "Iteration 47, loss = 0.25211704\n",
      "Iteration 48, loss = 0.25307086\n",
      "Iteration 49, loss = 0.25170210\n",
      "Iteration 50, loss = 0.25227543\n",
      "Iteration 51, loss = 0.25168899\n",
      "Iteration 52, loss = 0.25129369\n",
      "Iteration 53, loss = 0.25156829\n",
      "Iteration 54, loss = 0.25344227\n",
      "Iteration 55, loss = 0.25079744\n",
      "Iteration 56, loss = 0.25097249\n",
      "Iteration 57, loss = 0.24884634\n",
      "Iteration 58, loss = 0.25044644\n",
      "Iteration 59, loss = 0.25049075\n",
      "Iteration 60, loss = 0.25071454\n",
      "Iteration 61, loss = 0.24912123\n",
      "Iteration 62, loss = 0.25166280\n",
      "Iteration 63, loss = 0.25119792\n",
      "Iteration 64, loss = 0.24834920\n",
      "Iteration 65, loss = 0.24801660\n",
      "Iteration 66, loss = 0.24800731\n",
      "Iteration 67, loss = 0.24852953\n",
      "Iteration 68, loss = 0.24837984\n",
      "Iteration 69, loss = 0.24935897\n",
      "Iteration 70, loss = 0.24882652\n",
      "Iteration 71, loss = 0.24687973\n",
      "Iteration 72, loss = 0.24758621\n",
      "Iteration 73, loss = 0.24800513\n",
      "Iteration 74, loss = 0.24803182\n",
      "Iteration 75, loss = 0.24696514\n",
      "Iteration 76, loss = 0.24703247\n",
      "Iteration 77, loss = 0.24538081\n",
      "Iteration 78, loss = 0.24797038\n",
      "Iteration 79, loss = 0.24632035\n",
      "Iteration 80, loss = 0.24606874\n",
      "Iteration 81, loss = 0.24636383\n",
      "Iteration 82, loss = 0.24557948\n",
      "Iteration 83, loss = 0.24566608\n",
      "Iteration 84, loss = 0.24574218\n",
      "Iteration 85, loss = 0.24778305\n",
      "Iteration 86, loss = 0.24609438\n",
      "Iteration 87, loss = 0.24697105\n",
      "Iteration 88, loss = 0.24492202\n",
      "Iteration 89, loss = 0.24671397\n",
      "Iteration 90, loss = 0.24544503\n",
      "Iteration 91, loss = 0.24546934\n",
      "Iteration 92, loss = 0.24432981\n",
      "Iteration 93, loss = 0.24563567\n",
      "Iteration 94, loss = 0.24537545\n",
      "Iteration 95, loss = 0.24552377\n",
      "Iteration 96, loss = 0.24530873\n",
      "Iteration 97, loss = 0.24477493\n",
      "Iteration 98, loss = 0.24408872\n",
      "Iteration 99, loss = 0.24341497\n",
      "Iteration 100, loss = 0.24418624\n"
     ]
    },
    {
     "name": "stderr",
     "output_type": "stream",
     "text": [
      "C:\\Program Files\\Anaconda3\\envs\\py38\\lib\\site-packages\\sklearn\\neural_network\\_multilayer_perceptron.py:582: ConvergenceWarning: Stochastic Optimizer: Maximum iterations (100) reached and the optimization hasn't converged yet.\n",
      "  warnings.warn(\n"
     ]
    }
   ],
   "source": [
    "mlp = sklearn.neural_network.MLPClassifier(hidden_layer_sizes=(60,20,5),\n",
    "                                           solver='sgd', batch_size=100, max_iter=100,\n",
    "                                           learning_rate_init=.01, momentum=0.9,\n",
    "                                           verbose=True, random_state=0)\n",
    "\n",
    "mlp.fit(X_train, y_train);\n",
    "\n",
    "y_pred_train = mlp.predict(X_train)\n",
    "y_pred_test = mlp.predict(X_test)"
   ]
  },
  {
   "cell_type": "code",
   "execution_count": 82,
   "metadata": {},
   "outputs": [
    {
     "name": "stdout",
     "output_type": "stream",
     "text": [
      "Train accuracy : 88.91%\n",
      "Train f1 : 88.99%\n",
      "Train recall : 87.44%\n",
      "Train precision : 90.60%\n"
     ]
    }
   ],
   "source": [
    "t_acc = accuracy_score(y_train, y_pred_train)\n",
    "t_f1 = f1_score(y_train, y_pred_train)\n",
    "t_recall = recall_score(y_train, y_pred_train)\n",
    "t_precision = precision_score(y_train, y_pred_train)\n",
    "print('Train accuracy : %.2f%%'% (100*t_acc) )\n",
    "print('Train f1 : %.2f%%'% (100*t_f1) )\n",
    "print('Train recall : %.2f%%'% (100*t_recall) )\n",
    "print('Train precision : %.2f%%'% (100*t_precision) )"
   ]
  },
  {
   "cell_type": "code",
   "execution_count": 83,
   "metadata": {},
   "outputs": [
    {
     "name": "stdout",
     "output_type": "stream",
     "text": [
      "Test accuracy : 85.95%\n",
      "Test f1 : 86.49%\n",
      "Test recall : 85.92%\n",
      "Test precision : 87.07%\n"
     ]
    }
   ],
   "source": [
    "acc = accuracy_score(y_test, y_pred_test)\n",
    "f1 = f1_score(y_test, y_pred_test)\n",
    "recall = recall_score(y_test, y_pred_test)\n",
    "precision = precision_score(y_test, y_pred_test)\n",
    "print('Test accuracy : %.2f%%'% (100*acc) )\n",
    "print('Test f1 : %.2f%%'% (100*f1) )\n",
    "print('Test recall : %.2f%%'% (100*recall) )\n",
    "print('Test precision : %.2f%%'% (100*precision) )\n",
    "\n",
    "Performance['MLP'] = [acc,recall,precision,f1]"
   ]
  },
  {
   "cell_type": "code",
   "execution_count": 84,
   "metadata": {},
   "outputs": [
    {
     "data": {
      "image/png": "[encoded data removed]",
      "text/plain": [
       "<Figure size 432x288 with 2 Axes>"
      ]
     },
     "metadata": {
      "needs_background": "light"
     },
     "output_type": "display_data"
    }
   ],
   "source": [
    "plot_confusion_matrix(mlp, X_test, y_test, display_labels=['Begnin','Malicious']) \n",
    "plt.show()"
   ]
  },
  {
   "cell_type": "markdown",
   "metadata": {},
   "source": [
    "# SVM"
   ]
  },
  {
   "cell_type": "code",
   "execution_count": 85,
   "metadata": {},
   "outputs": [],
   "source": [
    "y_train_svm = y_train*2 - 1\n",
    "y_test_svm = y_test*2-1\n",
    "svm = sklearn.svm.SVC(kernel='linear')\n",
    "svm.fit(X_train, y_train_svm)\n",
    "\n",
    "y_pred_train = svm.predict(X_train)\n",
    "y_pred_test = svm.predict(X_test)"
   ]
  },
  {
   "cell_type": "code",
   "execution_count": 86,
   "metadata": {},
   "outputs": [
    {
     "name": "stdout",
     "output_type": "stream",
     "text": [
      "Train accuracy : 84.08%\n",
      "Train f1 : 84.12%\n",
      "Train recall : 82.28%\n",
      "Train precision : 86.04%\n"
     ]
    }
   ],
   "source": [
    "t_acc = accuracy_score(y_train_svm, y_pred_train)\n",
    "t_f1 = f1_score(y_train_svm, y_pred_train)\n",
    "t_recall = recall_score(y_train_svm, y_pred_train)\n",
    "t_precision = precision_score(y_train_svm, y_pred_train)\n",
    "print('Train accuracy : %.2f%%'% (100*t_acc) )\n",
    "print('Train f1 : %.2f%%'% (100*t_f1) )\n",
    "print('Train recall : %.2f%%'% (100*t_recall) )\n",
    "print('Train precision : %.2f%%'% (100*t_precision) )"
   ]
  },
  {
   "cell_type": "code",
   "execution_count": 87,
   "metadata": {},
   "outputs": [
    {
     "name": "stdout",
     "output_type": "stream",
     "text": [
      "Test accuracy : 84.04%\n",
      "Test f1 : 84.68%\n",
      "Test recall : 84.23%\n",
      "Test precision : 85.14%\n"
     ]
    }
   ],
   "source": [
    "acc = accuracy_score(y_test_svm, y_pred_test)\n",
    "f1 = f1_score(y_test_svm, y_pred_test)\n",
    "recall = recall_score(y_test_svm, y_pred_test)\n",
    "precision = precision_score(y_test_svm, y_pred_test)\n",
    "print('Test accuracy : %.2f%%'% (100*acc) )\n",
    "print('Test f1 : %.2f%%'% (100*f1) )\n",
    "print('Test recall : %.2f%%'% (100*recall) )\n",
    "print('Test precision : %.2f%%'% (100*precision) )\n",
    "\n",
    "Performance['SVM'] = [acc,recall,precision,f1]"
   ]
  },
  {
   "cell_type": "code",
   "execution_count": 88,
   "metadata": {},
   "outputs": [
    {
     "data": {
      "image/png": "[encoded data removed]",
      "text/plain": [
       "<Figure size 432x288 with 2 Axes>"
      ]
     },
     "metadata": {
      "needs_background": "light"
     },
     "output_type": "display_data"
    }
   ],
   "source": [
    "plot_confusion_matrix(svm, X_test, y_test_svm, display_labels=['Begnin','Malicious']) \n",
    "plt.show()"
   ]
  },
  {
   "cell_type": "markdown",
   "metadata": {},
   "source": [
    "# ADA BOOSTING"
   ]
  },
  {
   "cell_type": "code",
   "execution_count": 89,
   "metadata": {},
   "outputs": [],
   "source": [
    "AdaB= AdaBoostClassifier(n_estimators=3, algorithm='SAMME', random_state=0).fit(X_train,y_train)\n",
    "\n",
    "y_pred_train = AdaB.predict(X_train)\n",
    "y_pred_test = AdaB.predict(X_test)"
   ]
  },
  {
   "cell_type": "code",
   "execution_count": 90,
   "metadata": {},
   "outputs": [
    {
     "name": "stdout",
     "output_type": "stream",
     "text": [
      "Train accuracy : 69.20%\n",
      "Train f1 : 63.18%\n",
      "Train recall : 51.57%\n",
      "Train precision : 81.54%\n"
     ]
    }
   ],
   "source": [
    "t_acc = accuracy_score(y_train, y_pred_train)\n",
    "t_f1 = f1_score(y_train, y_pred_train)\n",
    "t_recall = recall_score(y_train, y_pred_train)\n",
    "t_precision = precision_score(y_train, y_pred_train)\n",
    "print('Train accuracy : %.2f%%'% (100*t_acc) )\n",
    "print('Train f1 : %.2f%%'% (100*t_f1) )\n",
    "print('Train recall : %.2f%%'% (100*t_recall) )\n",
    "print('Train precision : %.2f%%'% (100*t_precision) )"
   ]
  },
  {
   "cell_type": "code",
   "execution_count": 91,
   "metadata": {},
   "outputs": [
    {
     "name": "stdout",
     "output_type": "stream",
     "text": [
      "Test accuracy : 69.85%\n",
      "Test f1 : 65.24%\n",
      "Test recall : 54.03%\n",
      "Test precision : 82.32%\n"
     ]
    }
   ],
   "source": [
    "acc = accuracy_score(y_test, y_pred_test)\n",
    "f1 = f1_score(y_test, y_pred_test)\n",
    "recall = recall_score(y_test, y_pred_test)\n",
    "precision = precision_score(y_test, y_pred_test)\n",
    "print('Test accuracy : %.2f%%'% (100*acc))\n",
    "print('Test f1 : %.2f%%'% (100*f1) )\n",
    "print('Test recall : %.2f%%'% (100*recall))\n",
    "print('Test precision : %.2f%%'% (100*precision))\n",
    "\n",
    "Performance['Ada Boosting'] = [acc,recall,precision,f1]"
   ]
  },
  {
   "cell_type": "code",
   "execution_count": 92,
   "metadata": {},
   "outputs": [
    {
     "data": {
      "image/png": "[encoded data removed]",
      "text/plain": [
       "<Figure size 432x288 with 2 Axes>"
      ]
     },
     "metadata": {
      "needs_background": "light"
     },
     "output_type": "display_data"
    }
   ],
   "source": [
    "plot_confusion_matrix(AdaB, X_test, y_test, display_labels=['Begnin','Malicious']) \n",
    "plt.show()"
   ]
  },
  {
   "cell_type": "markdown",
   "metadata": {},
   "source": [
    "# RESULTS COMPARISON"
   ]
  },
  {
   "cell_type": "code",
   "execution_count": 93,
   "metadata": {},
   "outputs": [
    {
     "data": {
      "text/html": [
       "<div>\n",
       "<style scoped>\n",
       "    .dataframe tbody tr th:only-of-type {\n",
       "        vertical-align: middle;\n",
       "    }\n",
       "\n",
       "    .dataframe tbody tr th {\n",
       "        vertical-align: top;\n",
       "    }\n",
       "\n",
       "    .dataframe thead th {\n",
       "        text-align: right;\n",
       "    }\n",
       "</style>\n",
       "<table border=\"1\" class=\"dataframe\">\n",
       "  <thead>\n",
       "    <tr style=\"text-align: right;\">\n",
       "      <th></th>\n",
       "      <th>Metrics</th>\n",
       "      <th>Decision Tree</th>\n",
       "      <th>Random Forest</th>\n",
       "      <th>LR</th>\n",
       "      <th>KNN</th>\n",
       "      <th>Gaussian Naive Bayes</th>\n",
       "      <th>MLP</th>\n",
       "      <th>SVM</th>\n",
       "      <th>Ada Boosting</th>\n",
       "    </tr>\n",
       "  </thead>\n",
       "  <tbody>\n",
       "    <tr>\n",
       "      <th>0</th>\n",
       "      <td>Accuracy</td>\n",
       "      <td>0.864100</td>\n",
       "      <td>0.857607</td>\n",
       "      <td>0.857607</td>\n",
       "      <td>0.794063</td>\n",
       "      <td>0.575139</td>\n",
       "      <td>0.859462</td>\n",
       "      <td>0.840445</td>\n",
       "      <td>0.698516</td>\n",
       "    </tr>\n",
       "    <tr>\n",
       "      <th>1</th>\n",
       "      <td>Recall</td>\n",
       "      <td>0.848539</td>\n",
       "      <td>0.852081</td>\n",
       "      <td>0.852081</td>\n",
       "      <td>0.922055</td>\n",
       "      <td>0.997343</td>\n",
       "      <td>0.859167</td>\n",
       "      <td>0.842338</td>\n",
       "      <td>0.540301</td>\n",
       "    </tr>\n",
       "    <tr>\n",
       "      <th>2</th>\n",
       "      <td>Precision</td>\n",
       "      <td>0.887037</td>\n",
       "      <td>0.872958</td>\n",
       "      <td>0.872958</td>\n",
       "      <td>0.745168</td>\n",
       "      <td>0.552231</td>\n",
       "      <td>0.870736</td>\n",
       "      <td>0.851388</td>\n",
       "      <td>0.823212</td>\n",
       "    </tr>\n",
       "    <tr>\n",
       "      <th>3</th>\n",
       "      <td>F1-score</td>\n",
       "      <td>0.867361</td>\n",
       "      <td>0.862394</td>\n",
       "      <td>0.862394</td>\n",
       "      <td>0.824228</td>\n",
       "      <td>0.710859</td>\n",
       "      <td>0.864913</td>\n",
       "      <td>0.846839</td>\n",
       "      <td>0.652406</td>\n",
       "    </tr>\n",
       "  </tbody>\n",
       "</table>\n",
       "</div>"
      ],
      "text/plain": [
       "     Metrics  Decision Tree  Random Forest        LR       KNN  \\\n",
       "0   Accuracy       0.864100       0.857607  0.857607  0.794063   \n",
       "1     Recall       0.848539       0.852081  0.852081  0.922055   \n",
       "2  Precision       0.887037       0.872958  0.872958  0.745168   \n",
       "3   F1-score       0.867361       0.862394  0.862394  0.824228   \n",
       "\n",
       "   Gaussian Naive Bayes       MLP       SVM  Ada Boosting  \n",
       "0              0.575139  0.859462  0.840445      0.698516  \n",
       "1              0.997343  0.859167  0.842338      0.540301  \n",
       "2              0.552231  0.870736  0.851388      0.823212  \n",
       "3              0.710859  0.864913  0.846839      0.652406  "
      ]
     },
     "execution_count": 93,
     "metadata": {},
     "output_type": "execute_result"
    }
   ],
   "source": [
    "Performance"
   ]
  }
 ],
 "metadata": {
  "kernelspec": {
   "display_name": "Python 3",
   "language": "python",
   "name": "python3"
  },
  "language_info": {
   "codemirror_mode": {
    "name": "ipython",
    "version": 3
   },
   "file_extension": ".py",
   "mimetype": "text/x-python",
   "name": "python",
   "nbconvert_exporter": "python",
   "pygments_lexer": "ipython3",
   "version": "3.8.3"
  }
 },
 "nbformat": 4,
 "nbformat_minor": 4
}
