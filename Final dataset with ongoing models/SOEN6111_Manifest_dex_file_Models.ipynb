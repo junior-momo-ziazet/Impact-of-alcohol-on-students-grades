{
 "cells": [
  {
   "cell_type": "code",
   "execution_count": 42,
   "metadata": {},
   "outputs": [],
   "source": [
    "import pandas as pd\n",
    "import matplotlib.pyplot as plt\n",
    "from sklearn.model_selection import train_test_split\n",
    "import sklearn\n",
    "import sklearn.preprocessing     # For StandardScaler\n",
    "import sklearn.linear_model      # For LogisticRegression\n",
    "import sklearn.neural_network    # For MLPClassifier\n",
    "from sklearn.metrics import confusion_matrix, plot_confusion_matrix,accuracy_score, f1_score, recall_score, precision_score\n",
    "from sklearn.tree import DecisionTreeClassifier\n",
    "from sklearn.ensemble import RandomForestClassifier, AdaBoostClassifier\n",
    "from sklearn.naive_bayes import GaussianNB"
   ]
  },
  {
   "cell_type": "markdown",
   "metadata": {},
   "source": [
    "# Load Dataset"
   ]
  },
  {
   "cell_type": "code",
   "execution_count": 43,
   "metadata": {},
   "outputs": [
    {
     "data": {
      "text/html": [
       "<div>\n",
       "<style scoped>\n",
       "    .dataframe tbody tr th:only-of-type {\n",
       "        vertical-align: middle;\n",
       "    }\n",
       "\n",
       "    .dataframe tbody tr th {\n",
       "        vertical-align: top;\n",
       "    }\n",
       "\n",
       "    .dataframe thead th {\n",
       "        text-align: right;\n",
       "    }\n",
       "</style>\n",
       "<table border=\"1\" class=\"dataframe\">\n",
       "  <thead>\n",
       "    <tr style=\"text-align: right;\">\n",
       "      <th></th>\n",
       "      <th>Unnamed: 0</th>\n",
       "      <th>id</th>\n",
       "      <th>ACCESS_ALL_DOWNLOADS</th>\n",
       "      <th>ACCESS_BLUETOOTH_SHARE</th>\n",
       "      <th>ACCESS_CACHE_FILESYSTEM</th>\n",
       "      <th>ACCESS_CHECKIN_PROPERTIES</th>\n",
       "      <th>ACCESS_DOWNLOAD_MANAGER</th>\n",
       "      <th>ACCESS_DOWNLOAD_MANAGER_ADVANCED</th>\n",
       "      <th>ACCESS_LOCATION_EXTRA_COMMANDS</th>\n",
       "      <th>ACCESS_MOCK_LOCATION</th>\n",
       "      <th>...</th>\n",
       "      <th>23</th>\n",
       "      <th>24</th>\n",
       "      <th>25</th>\n",
       "      <th>26</th>\n",
       "      <th>27</th>\n",
       "      <th>28</th>\n",
       "      <th>29</th>\n",
       "      <th>30</th>\n",
       "      <th>31</th>\n",
       "      <th>32</th>\n",
       "    </tr>\n",
       "  </thead>\n",
       "  <tbody>\n",
       "    <tr>\n",
       "      <th>0</th>\n",
       "      <td>0</td>\n",
       "      <td>0864acb063671894c80220d3f77cbcdcb08f4aabf017cf...</td>\n",
       "      <td>0</td>\n",
       "      <td>0</td>\n",
       "      <td>0</td>\n",
       "      <td>0</td>\n",
       "      <td>0</td>\n",
       "      <td>0</td>\n",
       "      <td>0</td>\n",
       "      <td>0</td>\n",
       "      <td>...</td>\n",
       "      <td>1.869884e-13</td>\n",
       "      <td>1.869884e-13</td>\n",
       "      <td>1.869884e-13</td>\n",
       "      <td>1.869884e-13</td>\n",
       "      <td>1.869884e-13</td>\n",
       "      <td>1.869884e-13</td>\n",
       "      <td>1.869884e-13</td>\n",
       "      <td>1.869884e-13</td>\n",
       "      <td>1.869884e-13</td>\n",
       "      <td>8.969419e-14</td>\n",
       "    </tr>\n",
       "    <tr>\n",
       "      <th>1</th>\n",
       "      <td>1</td>\n",
       "      <td>477c68553ff88f831026e8842fe99fe14b2ddf08821a0c...</td>\n",
       "      <td>0</td>\n",
       "      <td>0</td>\n",
       "      <td>0</td>\n",
       "      <td>0</td>\n",
       "      <td>0</td>\n",
       "      <td>0</td>\n",
       "      <td>1</td>\n",
       "      <td>0</td>\n",
       "      <td>...</td>\n",
       "      <td>2.357381e-13</td>\n",
       "      <td>2.357381e-13</td>\n",
       "      <td>2.357381e-13</td>\n",
       "      <td>2.357381e-13</td>\n",
       "      <td>2.357381e-13</td>\n",
       "      <td>2.357381e-13</td>\n",
       "      <td>2.357381e-13</td>\n",
       "      <td>2.357381e-13</td>\n",
       "      <td>2.357381e-13</td>\n",
       "      <td>8.621432e-14</td>\n",
       "    </tr>\n",
       "    <tr>\n",
       "      <th>2</th>\n",
       "      <td>2</td>\n",
       "      <td>a0371b342482a12a1932b6930f24c5cb84226c325d9e25...</td>\n",
       "      <td>0</td>\n",
       "      <td>0</td>\n",
       "      <td>0</td>\n",
       "      <td>0</td>\n",
       "      <td>0</td>\n",
       "      <td>0</td>\n",
       "      <td>1</td>\n",
       "      <td>0</td>\n",
       "      <td>...</td>\n",
       "      <td>2.459566e-13</td>\n",
       "      <td>2.459566e-13</td>\n",
       "      <td>2.459566e-13</td>\n",
       "      <td>2.459566e-13</td>\n",
       "      <td>2.459566e-13</td>\n",
       "      <td>2.459566e-13</td>\n",
       "      <td>2.459566e-13</td>\n",
       "      <td>2.459566e-13</td>\n",
       "      <td>2.459566e-13</td>\n",
       "      <td>1.081333e-13</td>\n",
       "    </tr>\n",
       "    <tr>\n",
       "      <th>3</th>\n",
       "      <td>3</td>\n",
       "      <td>26d4ebb9a6693d71077f86794f28f1480db6d096c95ecb...</td>\n",
       "      <td>0</td>\n",
       "      <td>0</td>\n",
       "      <td>0</td>\n",
       "      <td>0</td>\n",
       "      <td>0</td>\n",
       "      <td>0</td>\n",
       "      <td>0</td>\n",
       "      <td>0</td>\n",
       "      <td>...</td>\n",
       "      <td>2.259297e-13</td>\n",
       "      <td>2.259297e-13</td>\n",
       "      <td>2.259297e-13</td>\n",
       "      <td>2.259297e-13</td>\n",
       "      <td>2.259297e-13</td>\n",
       "      <td>2.259297e-13</td>\n",
       "      <td>2.259297e-13</td>\n",
       "      <td>2.259297e-13</td>\n",
       "      <td>2.259297e-13</td>\n",
       "      <td>1.476048e-13</td>\n",
       "    </tr>\n",
       "    <tr>\n",
       "      <th>4</th>\n",
       "      <td>4</td>\n",
       "      <td>361c51f12ffc337eb1293a1f49c1a5034ca708a9a46ac4...</td>\n",
       "      <td>0</td>\n",
       "      <td>0</td>\n",
       "      <td>0</td>\n",
       "      <td>0</td>\n",
       "      <td>0</td>\n",
       "      <td>0</td>\n",
       "      <td>0</td>\n",
       "      <td>0</td>\n",
       "      <td>...</td>\n",
       "      <td>1.967504e-13</td>\n",
       "      <td>1.967504e-13</td>\n",
       "      <td>1.967504e-13</td>\n",
       "      <td>1.967504e-13</td>\n",
       "      <td>1.967504e-13</td>\n",
       "      <td>1.967504e-13</td>\n",
       "      <td>1.967504e-13</td>\n",
       "      <td>1.967504e-13</td>\n",
       "      <td>1.967504e-13</td>\n",
       "      <td>1.626257e-13</td>\n",
       "    </tr>\n",
       "    <tr>\n",
       "      <th>...</th>\n",
       "      <td>...</td>\n",
       "      <td>...</td>\n",
       "      <td>...</td>\n",
       "      <td>...</td>\n",
       "      <td>...</td>\n",
       "      <td>...</td>\n",
       "      <td>...</td>\n",
       "      <td>...</td>\n",
       "      <td>...</td>\n",
       "      <td>...</td>\n",
       "      <td>...</td>\n",
       "      <td>...</td>\n",
       "      <td>...</td>\n",
       "      <td>...</td>\n",
       "      <td>...</td>\n",
       "      <td>...</td>\n",
       "      <td>...</td>\n",
       "      <td>...</td>\n",
       "      <td>...</td>\n",
       "      <td>...</td>\n",
       "      <td>...</td>\n",
       "    </tr>\n",
       "    <tr>\n",
       "      <th>10773</th>\n",
       "      <td>10773</td>\n",
       "      <td>Sha256_000C32D446A831E36F727F1331B0579FFC6EF8E...</td>\n",
       "      <td>0</td>\n",
       "      <td>0</td>\n",
       "      <td>0</td>\n",
       "      <td>0</td>\n",
       "      <td>0</td>\n",
       "      <td>0</td>\n",
       "      <td>0</td>\n",
       "      <td>0</td>\n",
       "      <td>...</td>\n",
       "      <td>2.283709e-13</td>\n",
       "      <td>2.283709e-13</td>\n",
       "      <td>2.283709e-13</td>\n",
       "      <td>2.283709e-13</td>\n",
       "      <td>2.283709e-13</td>\n",
       "      <td>2.283709e-13</td>\n",
       "      <td>2.283709e-13</td>\n",
       "      <td>2.283709e-13</td>\n",
       "      <td>2.283709e-13</td>\n",
       "      <td>2.820447e-14</td>\n",
       "    </tr>\n",
       "    <tr>\n",
       "      <th>10774</th>\n",
       "      <td>10774</td>\n",
       "      <td>Sha256_000869C011E1C7D6A0DF34BB712A2851E736B9C...</td>\n",
       "      <td>0</td>\n",
       "      <td>0</td>\n",
       "      <td>0</td>\n",
       "      <td>0</td>\n",
       "      <td>0</td>\n",
       "      <td>0</td>\n",
       "      <td>0</td>\n",
       "      <td>0</td>\n",
       "      <td>...</td>\n",
       "      <td>2.204760e-13</td>\n",
       "      <td>2.204760e-13</td>\n",
       "      <td>2.204760e-13</td>\n",
       "      <td>2.204760e-13</td>\n",
       "      <td>2.204760e-13</td>\n",
       "      <td>2.204760e-13</td>\n",
       "      <td>2.204760e-13</td>\n",
       "      <td>2.204760e-13</td>\n",
       "      <td>2.204760e-13</td>\n",
       "      <td>4.507240e-14</td>\n",
       "    </tr>\n",
       "    <tr>\n",
       "      <th>10775</th>\n",
       "      <td>10775</td>\n",
       "      <td>Sha256_000C3CF07E99F07C41C685E10978410238609A0...</td>\n",
       "      <td>0</td>\n",
       "      <td>0</td>\n",
       "      <td>0</td>\n",
       "      <td>0</td>\n",
       "      <td>0</td>\n",
       "      <td>0</td>\n",
       "      <td>0</td>\n",
       "      <td>0</td>\n",
       "      <td>...</td>\n",
       "      <td>2.182729e-13</td>\n",
       "      <td>2.182729e-13</td>\n",
       "      <td>2.182729e-13</td>\n",
       "      <td>2.182729e-13</td>\n",
       "      <td>2.182729e-13</td>\n",
       "      <td>2.182729e-13</td>\n",
       "      <td>2.182729e-13</td>\n",
       "      <td>2.182729e-13</td>\n",
       "      <td>2.182729e-13</td>\n",
       "      <td>8.638476e-14</td>\n",
       "    </tr>\n",
       "    <tr>\n",
       "      <th>10776</th>\n",
       "      <td>10776</td>\n",
       "      <td>Sha256_00223AD0498407AF755A9C8D842C9FA5EDCF2E2...</td>\n",
       "      <td>0</td>\n",
       "      <td>0</td>\n",
       "      <td>0</td>\n",
       "      <td>0</td>\n",
       "      <td>0</td>\n",
       "      <td>0</td>\n",
       "      <td>0</td>\n",
       "      <td>0</td>\n",
       "      <td>...</td>\n",
       "      <td>2.213128e-13</td>\n",
       "      <td>2.213128e-13</td>\n",
       "      <td>2.213128e-13</td>\n",
       "      <td>2.213128e-13</td>\n",
       "      <td>2.213128e-13</td>\n",
       "      <td>2.213128e-13</td>\n",
       "      <td>2.213128e-13</td>\n",
       "      <td>2.213128e-13</td>\n",
       "      <td>2.213128e-13</td>\n",
       "      <td>1.110579e-13</td>\n",
       "    </tr>\n",
       "    <tr>\n",
       "      <th>10777</th>\n",
       "      <td>10777</td>\n",
       "      <td>Sha256_00138A66E8936AF09892A0A5F7FDBD338B2BD93...</td>\n",
       "      <td>0</td>\n",
       "      <td>0</td>\n",
       "      <td>0</td>\n",
       "      <td>0</td>\n",
       "      <td>0</td>\n",
       "      <td>0</td>\n",
       "      <td>0</td>\n",
       "      <td>0</td>\n",
       "      <td>...</td>\n",
       "      <td>2.129987e-13</td>\n",
       "      <td>2.129987e-13</td>\n",
       "      <td>2.129987e-13</td>\n",
       "      <td>2.129987e-13</td>\n",
       "      <td>2.129987e-13</td>\n",
       "      <td>2.129987e-13</td>\n",
       "      <td>2.129987e-13</td>\n",
       "      <td>2.129987e-13</td>\n",
       "      <td>2.129987e-13</td>\n",
       "      <td>1.106448e-13</td>\n",
       "    </tr>\n",
       "  </tbody>\n",
       "</table>\n",
       "<p>10778 rows × 187 columns</p>\n",
       "</div>"
      ],
      "text/plain": [
       "       Unnamed: 0                                                 id  \\\n",
       "0               0  0864acb063671894c80220d3f77cbcdcb08f4aabf017cf...   \n",
       "1               1  477c68553ff88f831026e8842fe99fe14b2ddf08821a0c...   \n",
       "2               2  a0371b342482a12a1932b6930f24c5cb84226c325d9e25...   \n",
       "3               3  26d4ebb9a6693d71077f86794f28f1480db6d096c95ecb...   \n",
       "4               4  361c51f12ffc337eb1293a1f49c1a5034ca708a9a46ac4...   \n",
       "...           ...                                                ...   \n",
       "10773       10773  Sha256_000C32D446A831E36F727F1331B0579FFC6EF8E...   \n",
       "10774       10774  Sha256_000869C011E1C7D6A0DF34BB712A2851E736B9C...   \n",
       "10775       10775  Sha256_000C3CF07E99F07C41C685E10978410238609A0...   \n",
       "10776       10776  Sha256_00223AD0498407AF755A9C8D842C9FA5EDCF2E2...   \n",
       "10777       10777  Sha256_00138A66E8936AF09892A0A5F7FDBD338B2BD93...   \n",
       "\n",
       "       ACCESS_ALL_DOWNLOADS  ACCESS_BLUETOOTH_SHARE  ACCESS_CACHE_FILESYSTEM  \\\n",
       "0                         0                       0                        0   \n",
       "1                         0                       0                        0   \n",
       "2                         0                       0                        0   \n",
       "3                         0                       0                        0   \n",
       "4                         0                       0                        0   \n",
       "...                     ...                     ...                      ...   \n",
       "10773                     0                       0                        0   \n",
       "10774                     0                       0                        0   \n",
       "10775                     0                       0                        0   \n",
       "10776                     0                       0                        0   \n",
       "10777                     0                       0                        0   \n",
       "\n",
       "       ACCESS_CHECKIN_PROPERTIES  ACCESS_DOWNLOAD_MANAGER  \\\n",
       "0                              0                        0   \n",
       "1                              0                        0   \n",
       "2                              0                        0   \n",
       "3                              0                        0   \n",
       "4                              0                        0   \n",
       "...                          ...                      ...   \n",
       "10773                          0                        0   \n",
       "10774                          0                        0   \n",
       "10775                          0                        0   \n",
       "10776                          0                        0   \n",
       "10777                          0                        0   \n",
       "\n",
       "       ACCESS_DOWNLOAD_MANAGER_ADVANCED  ACCESS_LOCATION_EXTRA_COMMANDS  \\\n",
       "0                                     0                               0   \n",
       "1                                     0                               1   \n",
       "2                                     0                               1   \n",
       "3                                     0                               0   \n",
       "4                                     0                               0   \n",
       "...                                 ...                             ...   \n",
       "10773                                 0                               0   \n",
       "10774                                 0                               0   \n",
       "10775                                 0                               0   \n",
       "10776                                 0                               0   \n",
       "10777                                 0                               0   \n",
       "\n",
       "       ACCESS_MOCK_LOCATION  ...            23            24            25  \\\n",
       "0                         0  ...  1.869884e-13  1.869884e-13  1.869884e-13   \n",
       "1                         0  ...  2.357381e-13  2.357381e-13  2.357381e-13   \n",
       "2                         0  ...  2.459566e-13  2.459566e-13  2.459566e-13   \n",
       "3                         0  ...  2.259297e-13  2.259297e-13  2.259297e-13   \n",
       "4                         0  ...  1.967504e-13  1.967504e-13  1.967504e-13   \n",
       "...                     ...  ...           ...           ...           ...   \n",
       "10773                     0  ...  2.283709e-13  2.283709e-13  2.283709e-13   \n",
       "10774                     0  ...  2.204760e-13  2.204760e-13  2.204760e-13   \n",
       "10775                     0  ...  2.182729e-13  2.182729e-13  2.182729e-13   \n",
       "10776                     0  ...  2.213128e-13  2.213128e-13  2.213128e-13   \n",
       "10777                     0  ...  2.129987e-13  2.129987e-13  2.129987e-13   \n",
       "\n",
       "                 26            27            28            29            30  \\\n",
       "0      1.869884e-13  1.869884e-13  1.869884e-13  1.869884e-13  1.869884e-13   \n",
       "1      2.357381e-13  2.357381e-13  2.357381e-13  2.357381e-13  2.357381e-13   \n",
       "2      2.459566e-13  2.459566e-13  2.459566e-13  2.459566e-13  2.459566e-13   \n",
       "3      2.259297e-13  2.259297e-13  2.259297e-13  2.259297e-13  2.259297e-13   \n",
       "4      1.967504e-13  1.967504e-13  1.967504e-13  1.967504e-13  1.967504e-13   \n",
       "...             ...           ...           ...           ...           ...   \n",
       "10773  2.283709e-13  2.283709e-13  2.283709e-13  2.283709e-13  2.283709e-13   \n",
       "10774  2.204760e-13  2.204760e-13  2.204760e-13  2.204760e-13  2.204760e-13   \n",
       "10775  2.182729e-13  2.182729e-13  2.182729e-13  2.182729e-13  2.182729e-13   \n",
       "10776  2.213128e-13  2.213128e-13  2.213128e-13  2.213128e-13  2.213128e-13   \n",
       "10777  2.129987e-13  2.129987e-13  2.129987e-13  2.129987e-13  2.129987e-13   \n",
       "\n",
       "                 31            32  \n",
       "0      1.869884e-13  8.969419e-14  \n",
       "1      2.357381e-13  8.621432e-14  \n",
       "2      2.459566e-13  1.081333e-13  \n",
       "3      2.259297e-13  1.476048e-13  \n",
       "4      1.967504e-13  1.626257e-13  \n",
       "...             ...           ...  \n",
       "10773  2.283709e-13  2.820447e-14  \n",
       "10774  2.204760e-13  4.507240e-14  \n",
       "10775  2.182729e-13  8.638476e-14  \n",
       "10776  2.213128e-13  1.110579e-13  \n",
       "10777  2.129987e-13  1.106448e-13  \n",
       "\n",
       "[10778 rows x 187 columns]"
      ]
     },
     "execution_count": 43,
     "metadata": {},
     "output_type": "execute_result"
    }
   ],
   "source": [
    "data = pd.read_csv(\"datasets/processed_manifest_dex_final.csv\")\n",
    "data"
   ]
  },
  {
   "cell_type": "code",
   "execution_count": 44,
   "metadata": {},
   "outputs": [],
   "source": [
    "X = data.drop(['Unnamed: 0', \"id\", \"is_malicious\"], axis=1)  # Features\n",
    "y = data[\"is_malicious\"]  # Label"
   ]
  },
  {
   "cell_type": "code",
   "execution_count": 45,
   "metadata": {},
   "outputs": [],
   "source": [
    "X = X.to_numpy().astype('float32' )\n",
    "y = y.to_numpy().astype('int32')"
   ]
  },
  {
   "cell_type": "code",
   "execution_count": 46,
   "metadata": {},
   "outputs": [],
   "source": [
    "X_train, X_test, y_train, y_test = train_test_split( X, y, test_size=0.2, random_state=1)"
   ]
  },
  {
   "cell_type": "code",
   "execution_count": 47,
   "metadata": {},
   "outputs": [
    {
     "name": "stdout",
     "output_type": "stream",
     "text": [
      "X: (8622, 184) float32\n",
      "y: (8622,) int32\n"
     ]
    }
   ],
   "source": [
    "print(\"X:\", X_train.shape, X_train.dtype)\n",
    "print(\"y:\", y_train.shape, y_train.dtype)"
   ]
  },
  {
   "cell_type": "code",
   "execution_count": 48,
   "metadata": {},
   "outputs": [],
   "source": [
    "#prepocess data\n",
    "scaler = sklearn.preprocessing.StandardScaler().fit(X_train)\n",
    "\n",
    "X_train = scaler.transform(X_train)\n",
    "X_test = scaler.transform(X_test)"
   ]
  },
  {
   "cell_type": "code",
   "execution_count": 49,
   "metadata": {},
   "outputs": [],
   "source": [
    "Performance = pd.DataFrame()\n",
    "Metrics=['Accuracy','Recall','Precision','F1-score']\n",
    "Performance['Metrics'] = Metrics"
   ]
  },
  {
   "cell_type": "markdown",
   "metadata": {},
   "source": [
    "# Decision tree"
   ]
  },
  {
   "cell_type": "code",
   "execution_count": 50,
   "metadata": {},
   "outputs": [],
   "source": [
    "dt=sklearn.tree.DecisionTreeClassifier()\n",
    "dt.fit(X_train,y_train)\n",
    "\n",
    "y_pred_train = dt.predict(X_train)\n",
    "y_pred_test = dt.predict(X_test)\n",
    "\n"
   ]
  },
  {
   "cell_type": "code",
   "execution_count": 51,
   "metadata": {},
   "outputs": [
    {
     "name": "stdout",
     "output_type": "stream",
     "text": [
      "Train accuracy : 100.00%\n",
      "Train f1 : 100.00%\n",
      "Train recall : 100.00%\n",
      "Train precision : 100.00%\n"
     ]
    }
   ],
   "source": [
    "t_acc = accuracy_score(y_train, y_pred_train)\n",
    "t_f1 = f1_score(y_train, y_pred_train)\n",
    "t_recall = recall_score(y_train, y_pred_train)\n",
    "t_precision = precision_score(y_train, y_pred_train)\n",
    "print('Train accuracy : %.2f%%'% (100*t_acc) )\n",
    "print('Train f1 : %.2f%%'% (100*t_f1) )\n",
    "print('Train recall : %.2f%%'% (100*t_recall) )\n",
    "print('Train precision : %.2f%%'% (100*t_precision) )"
   ]
  },
  {
   "cell_type": "code",
   "execution_count": 52,
   "metadata": {},
   "outputs": [
    {
     "name": "stdout",
     "output_type": "stream",
     "text": [
      "Test accuracy : 87.99%\n",
      "Test f1 : 88.54%\n",
      "Test recall : 88.66%\n",
      "Test precision : 88.43%\n"
     ]
    }
   ],
   "source": [
    "acc = accuracy_score(y_test, y_pred_test)\n",
    "f1 = f1_score(y_test, y_pred_test)\n",
    "recall = recall_score(y_test, y_pred_test)\n",
    "precision = precision_score(y_test, y_pred_test)\n",
    "print('Test accuracy : %.2f%%'% (100*acc) )\n",
    "print('Test f1 : %.2f%%'% (100*f1) )\n",
    "print('Test recall : %.2f%%'% (100*recall) )\n",
    "print('Test precision : %.2f%%'% (100*precision) )\n",
    "\n",
    "Performance['Decision Tree'] = [acc,recall,precision,f1]"
   ]
  },
  {
   "cell_type": "code",
   "execution_count": 53,
   "metadata": {},
   "outputs": [
    {
     "data": {
      "image/png": "[encoded data removed]",
      "text/plain": [
       "<Figure size 432x288 with 2 Axes>"
      ]
     },
     "metadata": {
      "needs_background": "light"
     },
     "output_type": "display_data"
    }
   ],
   "source": [
    "plot_confusion_matrix(dt, X_test, y_test, display_labels=['Begnin','Malicious']) \n",
    "plt.show()"
   ]
  },
  {
   "cell_type": "markdown",
   "metadata": {},
   "source": [
    "# Random Forest"
   ]
  },
  {
   "cell_type": "code",
   "execution_count": 54,
   "metadata": {},
   "outputs": [],
   "source": [
    "rf=sklearn.ensemble.RandomForestClassifier(random_state=0,n_estimators=3)\n",
    "rf.fit(X_train,y_train)\n",
    "\n",
    "y_pred_train = rf.predict(X_train)\n",
    "y_pred_test = rf.predict(X_test)"
   ]
  },
  {
   "cell_type": "code",
   "execution_count": 55,
   "metadata": {},
   "outputs": [
    {
     "name": "stdout",
     "output_type": "stream",
     "text": [
      "Train accuracy : 97.36%\n",
      "Train f1 : 97.41%\n",
      "Train recall : 97.22%\n",
      "Train precision : 97.61%\n"
     ]
    }
   ],
   "source": [
    "t_acc = accuracy_score(y_train, y_pred_train)\n",
    "t_f1 = f1_score(y_train, y_pred_train)\n",
    "t_recall = recall_score(y_train, y_pred_train)\n",
    "t_precision = precision_score(y_train, y_pred_train)\n",
    "print('Train accuracy : %.2f%%'% (100*t_acc) )\n",
    "print('Train f1 : %.2f%%'% (100*t_f1) )\n",
    "print('Train recall : %.2f%%'% (100*t_recall) )\n",
    "print('Train precision : %.2f%%'% (100*t_precision) )"
   ]
  },
  {
   "cell_type": "code",
   "execution_count": 56,
   "metadata": {},
   "outputs": [
    {
     "name": "stdout",
     "output_type": "stream",
     "text": [
      "Test accuracy : 84.79%\n",
      "Test f1 : 85.36%\n",
      "Test recall : 84.68%\n",
      "Test precision : 86.05%\n"
     ]
    }
   ],
   "source": [
    "acc = accuracy_score(y_test, y_pred_test)\n",
    "f1 = f1_score(y_test, y_pred_test)\n",
    "recall = recall_score(y_test, y_pred_test)\n",
    "precision = precision_score(y_test, y_pred_test)\n",
    "print('Test accuracy : %.2f%%'% (100*acc) )\n",
    "print('Test f1 : %.2f%%'% (100*f1) )\n",
    "print('Test recall : %.2f%%'% (100*recall) )\n",
    "print('Test precision : %.2f%%'% (100*precision) )\n",
    "\n",
    "Performance['Random Forest'] = [acc,recall,precision,f1]"
   ]
  },
  {
   "cell_type": "code",
   "execution_count": 57,
   "metadata": {},
   "outputs": [
    {
     "data": {
      "image/png": "[encoded data removed]",
      "text/plain": [
       "<Figure size 432x288 with 2 Axes>"
      ]
     },
     "metadata": {
      "needs_background": "light"
     },
     "output_type": "display_data"
    }
   ],
   "source": [
    "plot_confusion_matrix(rf, X_test, y_test, display_labels=['Begnin','Malicious']) \n",
    "plt.show()"
   ]
  },
  {
   "cell_type": "markdown",
   "metadata": {},
   "source": [
    "# Logistic Regression"
   ]
  },
  {
   "cell_type": "code",
   "execution_count": 58,
   "metadata": {},
   "outputs": [
    {
     "data": {
      "text/plain": [
       "LogisticRegression(C=0.01, random_state=0)"
      ]
     },
     "execution_count": 58,
     "metadata": {},
     "output_type": "execute_result"
    }
   ],
   "source": [
    "lr = sklearn.linear_model.LogisticRegression(C=0.01, random_state=0)  # C=0.01 from Exercise 1.4\n",
    "lr.fit(X_train, y_train)"
   ]
  },
  {
   "cell_type": "code",
   "execution_count": 59,
   "metadata": {},
   "outputs": [
    {
     "name": "stdout",
     "output_type": "stream",
     "text": [
      "Train accuracy : 97.36%\n",
      "Train f1 : 97.41%\n",
      "Train recall : 97.22%\n",
      "Train precision : 97.61%\n"
     ]
    }
   ],
   "source": [
    "t_acc = accuracy_score(y_train, y_pred_train)\n",
    "t_f1 = f1_score(y_train, y_pred_train)\n",
    "t_recall = recall_score(y_train, y_pred_train)\n",
    "t_precision = precision_score(y_train, y_pred_train)\n",
    "print('Train accuracy : %.2f%%'% (100*t_acc) )\n",
    "print('Train f1 : %.2f%%'% (100*t_f1) )\n",
    "print('Train recall : %.2f%%'% (100*t_recall) )\n",
    "print('Train precision : %.2f%%'% (100*t_precision) )"
   ]
  },
  {
   "cell_type": "code",
   "execution_count": 60,
   "metadata": {},
   "outputs": [
    {
     "name": "stdout",
     "output_type": "stream",
     "text": [
      "Test accuracy : 84.79%\n",
      "Test f1 : 85.36%\n",
      "Test recall : 84.68%\n",
      "Test precision : 86.05%\n"
     ]
    }
   ],
   "source": [
    "acc = accuracy_score(y_test, y_pred_test)\n",
    "f1 = f1_score(y_test, y_pred_test)\n",
    "recall = recall_score(y_test, y_pred_test)\n",
    "precision = precision_score(y_test, y_pred_test)\n",
    "print('Test accuracy : %.2f%%'% (100*acc) )\n",
    "print('Test f1 : %.2f%%'% (100*f1) )\n",
    "print('Test recall : %.2f%%'% (100*recall) )\n",
    "print('Test precision : %.2f%%'% (100*precision) )\n",
    "\n",
    "Performance['LR'] = [acc,recall,precision,f1]"
   ]
  },
  {
   "cell_type": "code",
   "execution_count": 61,
   "metadata": {},
   "outputs": [
    {
     "data": {
      "image/png": "[encoded data removed]",
      "text/plain": [
       "<Figure size 432x288 with 2 Axes>"
      ]
     },
     "metadata": {
      "needs_background": "light"
     },
     "output_type": "display_data"
    }
   ],
   "source": [
    "plot_confusion_matrix(lr, X_test, y_test, display_labels=['Begnin','Malicious']) \n",
    "plt.show()"
   ]
  },
  {
   "cell_type": "markdown",
   "metadata": {},
   "source": [
    "# KNN"
   ]
  },
  {
   "cell_type": "code",
   "execution_count": 62,
   "metadata": {},
   "outputs": [
    {
     "name": "stdout",
     "output_type": "stream",
     "text": [
      "Train accuracy : 96.45%\n",
      "Test accuracy : 91.23%\n",
      "Train accuracy : 95.40%\n",
      "Test accuracy : 90.12%\n",
      "Train accuracy : 93.88%\n",
      "Test accuracy : 89.89%\n",
      "Train accuracy : 93.47%\n",
      "Test accuracy : 89.89%\n",
      "Train accuracy : 92.75%\n",
      "Test accuracy : 90.07%\n",
      "Train accuracy : 92.37%\n",
      "Test accuracy : 89.75%\n"
     ]
    }
   ],
   "source": [
    "for k in range(2,8):\n",
    "    knn = neigh =  sklearn.neighbors.KNeighborsClassifier(n_neighbors=k).fit(X_train,y_train)\n",
    "    y_pred_train = knn.predict(X_train)\n",
    "    y_pred_test = knn.predict(X_test)\n",
    "\n",
    "    acc_train = sklearn.metrics.accuracy_score(y_pred_train, y_train)\n",
    "    acc_test = sklearn.metrics.accuracy_score(y_pred_test, y_test)\n",
    "    print('Train accuracy : %.2f%%'% (100*acc_train))\n",
    "    print('Test accuracy : %.2f%%'% (100*acc_test))"
   ]
  },
  {
   "cell_type": "code",
   "execution_count": 63,
   "metadata": {},
   "outputs": [],
   "source": [
    "knn = neigh =  sklearn.neighbors.KNeighborsClassifier(n_neighbors=3).fit(X_train,y_train)\n",
    "y_pred_train = knn.predict(X_train)\n",
    "y_pred_test = knn.predict(X_test)"
   ]
  },
  {
   "cell_type": "code",
   "execution_count": 64,
   "metadata": {},
   "outputs": [
    {
     "name": "stdout",
     "output_type": "stream",
     "text": [
      "Train accuracy : 95.40%\n",
      "Train f1 : 95.51%\n",
      "Train recall : 95.63%\n",
      "Train precision : 95.40%\n"
     ]
    }
   ],
   "source": [
    "t_acc = accuracy_score(y_train, y_pred_train)\n",
    "t_f1 = f1_score(y_train, y_pred_train)\n",
    "t_recall = recall_score(y_train, y_pred_train)\n",
    "t_precision = precision_score(y_train, y_pred_train)\n",
    "print('Train accuracy : %.2f%%'% (100*t_acc) )\n",
    "print('Train f1 : %.2f%%'% (100*t_f1) )\n",
    "print('Train recall : %.2f%%'% (100*t_recall) )\n",
    "print('Train precision : %.2f%%'% (100*t_precision) )"
   ]
  },
  {
   "cell_type": "code",
   "execution_count": 65,
   "metadata": {},
   "outputs": [
    {
     "name": "stdout",
     "output_type": "stream",
     "text": [
      "Test accuracy : 90.12%\n",
      "Test f1 : 90.54%\n",
      "Test recall : 90.26%\n",
      "Test precision : 90.82%\n"
     ]
    }
   ],
   "source": [
    "acc = accuracy_score(y_test, y_pred_test)\n",
    "f1 = f1_score(y_test, y_pred_test)\n",
    "recall = recall_score(y_test, y_pred_test)\n",
    "precision = precision_score(y_test, y_pred_test)\n",
    "print('Test accuracy : %.2f%%'% (100*acc) )\n",
    "print('Test f1 : %.2f%%'% (100*f1) )\n",
    "print('Test recall : %.2f%%'% (100*recall) )\n",
    "print('Test precision : %.2f%%'% (100*precision) )\n",
    "\n",
    "Performance['KNN'] = [acc,recall,precision,f1]"
   ]
  },
  {
   "cell_type": "code",
   "execution_count": 66,
   "metadata": {},
   "outputs": [
    {
     "data": {
      "image/png": "[encoded data removed]",
      "text/plain": [
       "<Figure size 432x288 with 2 Axes>"
      ]
     },
     "metadata": {
      "needs_background": "light"
     },
     "output_type": "display_data"
    }
   ],
   "source": [
    "plot_confusion_matrix(knn, X_test, y_test, display_labels=['Begnin','Malicious']) \n",
    "plt.show()"
   ]
  },
  {
   "cell_type": "markdown",
   "metadata": {},
   "source": [
    "# GAUSSIAN NB"
   ]
  },
  {
   "cell_type": "code",
   "execution_count": 67,
   "metadata": {},
   "outputs": [],
   "source": [
    "gnb = GaussianNB()\n",
    "gnb.fit(X_train,y_train)\n",
    "y_pred_train = gnb.predict(X_train)\n",
    "y_pred_test = gnb.predict(X_test)\n"
   ]
  },
  {
   "cell_type": "code",
   "execution_count": 68,
   "metadata": {},
   "outputs": [
    {
     "name": "stdout",
     "output_type": "stream",
     "text": [
      "Train accuracy : 56.72%\n",
      "Train f1 : 70.29%\n",
      "Train recall : 99.91%\n",
      "Train precision : 54.22%\n"
     ]
    }
   ],
   "source": [
    "t_acc = accuracy_score(y_train, y_pred_train)\n",
    "t_f1 = f1_score(y_train, y_pred_train)\n",
    "t_recall = recall_score(y_train, y_pred_train)\n",
    "t_precision = precision_score(y_train, y_pred_train)\n",
    "print('Train accuracy : %.2f%%'% (100*t_acc) )\n",
    "print('Train f1 : %.2f%%'% (100*t_f1) )\n",
    "print('Train recall : %.2f%%'% (100*t_recall) )\n",
    "print('Train precision : %.2f%%'% (100*t_precision) )"
   ]
  },
  {
   "cell_type": "code",
   "execution_count": 69,
   "metadata": {},
   "outputs": [
    {
     "name": "stdout",
     "output_type": "stream",
     "text": [
      "Test accuracy : 57.51%\n",
      "Test f1 : 71.09%\n",
      "Test recall : 99.73%\n",
      "Test precision : 55.22%\n"
     ]
    }
   ],
   "source": [
    "acc = accuracy_score(y_test, y_pred_test)\n",
    "f1 = f1_score(y_test, y_pred_test)\n",
    "recall = recall_score(y_test, y_pred_test)\n",
    "precision = precision_score(y_test, y_pred_test)\n",
    "print('Test accuracy : %.2f%%'% (100*acc) )\n",
    "print('Test f1 : %.2f%%'% (100*f1) )\n",
    "print('Test recall : %.2f%%'% (100*recall) )\n",
    "print('Test precision : %.2f%%'% (100*precision) )\n",
    "\n",
    "Performance['Gaussian Naive Bayes'] = [acc,recall,precision,f1]"
   ]
  },
  {
   "cell_type": "code",
   "execution_count": 70,
   "metadata": {},
   "outputs": [
    {
     "data": {
      "image/png": "[encoded data removed]",
      "text/plain": [
       "<Figure size 432x288 with 2 Axes>"
      ]
     },
     "metadata": {
      "needs_background": "light"
     },
     "output_type": "display_data"
    }
   ],
   "source": [
    "plot_confusion_matrix(gnb, X_test, y_test, display_labels=['Begnin','Malicious']) \n",
    "plt.show()"
   ]
  },
  {
   "cell_type": "markdown",
   "metadata": {},
   "source": [
    "# MLP"
   ]
  },
  {
   "cell_type": "code",
   "execution_count": 71,
   "metadata": {},
   "outputs": [
    {
     "name": "stdout",
     "output_type": "stream",
     "text": [
      "Iteration 1, loss = 0.61308367\n",
      "Iteration 2, loss = 0.34744300\n",
      "Iteration 3, loss = 0.24469379\n",
      "Iteration 4, loss = 0.21969224\n",
      "Iteration 5, loss = 0.20287685\n",
      "Iteration 6, loss = 0.19134022\n",
      "Iteration 7, loss = 0.18075624\n",
      "Iteration 8, loss = 0.17376507\n",
      "Iteration 9, loss = 0.16585861\n",
      "Iteration 10, loss = 0.16079841\n",
      "Iteration 11, loss = 0.15109462\n",
      "Iteration 12, loss = 0.14409298\n",
      "Iteration 13, loss = 0.13925379\n",
      "Iteration 14, loss = 0.13483835\n",
      "Iteration 15, loss = 0.12872548\n",
      "Iteration 16, loss = 0.12396232\n",
      "Iteration 17, loss = 0.11869781\n",
      "Iteration 18, loss = 0.11384194\n",
      "Iteration 19, loss = 0.10916487\n",
      "Iteration 20, loss = 0.10784632\n",
      "Iteration 21, loss = 0.10301025\n",
      "Iteration 22, loss = 0.09744304\n",
      "Iteration 23, loss = 0.09474186\n",
      "Iteration 24, loss = 0.09364947\n",
      "Iteration 25, loss = 0.08920282\n",
      "Iteration 26, loss = 0.08355535\n",
      "Iteration 27, loss = 0.07996645\n",
      "Iteration 28, loss = 0.07718469\n",
      "Iteration 29, loss = 0.07326657\n",
      "Iteration 30, loss = 0.07495818\n",
      "Iteration 31, loss = 0.07058028\n",
      "Iteration 32, loss = 0.06174682\n",
      "Iteration 33, loss = 0.06313314\n",
      "Iteration 34, loss = 0.05975120\n",
      "Iteration 35, loss = 0.05684939\n",
      "Iteration 36, loss = 0.05277945\n",
      "Iteration 37, loss = 0.07476920\n",
      "Iteration 38, loss = 0.08092484\n",
      "Iteration 39, loss = 0.05944050\n",
      "Iteration 40, loss = 0.05338621\n",
      "Iteration 41, loss = 0.04589865\n",
      "Iteration 42, loss = 0.04461589\n",
      "Iteration 43, loss = 0.04564588\n",
      "Iteration 44, loss = 0.04461725\n",
      "Iteration 45, loss = 0.03761986\n",
      "Iteration 46, loss = 0.03910219\n",
      "Iteration 47, loss = 0.03770335\n",
      "Iteration 48, loss = 0.03062016\n",
      "Iteration 49, loss = 0.03496803\n",
      "Iteration 50, loss = 0.03022733\n",
      "Iteration 51, loss = 0.03847651\n",
      "Iteration 52, loss = 0.03491680\n",
      "Iteration 53, loss = 0.04687153\n",
      "Iteration 54, loss = 0.04367507\n",
      "Iteration 55, loss = 0.04373460\n",
      "Iteration 56, loss = 0.06480725\n",
      "Iteration 57, loss = 0.04919231\n",
      "Iteration 58, loss = 0.03734787\n",
      "Iteration 59, loss = 0.02680943\n",
      "Iteration 60, loss = 0.02310905\n",
      "Iteration 61, loss = 0.01959180\n",
      "Iteration 62, loss = 0.02107889\n",
      "Iteration 63, loss = 0.01802830\n",
      "Iteration 64, loss = 0.01519399\n",
      "Iteration 65, loss = 0.01680420\n",
      "Iteration 66, loss = 0.01403822\n",
      "Iteration 67, loss = 0.01435457\n",
      "Iteration 68, loss = 0.01270507\n",
      "Iteration 69, loss = 0.01164675\n",
      "Iteration 70, loss = 0.01552770\n",
      "Iteration 71, loss = 0.01957796\n",
      "Iteration 72, loss = 0.01621921\n",
      "Iteration 73, loss = 0.02384439\n",
      "Iteration 74, loss = 0.01312462\n",
      "Iteration 75, loss = 0.01170914\n",
      "Iteration 76, loss = 0.02709987\n",
      "Iteration 77, loss = 0.02208262\n",
      "Iteration 78, loss = 0.01530650\n",
      "Iteration 79, loss = 0.07483620\n",
      "Iteration 80, loss = 0.10881570\n",
      "Training loss did not improve more than tol=0.000100 for 10 consecutive epochs. Stopping.\n"
     ]
    }
   ],
   "source": [
    "mlp = sklearn.neural_network.MLPClassifier(hidden_layer_sizes=(60,20,5),\n",
    "                                           solver='sgd', batch_size=100, max_iter=100,\n",
    "                                           learning_rate_init=.01, momentum=0.9,\n",
    "                                           verbose=True, random_state=0)\n",
    "\n",
    "mlp.fit(X_train, y_train);\n",
    "\n",
    "y_pred_train = mlp.predict(X_train)\n",
    "y_pred_test = mlp.predict(X_test)"
   ]
  },
  {
   "cell_type": "code",
   "execution_count": 72,
   "metadata": {},
   "outputs": [
    {
     "name": "stdout",
     "output_type": "stream",
     "text": [
      "Train accuracy : 98.26%\n",
      "Train f1 : 98.31%\n",
      "Train recall : 98.91%\n",
      "Train precision : 97.72%\n"
     ]
    }
   ],
   "source": [
    "t_acc = accuracy_score(y_train, y_pred_train)\n",
    "t_f1 = f1_score(y_train, y_pred_train)\n",
    "t_recall = recall_score(y_train, y_pred_train)\n",
    "t_precision = precision_score(y_train, y_pred_train)\n",
    "print('Train accuracy : %.2f%%'% (100*t_acc) )\n",
    "print('Train f1 : %.2f%%'% (100*t_f1) )\n",
    "print('Train recall : %.2f%%'% (100*t_recall) )\n",
    "print('Train precision : %.2f%%'% (100*t_precision) )"
   ]
  },
  {
   "cell_type": "code",
   "execution_count": 73,
   "metadata": {},
   "outputs": [
    {
     "name": "stdout",
     "output_type": "stream",
     "text": [
      "Test accuracy : 91.09%\n",
      "Test f1 : 91.60%\n",
      "Test recall : 92.74%\n",
      "Test precision : 90.49%\n"
     ]
    }
   ],
   "source": [
    "acc = accuracy_score(y_test, y_pred_test)\n",
    "f1 = f1_score(y_test, y_pred_test)\n",
    "recall = recall_score(y_test, y_pred_test)\n",
    "precision = precision_score(y_test, y_pred_test)\n",
    "print('Test accuracy : %.2f%%'% (100*acc) )\n",
    "print('Test f1 : %.2f%%'% (100*f1) )\n",
    "print('Test recall : %.2f%%'% (100*recall) )\n",
    "print('Test precision : %.2f%%'% (100*precision) )\n",
    "\n",
    "Performance['MLP'] = [acc,recall,precision,f1]"
   ]
  },
  {
   "cell_type": "code",
   "execution_count": 74,
   "metadata": {},
   "outputs": [
    {
     "data": {
      "image/png": "[encoded data removed]",
      "text/plain": [
       "<Figure size 432x288 with 2 Axes>"
      ]
     },
     "metadata": {
      "needs_background": "light"
     },
     "output_type": "display_data"
    }
   ],
   "source": [
    "plot_confusion_matrix(mlp, X_test, y_test, display_labels=['Begnin','Malicious']) \n",
    "plt.show()"
   ]
  },
  {
   "cell_type": "markdown",
   "metadata": {},
   "source": [
    "# SVC"
   ]
  },
  {
   "cell_type": "code",
   "execution_count": 75,
   "metadata": {},
   "outputs": [],
   "source": [
    "y_train_svm = y_train*2 - 1\n",
    "y_test_svm = y_test*2-1\n",
    "svm = sklearn.svm.SVC(kernel='linear')\n",
    "svm.fit(X_train, y_train_svm)\n",
    "\n",
    "y_pred_train = svm.predict(X_train)\n",
    "y_pred_test = svm.predict(X_test)"
   ]
  },
  {
   "cell_type": "code",
   "execution_count": 76,
   "metadata": {},
   "outputs": [
    {
     "name": "stdout",
     "output_type": "stream",
     "text": [
      "Train accuracy : 89.00%\n",
      "Train f1 : 89.35%\n",
      "Train recall : 89.95%\n",
      "Train precision : 88.75%\n"
     ]
    }
   ],
   "source": [
    "t_acc = accuracy_score(y_train_svm, y_pred_train)\n",
    "t_f1 = f1_score(y_train_svm, y_pred_train)\n",
    "t_recall = recall_score(y_train_svm, y_pred_train)\n",
    "t_precision = precision_score(y_train_svm, y_pred_train)\n",
    "print('Train accuracy : %.2f%%'% (100*t_acc) )\n",
    "print('Train f1 : %.2f%%'% (100*t_f1) )\n",
    "print('Train recall : %.2f%%'% (100*t_recall) )\n",
    "print('Train precision : %.2f%%'% (100*t_precision) )"
   ]
  },
  {
   "cell_type": "code",
   "execution_count": 77,
   "metadata": {},
   "outputs": [
    {
     "name": "stdout",
     "output_type": "stream",
     "text": [
      "Test accuracy : 88.73%\n",
      "Test f1 : 89.33%\n",
      "Test recall : 90.08%\n",
      "Test precision : 88.59%\n"
     ]
    }
   ],
   "source": [
    "acc = accuracy_score(y_test_svm, y_pred_test)\n",
    "f1 = f1_score(y_test_svm, y_pred_test)\n",
    "recall = recall_score(y_test_svm, y_pred_test)\n",
    "precision = precision_score(y_test_svm, y_pred_test)\n",
    "print('Test accuracy : %.2f%%'% (100*acc) )\n",
    "print('Test f1 : %.2f%%'% (100*f1) )\n",
    "print('Test recall : %.2f%%'% (100*recall) )\n",
    "print('Test precision : %.2f%%'% (100*precision) )\n",
    "\n",
    "Performance['SVM'] = [acc,recall,precision,f1]"
   ]
  },
  {
   "cell_type": "code",
   "execution_count": 78,
   "metadata": {},
   "outputs": [
    {
     "data": {
      "image/png": "[encoded data removed]",
      "text/plain": [
       "<Figure size 432x288 with 2 Axes>"
      ]
     },
     "metadata": {
      "needs_background": "light"
     },
     "output_type": "display_data"
    }
   ],
   "source": [
    "plot_confusion_matrix(svm, X_test, y_test_svm, display_labels=['Begnin','Malicious']) \n",
    "plt.show()"
   ]
  },
  {
   "cell_type": "markdown",
   "metadata": {},
   "source": [
    "# ADA BOOSTING"
   ]
  },
  {
   "cell_type": "code",
   "execution_count": 79,
   "metadata": {},
   "outputs": [],
   "source": [
    "AdaB= AdaBoostClassifier(n_estimators=3, algorithm='SAMME', random_state=0).fit(X_train,y_train)\n",
    "\n",
    "y_pred_train = AdaB.predict(X_train)\n",
    "y_pred_test = AdaB.predict(X_test)"
   ]
  },
  {
   "cell_type": "code",
   "execution_count": 80,
   "metadata": {},
   "outputs": [
    {
     "name": "stdout",
     "output_type": "stream",
     "text": [
      "Train accuracy : 69.20%\n",
      "Train f1 : 63.18%\n",
      "Train recall : 51.57%\n",
      "Train precision : 81.54%\n"
     ]
    }
   ],
   "source": [
    "t_acc = accuracy_score(y_train, y_pred_train)\n",
    "t_f1 = f1_score(y_train, y_pred_train)\n",
    "t_recall = recall_score(y_train, y_pred_train)\n",
    "t_precision = precision_score(y_train, y_pred_train)\n",
    "print('Train accuracy : %.2f%%'% (100*t_acc) )\n",
    "print('Train f1 : %.2f%%'% (100*t_f1) )\n",
    "print('Train recall : %.2f%%'% (100*t_recall) )\n",
    "print('Train precision : %.2f%%'% (100*t_precision) )"
   ]
  },
  {
   "cell_type": "code",
   "execution_count": 81,
   "metadata": {},
   "outputs": [
    {
     "name": "stdout",
     "output_type": "stream",
     "text": [
      "Test accuracy : 69.85%\n",
      "Test f1 : 65.24%\n",
      "Test recall : 54.03%\n",
      "Test precision : 82.32%\n"
     ]
    }
   ],
   "source": [
    "acc = accuracy_score(y_test, y_pred_test)\n",
    "f1 = f1_score(y_test, y_pred_test)\n",
    "recall = recall_score(y_test, y_pred_test)\n",
    "precision = precision_score(y_test, y_pred_test)\n",
    "print('Test accuracy : %.2f%%'% (100*acc))\n",
    "print('Test f1 : %.2f%%'% (100*f1) )\n",
    "print('Test recall : %.2f%%'% (100*recall))\n",
    "print('Test precision : %.2f%%'% (100*precision))\n",
    "\n",
    "Performance['Ada Boosting'] = [acc,recall,precision,f1]"
   ]
  },
  {
   "cell_type": "code",
   "execution_count": 82,
   "metadata": {},
   "outputs": [
    {
     "data": {
      "image/png": "[encoded data removed]",
      "text/plain": [
       "<Figure size 432x288 with 2 Axes>"
      ]
     },
     "metadata": {
      "needs_background": "light"
     },
     "output_type": "display_data"
    }
   ],
   "source": [
    "plot_confusion_matrix(AdaB, X_test, y_test, display_labels=['Begnin','Malicious']) \n",
    "plt.show()"
   ]
  },
  {
   "cell_type": "markdown",
   "metadata": {},
   "source": [
    "# RESULTS COMPARISON"
   ]
  },
  {
   "cell_type": "code",
   "execution_count": 83,
   "metadata": {},
   "outputs": [
    {
     "data": {
      "text/html": [
       "<div>\n",
       "<style scoped>\n",
       "    .dataframe tbody tr th:only-of-type {\n",
       "        vertical-align: middle;\n",
       "    }\n",
       "\n",
       "    .dataframe tbody tr th {\n",
       "        vertical-align: top;\n",
       "    }\n",
       "\n",
       "    .dataframe thead th {\n",
       "        text-align: right;\n",
       "    }\n",
       "</style>\n",
       "<table border=\"1\" class=\"dataframe\">\n",
       "  <thead>\n",
       "    <tr style=\"text-align: right;\">\n",
       "      <th></th>\n",
       "      <th>Metrics</th>\n",
       "      <th>Decision Tree</th>\n",
       "      <th>Random Forest</th>\n",
       "      <th>LR</th>\n",
       "      <th>KNN</th>\n",
       "      <th>Gaussian Naive Bayes</th>\n",
       "      <th>MLP</th>\n",
       "      <th>SVM</th>\n",
       "      <th>Ada Boosting</th>\n",
       "    </tr>\n",
       "  </thead>\n",
       "  <tbody>\n",
       "    <tr>\n",
       "      <th>0</th>\n",
       "      <td>Accuracy</td>\n",
       "      <td>0.879870</td>\n",
       "      <td>0.847866</td>\n",
       "      <td>0.847866</td>\n",
       "      <td>0.901206</td>\n",
       "      <td>0.575139</td>\n",
       "      <td>0.910946</td>\n",
       "      <td>0.887291</td>\n",
       "      <td>0.698516</td>\n",
       "    </tr>\n",
       "    <tr>\n",
       "      <th>1</th>\n",
       "      <td>Recall</td>\n",
       "      <td>0.886625</td>\n",
       "      <td>0.846767</td>\n",
       "      <td>0.846767</td>\n",
       "      <td>0.902569</td>\n",
       "      <td>0.997343</td>\n",
       "      <td>0.927369</td>\n",
       "      <td>0.900797</td>\n",
       "      <td>0.540301</td>\n",
       "    </tr>\n",
       "    <tr>\n",
       "      <th>2</th>\n",
       "      <td>Precision</td>\n",
       "      <td>0.884276</td>\n",
       "      <td>0.860486</td>\n",
       "      <td>0.860486</td>\n",
       "      <td>0.908200</td>\n",
       "      <td>0.552231</td>\n",
       "      <td>0.904927</td>\n",
       "      <td>0.885889</td>\n",
       "      <td>0.823212</td>\n",
       "    </tr>\n",
       "    <tr>\n",
       "      <th>3</th>\n",
       "      <td>F1-score</td>\n",
       "      <td>0.885449</td>\n",
       "      <td>0.853571</td>\n",
       "      <td>0.853571</td>\n",
       "      <td>0.905375</td>\n",
       "      <td>0.710859</td>\n",
       "      <td>0.916010</td>\n",
       "      <td>0.893281</td>\n",
       "      <td>0.652406</td>\n",
       "    </tr>\n",
       "  </tbody>\n",
       "</table>\n",
       "</div>"
      ],
      "text/plain": [
       "     Metrics  Decision Tree  Random Forest        LR       KNN  \\\n",
       "0   Accuracy       0.879870       0.847866  0.847866  0.901206   \n",
       "1     Recall       0.886625       0.846767  0.846767  0.902569   \n",
       "2  Precision       0.884276       0.860486  0.860486  0.908200   \n",
       "3   F1-score       0.885449       0.853571  0.853571  0.905375   \n",
       "\n",
       "   Gaussian Naive Bayes       MLP       SVM  Ada Boosting  \n",
       "0              0.575139  0.910946  0.887291      0.698516  \n",
       "1              0.997343  0.927369  0.900797      0.540301  \n",
       "2              0.552231  0.904927  0.885889      0.823212  \n",
       "3              0.710859  0.916010  0.893281      0.652406  "
      ]
     },
     "execution_count": 83,
     "metadata": {},
     "output_type": "execute_result"
    }
   ],
   "source": [
    "Performance"
   ]
  }
 ],
 "metadata": {
  "kernelspec": {
   "display_name": "Python 3",
   "language": "python",
   "name": "python3"
  },
  "language_info": {
   "codemirror_mode": {
    "name": "ipython",
    "version": 3
   },
   "file_extension": ".py",
   "mimetype": "text/x-python",
   "name": "python",
   "nbconvert_exporter": "python",
   "pygments_lexer": "ipython3",
   "version": "3.8.3"
  }
 },
 "nbformat": 4,
 "nbformat_minor": 4
}
